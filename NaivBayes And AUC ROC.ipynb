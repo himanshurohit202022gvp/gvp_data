{
 "cells": [
  {
   "cell_type": "code",
   "execution_count": 1,
   "metadata": {},
   "outputs": [],
   "source": [
    "import pandas as pd"
   ]
  },
  {
   "cell_type": "code",
   "execution_count": 2,
   "metadata": {},
   "outputs": [
    {
     "data": {
      "text/html": [
       "<div>\n",
       "<style scoped>\n",
       "    .dataframe tbody tr th:only-of-type {\n",
       "        vertical-align: middle;\n",
       "    }\n",
       "\n",
       "    .dataframe tbody tr th {\n",
       "        vertical-align: top;\n",
       "    }\n",
       "\n",
       "    .dataframe thead th {\n",
       "        text-align: right;\n",
       "    }\n",
       "</style>\n",
       "<table border=\"1\" class=\"dataframe\">\n",
       "  <thead>\n",
       "    <tr style=\"text-align: right;\">\n",
       "      <th></th>\n",
       "      <th>Unnamed: 0</th>\n",
       "      <th>address</th>\n",
       "      <th>body</th>\n",
       "      <th>BankTrancation</th>\n",
       "    </tr>\n",
       "  </thead>\n",
       "  <tbody>\n",
       "    <tr>\n",
       "      <th>0</th>\n",
       "      <td>1</td>\n",
       "      <td>BW-SBGPPC</td>\n",
       "      <td>Transaction of  INR 2000.00  made on Prepaid C...</td>\n",
       "      <td>Yes</td>\n",
       "    </tr>\n",
       "    <tr>\n",
       "      <th>1</th>\n",
       "      <td>2</td>\n",
       "      <td>BW-SBGPPC</td>\n",
       "      <td>Transaction of  INR 3000.00  made on Prepaid C...</td>\n",
       "      <td>Yes</td>\n",
       "    </tr>\n",
       "    <tr>\n",
       "      <th>2</th>\n",
       "      <td>3</td>\n",
       "      <td>HP-TATAMF</td>\n",
       "      <td>Your Account Statement for recent transaction ...</td>\n",
       "      <td>no</td>\n",
       "    </tr>\n",
       "    <tr>\n",
       "      <th>3</th>\n",
       "      <td>4</td>\n",
       "      <td>BH-NSESMS</td>\n",
       "      <td>Dear AODXXXXX8R,Your traded value for 12-JAN-1...</td>\n",
       "      <td>no</td>\n",
       "    </tr>\n",
       "    <tr>\n",
       "      <th>4</th>\n",
       "      <td>5</td>\n",
       "      <td>BH-NSESMS</td>\n",
       "      <td>Dear AAMXXXXX1Q,Your traded value for 17-JAN-1...</td>\n",
       "      <td>no</td>\n",
       "    </tr>\n",
       "    <tr>\n",
       "      <th>...</th>\n",
       "      <td>...</td>\n",
       "      <td>...</td>\n",
       "      <td>...</td>\n",
       "      <td>...</td>\n",
       "    </tr>\n",
       "    <tr>\n",
       "      <th>488</th>\n",
       "      <td>489</td>\n",
       "      <td>BH-MBBSHN</td>\n",
       "      <td>GOOD NEWS\\r\\n\\r\\nStudents who want to take MBB...</td>\n",
       "      <td>No</td>\n",
       "    </tr>\n",
       "    <tr>\n",
       "      <th>489</th>\n",
       "      <td>490</td>\n",
       "      <td>BW-mbbsss</td>\n",
       "      <td>Lowest Pkgs\\r\\nReputed Clgs\\r\\nIn INDIA/ABROAD...</td>\n",
       "      <td>No</td>\n",
       "    </tr>\n",
       "    <tr>\n",
       "      <th>490</th>\n",
       "      <td>491</td>\n",
       "      <td>9.19E+11</td>\n",
       "      <td>I'll call you later.</td>\n",
       "      <td>No</td>\n",
       "    </tr>\n",
       "    <tr>\n",
       "      <th>491</th>\n",
       "      <td>492</td>\n",
       "      <td>BW-GMSHOP</td>\n",
       "      <td>GetMeShop- Online Shopping- Shop Stylish Cloth...</td>\n",
       "      <td>No</td>\n",
       "    </tr>\n",
       "    <tr>\n",
       "      <th>492</th>\n",
       "      <td>493</td>\n",
       "      <td>9.20E+11</td>\n",
       "      <td>This is Ajay Parikh from Gujarat Vidyapith I w...</td>\n",
       "      <td>No</td>\n",
       "    </tr>\n",
       "  </tbody>\n",
       "</table>\n",
       "<p>493 rows × 4 columns</p>\n",
       "</div>"
      ],
      "text/plain": [
       "     Unnamed: 0    address                                               body  \\\n",
       "0             1  BW-SBGPPC  Transaction of  INR 2000.00  made on Prepaid C...   \n",
       "1             2  BW-SBGPPC  Transaction of  INR 3000.00  made on Prepaid C...   \n",
       "2             3  HP-TATAMF  Your Account Statement for recent transaction ...   \n",
       "3             4  BH-NSESMS  Dear AODXXXXX8R,Your traded value for 12-JAN-1...   \n",
       "4             5  BH-NSESMS  Dear AAMXXXXX1Q,Your traded value for 17-JAN-1...   \n",
       "..          ...        ...                                                ...   \n",
       "488         489  BH-MBBSHN  GOOD NEWS\\r\\n\\r\\nStudents who want to take MBB...   \n",
       "489         490  BW-mbbsss  Lowest Pkgs\\r\\nReputed Clgs\\r\\nIn INDIA/ABROAD...   \n",
       "490         491   9.19E+11                               I'll call you later.   \n",
       "491         492  BW-GMSHOP  GetMeShop- Online Shopping- Shop Stylish Cloth...   \n",
       "492         493   9.20E+11  This is Ajay Parikh from Gujarat Vidyapith I w...   \n",
       "\n",
       "    BankTrancation  \n",
       "0              Yes  \n",
       "1              Yes  \n",
       "2               no  \n",
       "3               no  \n",
       "4               no  \n",
       "..             ...  \n",
       "488             No  \n",
       "489             No  \n",
       "490             No  \n",
       "491             No  \n",
       "492             No  \n",
       "\n",
       "[493 rows x 4 columns]"
      ]
     },
     "execution_count": 2,
     "metadata": {},
     "output_type": "execute_result"
    }
   ],
   "source": [
    "df=pd.read_csv('./smsdata.csv')\n",
    "df"
   ]
  },
  {
   "cell_type": "code",
   "execution_count": 3,
   "metadata": {},
   "outputs": [
    {
     "data": {
      "text/plain": [
       "Index(['Unnamed: 0', 'address', 'body', 'BankTrancation'], dtype='object')"
      ]
     },
     "execution_count": 3,
     "metadata": {},
     "output_type": "execute_result"
    }
   ],
   "source": [
    "df.columns"
   ]
  },
  {
   "cell_type": "code",
   "execution_count": 4,
   "metadata": {},
   "outputs": [
    {
     "data": {
      "text/html": [
       "<div>\n",
       "<style scoped>\n",
       "    .dataframe tbody tr th:only-of-type {\n",
       "        vertical-align: middle;\n",
       "    }\n",
       "\n",
       "    .dataframe tbody tr th {\n",
       "        vertical-align: top;\n",
       "    }\n",
       "\n",
       "    .dataframe thead th {\n",
       "        text-align: right;\n",
       "    }\n",
       "</style>\n",
       "<table border=\"1\" class=\"dataframe\">\n",
       "  <thead>\n",
       "    <tr style=\"text-align: right;\">\n",
       "      <th></th>\n",
       "      <th>body</th>\n",
       "      <th>BankTrancation</th>\n",
       "    </tr>\n",
       "  </thead>\n",
       "  <tbody>\n",
       "    <tr>\n",
       "      <th>0</th>\n",
       "      <td>Transaction of  INR 2000.00  made on Prepaid C...</td>\n",
       "      <td>Yes</td>\n",
       "    </tr>\n",
       "    <tr>\n",
       "      <th>1</th>\n",
       "      <td>Transaction of  INR 3000.00  made on Prepaid C...</td>\n",
       "      <td>Yes</td>\n",
       "    </tr>\n",
       "    <tr>\n",
       "      <th>2</th>\n",
       "      <td>Your Account Statement for recent transaction ...</td>\n",
       "      <td>no</td>\n",
       "    </tr>\n",
       "    <tr>\n",
       "      <th>3</th>\n",
       "      <td>Dear AODXXXXX8R,Your traded value for 12-JAN-1...</td>\n",
       "      <td>no</td>\n",
       "    </tr>\n",
       "    <tr>\n",
       "      <th>4</th>\n",
       "      <td>Dear AAMXXXXX1Q,Your traded value for 17-JAN-1...</td>\n",
       "      <td>no</td>\n",
       "    </tr>\n",
       "    <tr>\n",
       "      <th>...</th>\n",
       "      <td>...</td>\n",
       "      <td>...</td>\n",
       "    </tr>\n",
       "    <tr>\n",
       "      <th>488</th>\n",
       "      <td>GOOD NEWS\\r\\n\\r\\nStudents who want to take MBB...</td>\n",
       "      <td>No</td>\n",
       "    </tr>\n",
       "    <tr>\n",
       "      <th>489</th>\n",
       "      <td>Lowest Pkgs\\r\\nReputed Clgs\\r\\nIn INDIA/ABROAD...</td>\n",
       "      <td>No</td>\n",
       "    </tr>\n",
       "    <tr>\n",
       "      <th>490</th>\n",
       "      <td>I'll call you later.</td>\n",
       "      <td>No</td>\n",
       "    </tr>\n",
       "    <tr>\n",
       "      <th>491</th>\n",
       "      <td>GetMeShop- Online Shopping- Shop Stylish Cloth...</td>\n",
       "      <td>No</td>\n",
       "    </tr>\n",
       "    <tr>\n",
       "      <th>492</th>\n",
       "      <td>This is Ajay Parikh from Gujarat Vidyapith I w...</td>\n",
       "      <td>No</td>\n",
       "    </tr>\n",
       "  </tbody>\n",
       "</table>\n",
       "<p>493 rows × 2 columns</p>\n",
       "</div>"
      ],
      "text/plain": [
       "                                                  body BankTrancation\n",
       "0    Transaction of  INR 2000.00  made on Prepaid C...            Yes\n",
       "1    Transaction of  INR 3000.00  made on Prepaid C...            Yes\n",
       "2    Your Account Statement for recent transaction ...             no\n",
       "3    Dear AODXXXXX8R,Your traded value for 12-JAN-1...             no\n",
       "4    Dear AAMXXXXX1Q,Your traded value for 17-JAN-1...             no\n",
       "..                                                 ...            ...\n",
       "488  GOOD NEWS\\r\\n\\r\\nStudents who want to take MBB...             No\n",
       "489  Lowest Pkgs\\r\\nReputed Clgs\\r\\nIn INDIA/ABROAD...             No\n",
       "490                               I'll call you later.             No\n",
       "491  GetMeShop- Online Shopping- Shop Stylish Cloth...             No\n",
       "492  This is Ajay Parikh from Gujarat Vidyapith I w...             No\n",
       "\n",
       "[493 rows x 2 columns]"
      ]
     },
     "execution_count": 4,
     "metadata": {},
     "output_type": "execute_result"
    }
   ],
   "source": [
    "df1=df[['body','BankTrancation']]\n",
    "df1"
   ]
  },
  {
   "cell_type": "code",
   "execution_count": 5,
   "metadata": {},
   "outputs": [
    {
     "name": "stderr",
     "output_type": "stream",
     "text": [
      "<ipython-input-5-5f27844235ee>:2: FutureWarning: Passing a negative integer is deprecated in version 1.0 and will not be supported in future version. Instead, use None to not limit the column width.\n",
      "  pd.set_option('display.max_colwidth', -1)\n"
     ]
    },
    {
     "data": {
      "text/html": [
       "<div>\n",
       "<style scoped>\n",
       "    .dataframe tbody tr th:only-of-type {\n",
       "        vertical-align: middle;\n",
       "    }\n",
       "\n",
       "    .dataframe tbody tr th {\n",
       "        vertical-align: top;\n",
       "    }\n",
       "\n",
       "    .dataframe thead th {\n",
       "        text-align: right;\n",
       "    }\n",
       "</style>\n",
       "<table border=\"1\" class=\"dataframe\">\n",
       "  <thead>\n",
       "    <tr style=\"text-align: right;\">\n",
       "      <th></th>\n",
       "      <th>body</th>\n",
       "      <th>BankTrancation</th>\n",
       "    </tr>\n",
       "  </thead>\n",
       "  <tbody>\n",
       "    <tr>\n",
       "      <th>0</th>\n",
       "      <td>Transaction of  INR 2000.00  made on Prepaid Card XXXX1407   on Mon Jan 01 11:36:47 IST 2018  at CASH-ATM/+1ST ASHRAM RD BRANCH /AHMADABAD CIT/1224/ . Current balance is INR 1410.00.</td>\n",
       "      <td>Yes</td>\n",
       "    </tr>\n",
       "    <tr>\n",
       "      <th>1</th>\n",
       "      <td>Transaction of  INR 3000.00  made on Prepaid Card XXXX1407   on Mon Jan 08 16:23:12 IST 2018  at CASH-ATM/2ND ATM ASHRAM ROAD   /AHMEDABAD    /4063/ . Current balance is INR 3256.00.</td>\n",
       "      <td>Yes</td>\n",
       "    </tr>\n",
       "    <tr>\n",
       "      <th>2</th>\n",
       "      <td>Your Account Statement for recent transaction in Folio No.3791641 with TATA Mutual Fund is available in the below link. Please click the below link (valid for 5 days) and enter your PAN in CAPITALS; in case PAN is not registered in the Folio, enter your Folio No to download the Statement of Account. www.camsonline.com/dnldresult.asp?fname=Ttotmcg3onrj845.pdf - TATAMF.</td>\n",
       "      <td>no</td>\n",
       "    </tr>\n",
       "    <tr>\n",
       "      <th>3</th>\n",
       "      <td>Dear AODXXXXX8R,Your traded value for 12-JAN-18 CM Rs 26445 Check your registered email. For details contact broker.</td>\n",
       "      <td>no</td>\n",
       "    </tr>\n",
       "    <tr>\n",
       "      <th>4</th>\n",
       "      <td>Dear AAMXXXXX1Q,Your traded value for 17-JAN-18 CM Rs 31240.1 Check your registered email. For details contact broker.</td>\n",
       "      <td>no</td>\n",
       "    </tr>\n",
       "  </tbody>\n",
       "</table>\n",
       "</div>"
      ],
      "text/plain": [
       "                                                                                                                                                                                                                                                                                                                                                                                 body  \\\n",
       "0  Transaction of  INR 2000.00  made on Prepaid Card XXXX1407   on Mon Jan 01 11:36:47 IST 2018  at CASH-ATM/+1ST ASHRAM RD BRANCH /AHMADABAD CIT/1224/ . Current balance is INR 1410.00.                                                                                                                                                                                               \n",
       "1  Transaction of  INR 3000.00  made on Prepaid Card XXXX1407   on Mon Jan 08 16:23:12 IST 2018  at CASH-ATM/2ND ATM ASHRAM ROAD   /AHMEDABAD    /4063/ . Current balance is INR 3256.00.                                                                                                                                                                                               \n",
       "2  Your Account Statement for recent transaction in Folio No.3791641 with TATA Mutual Fund is available in the below link. Please click the below link (valid for 5 days) and enter your PAN in CAPITALS; in case PAN is not registered in the Folio, enter your Folio No to download the Statement of Account. www.camsonline.com/dnldresult.asp?fname=Ttotmcg3onrj845.pdf - TATAMF.   \n",
       "3  Dear AODXXXXX8R,Your traded value for 12-JAN-18 CM Rs 26445 Check your registered email. For details contact broker.                                                                                                                                                                                                                                                                 \n",
       "4  Dear AAMXXXXX1Q,Your traded value for 17-JAN-18 CM Rs 31240.1 Check your registered email. For details contact broker.                                                                                                                                                                                                                                                               \n",
       "\n",
       "  BankTrancation  \n",
       "0  Yes            \n",
       "1  Yes            \n",
       "2  no             \n",
       "3  no             \n",
       "4  no             "
      ]
     },
     "execution_count": 5,
     "metadata": {},
     "output_type": "execute_result"
    }
   ],
   "source": [
    "#expanding the dispay of text sms column\n",
    "pd.set_option('display.max_colwidth', -1)\n",
    "df1.head()"
   ]
  },
  {
   "cell_type": "code",
   "execution_count": 6,
   "metadata": {},
   "outputs": [
    {
     "data": {
      "text/plain": [
       "No     400\n",
       "Yes    73 \n",
       "no     20 \n",
       "Name: BankTrancation, dtype: int64"
      ]
     },
     "execution_count": 6,
     "metadata": {},
     "output_type": "execute_result"
    }
   ],
   "source": [
    "df1['BankTrancation'].value_counts()"
   ]
  },
  {
   "cell_type": "markdown",
   "metadata": {},
   "source": [
    "<h1>Punctuation Removal: </h1>\n"
   ]
  },
  {
   "cell_type": "code",
   "execution_count": 7,
   "metadata": {},
   "outputs": [
    {
     "data": {
      "text/plain": [
       "'!\"#$%&\\'()*+,-./:;<=>?@[\\\\]^_`{|}~'"
      ]
     },
     "execution_count": 7,
     "metadata": {},
     "output_type": "execute_result"
    }
   ],
   "source": [
    "import string\n",
    "string.punctuation"
   ]
  },
  {
   "cell_type": "code",
   "execution_count": 8,
   "metadata": {},
   "outputs": [
    {
     "name": "stderr",
     "output_type": "stream",
     "text": [
      "<ipython-input-8-fc03b60bca3d>:6: SettingWithCopyWarning: \n",
      "A value is trying to be set on a copy of a slice from a DataFrame.\n",
      "Try using .loc[row_indexer,col_indexer] = value instead\n",
      "\n",
      "See the caveats in the documentation: https://pandas.pydata.org/pandas-docs/stable/user_guide/indexing.html#returning-a-view-versus-a-copy\n",
      "  df1['clean_msg']= df1['body'].apply(lambda x:remove_punctuation(x))\n"
     ]
    },
    {
     "data": {
      "text/html": [
       "<div>\n",
       "<style scoped>\n",
       "    .dataframe tbody tr th:only-of-type {\n",
       "        vertical-align: middle;\n",
       "    }\n",
       "\n",
       "    .dataframe tbody tr th {\n",
       "        vertical-align: top;\n",
       "    }\n",
       "\n",
       "    .dataframe thead th {\n",
       "        text-align: right;\n",
       "    }\n",
       "</style>\n",
       "<table border=\"1\" class=\"dataframe\">\n",
       "  <thead>\n",
       "    <tr style=\"text-align: right;\">\n",
       "      <th></th>\n",
       "      <th>body</th>\n",
       "      <th>BankTrancation</th>\n",
       "      <th>clean_msg</th>\n",
       "    </tr>\n",
       "  </thead>\n",
       "  <tbody>\n",
       "    <tr>\n",
       "      <th>0</th>\n",
       "      <td>Transaction of  INR 2000.00  made on Prepaid Card XXXX1407   on Mon Jan 01 11:36:47 IST 2018  at CASH-ATM/+1ST ASHRAM RD BRANCH /AHMADABAD CIT/1224/ . Current balance is INR 1410.00.</td>\n",
       "      <td>Yes</td>\n",
       "      <td>Transaction of  INR 200000  made on Prepaid Card XXXX1407   on Mon Jan 01 113647 IST 2018  at CASHATM1ST ASHRAM RD BRANCH AHMADABAD CIT1224  Current balance is INR 141000</td>\n",
       "    </tr>\n",
       "    <tr>\n",
       "      <th>1</th>\n",
       "      <td>Transaction of  INR 3000.00  made on Prepaid Card XXXX1407   on Mon Jan 08 16:23:12 IST 2018  at CASH-ATM/2ND ATM ASHRAM ROAD   /AHMEDABAD    /4063/ . Current balance is INR 3256.00.</td>\n",
       "      <td>Yes</td>\n",
       "      <td>Transaction of  INR 300000  made on Prepaid Card XXXX1407   on Mon Jan 08 162312 IST 2018  at CASHATM2ND ATM ASHRAM ROAD   AHMEDABAD    4063  Current balance is INR 325600</td>\n",
       "    </tr>\n",
       "    <tr>\n",
       "      <th>2</th>\n",
       "      <td>Your Account Statement for recent transaction in Folio No.3791641 with TATA Mutual Fund is available in the below link. Please click the below link (valid for 5 days) and enter your PAN in CAPITALS; in case PAN is not registered in the Folio, enter your Folio No to download the Statement of Account. www.camsonline.com/dnldresult.asp?fname=Ttotmcg3onrj845.pdf - TATAMF.</td>\n",
       "      <td>no</td>\n",
       "      <td>Your Account Statement for recent transaction in Folio No3791641 with TATA Mutual Fund is available in the below link Please click the below link valid for 5 days and enter your PAN in CAPITALS in case PAN is not registered in the Folio enter your Folio No to download the Statement of Account wwwcamsonlinecomdnldresultaspfnameTtotmcg3onrj845pdf  TATAMF</td>\n",
       "    </tr>\n",
       "    <tr>\n",
       "      <th>3</th>\n",
       "      <td>Dear AODXXXXX8R,Your traded value for 12-JAN-18 CM Rs 26445 Check your registered email. For details contact broker.</td>\n",
       "      <td>no</td>\n",
       "      <td>Dear AODXXXXX8RYour traded value for 12JAN18 CM Rs 26445 Check your registered email For details contact broker</td>\n",
       "    </tr>\n",
       "    <tr>\n",
       "      <th>4</th>\n",
       "      <td>Dear AAMXXXXX1Q,Your traded value for 17-JAN-18 CM Rs 31240.1 Check your registered email. For details contact broker.</td>\n",
       "      <td>no</td>\n",
       "      <td>Dear AAMXXXXX1QYour traded value for 17JAN18 CM Rs 312401 Check your registered email For details contact broker</td>\n",
       "    </tr>\n",
       "  </tbody>\n",
       "</table>\n",
       "</div>"
      ],
      "text/plain": [
       "                                                                                                                                                                                                                                                                                                                                                                                 body  \\\n",
       "0  Transaction of  INR 2000.00  made on Prepaid Card XXXX1407   on Mon Jan 01 11:36:47 IST 2018  at CASH-ATM/+1ST ASHRAM RD BRANCH /AHMADABAD CIT/1224/ . Current balance is INR 1410.00.                                                                                                                                                                                               \n",
       "1  Transaction of  INR 3000.00  made on Prepaid Card XXXX1407   on Mon Jan 08 16:23:12 IST 2018  at CASH-ATM/2ND ATM ASHRAM ROAD   /AHMEDABAD    /4063/ . Current balance is INR 3256.00.                                                                                                                                                                                               \n",
       "2  Your Account Statement for recent transaction in Folio No.3791641 with TATA Mutual Fund is available in the below link. Please click the below link (valid for 5 days) and enter your PAN in CAPITALS; in case PAN is not registered in the Folio, enter your Folio No to download the Statement of Account. www.camsonline.com/dnldresult.asp?fname=Ttotmcg3onrj845.pdf - TATAMF.   \n",
       "3  Dear AODXXXXX8R,Your traded value for 12-JAN-18 CM Rs 26445 Check your registered email. For details contact broker.                                                                                                                                                                                                                                                                 \n",
       "4  Dear AAMXXXXX1Q,Your traded value for 17-JAN-18 CM Rs 31240.1 Check your registered email. For details contact broker.                                                                                                                                                                                                                                                               \n",
       "\n",
       "  BankTrancation  \\\n",
       "0  Yes             \n",
       "1  Yes             \n",
       "2  no              \n",
       "3  no              \n",
       "4  no              \n",
       "\n",
       "                                                                                                                                                                                                                                                                                                                                                            clean_msg  \n",
       "0  Transaction of  INR 200000  made on Prepaid Card XXXX1407   on Mon Jan 01 113647 IST 2018  at CASHATM1ST ASHRAM RD BRANCH AHMADABAD CIT1224  Current balance is INR 141000                                                                                                                                                                                          \n",
       "1  Transaction of  INR 300000  made on Prepaid Card XXXX1407   on Mon Jan 08 162312 IST 2018  at CASHATM2ND ATM ASHRAM ROAD   AHMEDABAD    4063  Current balance is INR 325600                                                                                                                                                                                         \n",
       "2  Your Account Statement for recent transaction in Folio No3791641 with TATA Mutual Fund is available in the below link Please click the below link valid for 5 days and enter your PAN in CAPITALS in case PAN is not registered in the Folio enter your Folio No to download the Statement of Account wwwcamsonlinecomdnldresultaspfnameTtotmcg3onrj845pdf  TATAMF  \n",
       "3  Dear AODXXXXX8RYour traded value for 12JAN18 CM Rs 26445 Check your registered email For details contact broker                                                                                                                                                                                                                                                     \n",
       "4  Dear AAMXXXXX1QYour traded value for 17JAN18 CM Rs 312401 Check your registered email For details contact broker                                                                                                                                                                                                                                                    "
      ]
     },
     "execution_count": 8,
     "metadata": {},
     "output_type": "execute_result"
    }
   ],
   "source": [
    "#defining the function to remove punctuation\n",
    "def remove_punctuation(text):\n",
    "    punctuationfree=\"\".join([i for i in text if i not in string.punctuation])\n",
    "    return punctuationfree\n",
    "#storing the puntuation free text\n",
    "df1['clean_msg']= df1['body'].apply(lambda x:remove_punctuation(x))\n",
    "df1.head()"
   ]
  },
  {
   "cell_type": "code",
   "execution_count": 9,
   "metadata": {},
   "outputs": [
    {
     "name": "stderr",
     "output_type": "stream",
     "text": [
      "<ipython-input-9-89d7574cdcda>:1: SettingWithCopyWarning: \n",
      "A value is trying to be set on a copy of a slice from a DataFrame.\n",
      "Try using .loc[row_indexer,col_indexer] = value instead\n",
      "\n",
      "See the caveats in the documentation: https://pandas.pydata.org/pandas-docs/stable/user_guide/indexing.html#returning-a-view-versus-a-copy\n",
      "  df1['clean_msg']=df1['clean_msg'].str.lower()\n"
     ]
    }
   ],
   "source": [
    "df1['clean_msg']=df1['clean_msg'].str.lower()"
   ]
  },
  {
   "cell_type": "code",
   "execution_count": 10,
   "metadata": {},
   "outputs": [
    {
     "name": "stderr",
     "output_type": "stream",
     "text": [
      "<ipython-input-10-02b584c71159>:1: SettingWithCopyWarning: \n",
      "A value is trying to be set on a copy of a slice from a DataFrame.\n",
      "Try using .loc[row_indexer,col_indexer] = value instead\n",
      "\n",
      "See the caveats in the documentation: https://pandas.pydata.org/pandas-docs/stable/user_guide/indexing.html#returning-a-view-versus-a-copy\n",
      "  df1['BankTrancation']=df1['BankTrancation'].str.lower()\n"
     ]
    }
   ],
   "source": [
    "df1['BankTrancation']=df1['BankTrancation'].str.lower()"
   ]
  },
  {
   "cell_type": "code",
   "execution_count": 11,
   "metadata": {},
   "outputs": [
    {
     "data": {
      "text/html": [
       "<div>\n",
       "<style scoped>\n",
       "    .dataframe tbody tr th:only-of-type {\n",
       "        vertical-align: middle;\n",
       "    }\n",
       "\n",
       "    .dataframe tbody tr th {\n",
       "        vertical-align: top;\n",
       "    }\n",
       "\n",
       "    .dataframe thead th {\n",
       "        text-align: right;\n",
       "    }\n",
       "</style>\n",
       "<table border=\"1\" class=\"dataframe\">\n",
       "  <thead>\n",
       "    <tr style=\"text-align: right;\">\n",
       "      <th></th>\n",
       "      <th>body</th>\n",
       "      <th>BankTrancation</th>\n",
       "      <th>clean_msg</th>\n",
       "    </tr>\n",
       "  </thead>\n",
       "  <tbody>\n",
       "    <tr>\n",
       "      <th>0</th>\n",
       "      <td>Transaction of  INR 2000.00  made on Prepaid Card XXXX1407   on Mon Jan 01 11:36:47 IST 2018  at CASH-ATM/+1ST ASHRAM RD BRANCH /AHMADABAD CIT/1224/ . Current balance is INR 1410.00.</td>\n",
       "      <td>yes</td>\n",
       "      <td>transaction of  inr 200000  made on prepaid card xxxx1407   on mon jan 01 113647 ist 2018  at cashatm1st ashram rd branch ahmadabad cit1224  current balance is inr 141000</td>\n",
       "    </tr>\n",
       "    <tr>\n",
       "      <th>1</th>\n",
       "      <td>Transaction of  INR 3000.00  made on Prepaid Card XXXX1407   on Mon Jan 08 16:23:12 IST 2018  at CASH-ATM/2ND ATM ASHRAM ROAD   /AHMEDABAD    /4063/ . Current balance is INR 3256.00.</td>\n",
       "      <td>yes</td>\n",
       "      <td>transaction of  inr 300000  made on prepaid card xxxx1407   on mon jan 08 162312 ist 2018  at cashatm2nd atm ashram road   ahmedabad    4063  current balance is inr 325600</td>\n",
       "    </tr>\n",
       "    <tr>\n",
       "      <th>2</th>\n",
       "      <td>Your Account Statement for recent transaction in Folio No.3791641 with TATA Mutual Fund is available in the below link. Please click the below link (valid for 5 days) and enter your PAN in CAPITALS; in case PAN is not registered in the Folio, enter your Folio No to download the Statement of Account. www.camsonline.com/dnldresult.asp?fname=Ttotmcg3onrj845.pdf - TATAMF.</td>\n",
       "      <td>no</td>\n",
       "      <td>your account statement for recent transaction in folio no3791641 with tata mutual fund is available in the below link please click the below link valid for 5 days and enter your pan in capitals in case pan is not registered in the folio enter your folio no to download the statement of account wwwcamsonlinecomdnldresultaspfnamettotmcg3onrj845pdf  tatamf</td>\n",
       "    </tr>\n",
       "    <tr>\n",
       "      <th>3</th>\n",
       "      <td>Dear AODXXXXX8R,Your traded value for 12-JAN-18 CM Rs 26445 Check your registered email. For details contact broker.</td>\n",
       "      <td>no</td>\n",
       "      <td>dear aodxxxxx8ryour traded value for 12jan18 cm rs 26445 check your registered email for details contact broker</td>\n",
       "    </tr>\n",
       "    <tr>\n",
       "      <th>4</th>\n",
       "      <td>Dear AAMXXXXX1Q,Your traded value for 17-JAN-18 CM Rs 31240.1 Check your registered email. For details contact broker.</td>\n",
       "      <td>no</td>\n",
       "      <td>dear aamxxxxx1qyour traded value for 17jan18 cm rs 312401 check your registered email for details contact broker</td>\n",
       "    </tr>\n",
       "    <tr>\n",
       "      <th>...</th>\n",
       "      <td>...</td>\n",
       "      <td>...</td>\n",
       "      <td>...</td>\n",
       "    </tr>\n",
       "    <tr>\n",
       "      <th>488</th>\n",
       "      <td>GOOD NEWS\\r\\n\\r\\nStudents who want to take MBBS Admission in Abroad SEPT2018\\r\\n\\r\\n#WITHOUT NEET\\r\\n#SAVE 1 YR\\r\\n#NO IELTS\\r\\n\\r\\nMBBS EUROPE\\r\\nGEORGIA\\r\\nUKRAINE\\r\\n\\r\\n9512884440\\r\\n9904184440</td>\n",
       "      <td>no</td>\n",
       "      <td>good news\\r\\n\\r\\nstudents who want to take mbbs admission in abroad sept2018\\r\\n\\r\\nwithout neet\\r\\nsave 1 yr\\r\\nno ielts\\r\\n\\r\\nmbbs europe\\r\\ngeorgia\\r\\nukraine\\r\\n\\r\\n9512884440\\r\\n9904184440</td>\n",
       "    </tr>\n",
       "    <tr>\n",
       "      <th>489</th>\n",
       "      <td>Lowest Pkgs\\r\\nReputed Clgs\\r\\nIn INDIA/ABROAD\\r\\nMBBS- 10L Pkg\\r\\nBDS- 8L Pkg\\r\\nBAMS- 15L Pkg\\r\\nBHMS- 5L Pkg\\r\\nBPT- 2.4L Pkg\\r\\nNursing- 3L Pkg\\r\\n\\r\\nCall 8000083232</td>\n",
       "      <td>no</td>\n",
       "      <td>lowest pkgs\\r\\nreputed clgs\\r\\nin indiaabroad\\r\\nmbbs 10l pkg\\r\\nbds 8l pkg\\r\\nbams 15l pkg\\r\\nbhms 5l pkg\\r\\nbpt 24l pkg\\r\\nnursing 3l pkg\\r\\n\\r\\ncall 8000083232</td>\n",
       "    </tr>\n",
       "    <tr>\n",
       "      <th>490</th>\n",
       "      <td>I'll call you later.</td>\n",
       "      <td>no</td>\n",
       "      <td>ill call you later</td>\n",
       "    </tr>\n",
       "    <tr>\n",
       "      <th>491</th>\n",
       "      <td>GetMeShop- Online Shopping- Shop Stylish Clothes for Men and Women with BIG SAVING. So Hurryyy Up. Free Shipping and Best Offers available on each order.\\r\\nhttp://getmeshop.in\\r\\nhttp://bit.ly/2LtbuaY</td>\n",
       "      <td>no</td>\n",
       "      <td>getmeshop online shopping shop stylish clothes for men and women with big saving so hurryyy up free shipping and best offers available on each order\\r\\nhttpgetmeshopin\\r\\nhttpbitly2ltbuay</td>\n",
       "    </tr>\n",
       "    <tr>\n",
       "      <th>492</th>\n",
       "      <td>This is Ajay Parikh from Gujarat Vidyapith I would like to talk to you let me know convenient time</td>\n",
       "      <td>no</td>\n",
       "      <td>this is ajay parikh from gujarat vidyapith i would like to talk to you let me know convenient time</td>\n",
       "    </tr>\n",
       "  </tbody>\n",
       "</table>\n",
       "<p>493 rows × 3 columns</p>\n",
       "</div>"
      ],
      "text/plain": [
       "                                                                                                                                                                                                                                                                                                                                                                                   body  \\\n",
       "0    Transaction of  INR 2000.00  made on Prepaid Card XXXX1407   on Mon Jan 01 11:36:47 IST 2018  at CASH-ATM/+1ST ASHRAM RD BRANCH /AHMADABAD CIT/1224/ . Current balance is INR 1410.00.                                                                                                                                                                                               \n",
       "1    Transaction of  INR 3000.00  made on Prepaid Card XXXX1407   on Mon Jan 08 16:23:12 IST 2018  at CASH-ATM/2ND ATM ASHRAM ROAD   /AHMEDABAD    /4063/ . Current balance is INR 3256.00.                                                                                                                                                                                               \n",
       "2    Your Account Statement for recent transaction in Folio No.3791641 with TATA Mutual Fund is available in the below link. Please click the below link (valid for 5 days) and enter your PAN in CAPITALS; in case PAN is not registered in the Folio, enter your Folio No to download the Statement of Account. www.camsonline.com/dnldresult.asp?fname=Ttotmcg3onrj845.pdf - TATAMF.   \n",
       "3    Dear AODXXXXX8R,Your traded value for 12-JAN-18 CM Rs 26445 Check your registered email. For details contact broker.                                                                                                                                                                                                                                                                 \n",
       "4    Dear AAMXXXXX1Q,Your traded value for 17-JAN-18 CM Rs 31240.1 Check your registered email. For details contact broker.                                                                                                                                                                                                                                                               \n",
       "..                                                                                                                      ...                                                                                                                                                                                                                                                               \n",
       "488  GOOD NEWS\\r\\n\\r\\nStudents who want to take MBBS Admission in Abroad SEPT2018\\r\\n\\r\\n#WITHOUT NEET\\r\\n#SAVE 1 YR\\r\\n#NO IELTS\\r\\n\\r\\nMBBS EUROPE\\r\\nGEORGIA\\r\\nUKRAINE\\r\\n\\r\\n9512884440\\r\\n9904184440                                                                                                                                                                                \n",
       "489  Lowest Pkgs\\r\\nReputed Clgs\\r\\nIn INDIA/ABROAD\\r\\nMBBS- 10L Pkg\\r\\nBDS- 8L Pkg\\r\\nBAMS- 15L Pkg\\r\\nBHMS- 5L Pkg\\r\\nBPT- 2.4L Pkg\\r\\nNursing- 3L Pkg\\r\\n\\r\\nCall 8000083232                                                                                                                                                                                                           \n",
       "490  I'll call you later.                                                                                                                                                                                                                                                                                                                                                                 \n",
       "491  GetMeShop- Online Shopping- Shop Stylish Clothes for Men and Women with BIG SAVING. So Hurryyy Up. Free Shipping and Best Offers available on each order.\\r\\nhttp://getmeshop.in\\r\\nhttp://bit.ly/2LtbuaY                                                                                                                                                                            \n",
       "492  This is Ajay Parikh from Gujarat Vidyapith I would like to talk to you let me know convenient time                                                                                                                                                                                                                                                                                   \n",
       "\n",
       "    BankTrancation  \\\n",
       "0    yes             \n",
       "1    yes             \n",
       "2    no              \n",
       "3    no              \n",
       "4    no              \n",
       "..   ..              \n",
       "488  no              \n",
       "489  no              \n",
       "490  no              \n",
       "491  no              \n",
       "492  no              \n",
       "\n",
       "                                                                                                                                                                                                                                                                                                                                                              clean_msg  \n",
       "0    transaction of  inr 200000  made on prepaid card xxxx1407   on mon jan 01 113647 ist 2018  at cashatm1st ashram rd branch ahmadabad cit1224  current balance is inr 141000                                                                                                                                                                                          \n",
       "1    transaction of  inr 300000  made on prepaid card xxxx1407   on mon jan 08 162312 ist 2018  at cashatm2nd atm ashram road   ahmedabad    4063  current balance is inr 325600                                                                                                                                                                                         \n",
       "2    your account statement for recent transaction in folio no3791641 with tata mutual fund is available in the below link please click the below link valid for 5 days and enter your pan in capitals in case pan is not registered in the folio enter your folio no to download the statement of account wwwcamsonlinecomdnldresultaspfnamettotmcg3onrj845pdf  tatamf  \n",
       "3    dear aodxxxxx8ryour traded value for 12jan18 cm rs 26445 check your registered email for details contact broker                                                                                                                                                                                                                                                     \n",
       "4    dear aamxxxxx1qyour traded value for 17jan18 cm rs 312401 check your registered email for details contact broker                                                                                                                                                                                                                                                    \n",
       "..                                                                                                                ...                                                                                                                                                                                                                                                    \n",
       "488  good news\\r\\n\\r\\nstudents who want to take mbbs admission in abroad sept2018\\r\\n\\r\\nwithout neet\\r\\nsave 1 yr\\r\\nno ielts\\r\\n\\r\\nmbbs europe\\r\\ngeorgia\\r\\nukraine\\r\\n\\r\\n9512884440\\r\\n9904184440                                                                                                                                                                  \n",
       "489  lowest pkgs\\r\\nreputed clgs\\r\\nin indiaabroad\\r\\nmbbs 10l pkg\\r\\nbds 8l pkg\\r\\nbams 15l pkg\\r\\nbhms 5l pkg\\r\\nbpt 24l pkg\\r\\nnursing 3l pkg\\r\\n\\r\\ncall 8000083232                                                                                                                                                                                                  \n",
       "490  ill call you later                                                                                                                                                                                                                                                                                                                                                  \n",
       "491  getmeshop online shopping shop stylish clothes for men and women with big saving so hurryyy up free shipping and best offers available on each order\\r\\nhttpgetmeshopin\\r\\nhttpbitly2ltbuay                                                                                                                                                                         \n",
       "492  this is ajay parikh from gujarat vidyapith i would like to talk to you let me know convenient time                                                                                                                                                                                                                                                                  \n",
       "\n",
       "[493 rows x 3 columns]"
      ]
     },
     "execution_count": 11,
     "metadata": {},
     "output_type": "execute_result"
    }
   ],
   "source": [
    "df1"
   ]
  },
  {
   "cell_type": "code",
   "execution_count": 12,
   "metadata": {},
   "outputs": [
    {
     "data": {
      "text/plain": [
       "array([[0, 0, 0, ..., 0, 0, 0],\n",
       "       [0, 0, 0, ..., 0, 0, 0],\n",
       "       [0, 0, 0, ..., 0, 0, 0],\n",
       "       ...,\n",
       "       [0, 0, 0, ..., 0, 0, 0],\n",
       "       [0, 0, 0, ..., 0, 0, 0],\n",
       "       [0, 0, 0, ..., 0, 0, 0]])"
      ]
     },
     "execution_count": 12,
     "metadata": {},
     "output_type": "execute_result"
    }
   ],
   "source": [
    "from sklearn.feature_extraction.text import CountVectorizer\n",
    "cv=CountVectorizer()\n",
    "x=cv.fit_transform(df1['clean_msg']).toarray()\n",
    "x"
   ]
  },
  {
   "cell_type": "code",
   "execution_count": 13,
   "metadata": {},
   "outputs": [
    {
     "data": {
      "text/plain": [
       "0      1\n",
       "1      1\n",
       "2      0\n",
       "3      0\n",
       "4      0\n",
       "      ..\n",
       "488    0\n",
       "489    0\n",
       "490    0\n",
       "491    0\n",
       "492    0\n",
       "Name: yes, Length: 493, dtype: uint8"
      ]
     },
     "execution_count": 13,
     "metadata": {},
     "output_type": "execute_result"
    }
   ],
   "source": [
    "y = pd.get_dummies(df1['BankTrancation'])\n",
    "y=y.iloc[:,1]\n",
    "y"
   ]
  },
  {
   "cell_type": "code",
   "execution_count": 14,
   "metadata": {},
   "outputs": [],
   "source": [
    "from sklearn.model_selection import train_test_split\n",
    "x_train,x_test,y_train,y_test=train_test_split(x,y,test_size=0.20,random_state=0)"
   ]
  },
  {
   "cell_type": "code",
   "execution_count": 15,
   "metadata": {},
   "outputs": [
    {
     "data": {
      "text/plain": [
       "MultinomialNB()"
      ]
     },
     "execution_count": 15,
     "metadata": {},
     "output_type": "execute_result"
    }
   ],
   "source": [
    "from sklearn.naive_bayes import MultinomialNB\n",
    "multinomial=MultinomialNB()\n",
    "multinomial.fit(x_train,y_train)"
   ]
  },
  {
   "cell_type": "code",
   "execution_count": 16,
   "metadata": {},
   "outputs": [],
   "source": [
    "y_pre=multinomial.predict(x_test)"
   ]
  },
  {
   "cell_type": "code",
   "execution_count": 17,
   "metadata": {},
   "outputs": [
    {
     "data": {
      "text/plain": [
       "0.8888888888888888"
      ]
     },
     "execution_count": 17,
     "metadata": {},
     "output_type": "execute_result"
    }
   ],
   "source": [
    "from sklearn.metrics import confusion_matrix , accuracy_score , classification_report\n",
    "import seaborn as sns\n",
    "\n",
    "acc=accuracy_score(y_test,y_pre)\n",
    "acc"
   ]
  },
  {
   "cell_type": "code",
   "execution_count": 18,
   "metadata": {},
   "outputs": [
    {
     "data": {
      "text/plain": [
       "GaussianNB()"
      ]
     },
     "execution_count": 18,
     "metadata": {},
     "output_type": "execute_result"
    }
   ],
   "source": [
    "from sklearn.naive_bayes import GaussianNB\n",
    "gaussian=GaussianNB()\n",
    "gaussian.fit(x_train,y_train)"
   ]
  },
  {
   "cell_type": "code",
   "execution_count": 19,
   "metadata": {},
   "outputs": [],
   "source": [
    "y_pre2=gaussian.predict(x_test)"
   ]
  },
  {
   "cell_type": "code",
   "execution_count": 20,
   "metadata": {},
   "outputs": [
    {
     "data": {
      "text/plain": [
       "0.8181818181818182"
      ]
     },
     "execution_count": 20,
     "metadata": {},
     "output_type": "execute_result"
    }
   ],
   "source": [
    "acc=accuracy_score(y_test,y_pre2)\n",
    "acc"
   ]
  },
  {
   "cell_type": "code",
   "execution_count": 21,
   "metadata": {},
   "outputs": [],
   "source": [
    "pred_prob1=multinomial.predict_proba(x_test)\n",
    "pred_prob2=gaussian.predict_proba(x_test)"
   ]
  },
  {
   "cell_type": "code",
   "execution_count": 22,
   "metadata": {},
   "outputs": [],
   "source": [
    "from sklearn.metrics import roc_curve\n",
    "\n",
    "fpr1,tpr1,thresh1=roc_curve(y_test,pred_prob1[:,1],pos_label=1)\n",
    "fpr2,tpr2,thresh2=roc_curve(y_test,pred_prob2[:,1],pos_label=1)\n",
    "\n",
    "\n"
   ]
  },
  {
   "cell_type": "code",
   "execution_count": 23,
   "metadata": {},
   "outputs": [
    {
     "data": {
      "image/png": "[encoded data removed]",
      "text/plain": [
       "<Figure size 576x396 with 1 Axes>"
      ]
     },
     "metadata": {},
     "output_type": "display_data"
    }
   ],
   "source": [
    "import matplotlib.pyplot as plt\n",
    "plt.style.use('seaborn')\n",
    "\n",
    "plt.plot(fpr1,tpr1,linestyle='--',color='orange',label='Multinomial')\n",
    "plt.plot(fpr2,tpr2,linestyle='--',color='green',label='Gaussian')\n",
    "\n",
    "plt.title(\"AUC-ROC Curve\")\n",
    "\n",
    "\n",
    "# x label\n",
    "plt.xlabel('False Positive Rate')\n",
    "# y label\n",
    "plt.ylabel('True Positive rate')\n",
    "plt.legend(loc='best')\n",
    "plt.show()"
   ]
  }
 ],
 "metadata": {
  "interpreter": {
   "hash": "916dbcbb3f70747c44a77c7bcd40155683ae19c65e1c03b4aa3499c5328201f1"
  },
  "kernelspec": {
   "display_name": "Python 3",
   "language": "python",
   "name": "python3"
  },
  "language_info": {
   "codemirror_mode": {
    "name": "ipython",
    "version": 3
   },
   "file_extension": ".py",
   "mimetype": "text/x-python",
   "name": "python",
   "nbconvert_exporter": "python",
   "pygments_lexer": "ipython3",
   "version": "3.8.10"
  }
 },
 "nbformat": 4,
 "nbformat_minor": 2
}
