{
  "nbformat": 4,
  "nbformat_minor": 0,
  "metadata": {
    "colab": {
      "name": "05_10_Dataset_Cleaning.ipynb",
      "provenance": [],
      "collapsed_sections": []
    },
    "kernelspec": {
      "display_name": "Python 3",
      "name": "python3"
    },
    "language_info": {
      "name": "python"
    }
  },
  "cells": [
    {
      "cell_type": "code",
      "metadata": {
        "colab": {
          "base_uri": "https://localhost:8080/"
        },
        "id": "X4Z_2GJfbpTk",
        "outputId": "c345c9bd-0b63-430d-9752-71ebc227020f"
      },
      "source": [
        "from google.colab import drive\n",
        "drive.mount('/content/drive')"
      ],
      "execution_count": null,
      "outputs": [
        {
          "output_type": "stream",
          "name": "stdout",
          "text": [
            "Mounted at /content/drive\n"
          ]
        }
      ]
    },
    {
      "cell_type": "code",
      "metadata": {
        "id": "If0BFQVEb0-f"
      },
      "source": [
        "path=\"/content/drive/MyDrive/Colab Notebooks/Adsense.csv\""
      ],
      "execution_count": null,
      "outputs": []
    },
    {
      "cell_type": "code",
      "metadata": {
        "id": "LMCgcNjTDl5t"
      },
      "source": [
        "import pandas as pd\n",
        "import numpy as np"
      ],
      "execution_count": null,
      "outputs": []
    },
    {
      "cell_type": "markdown",
      "metadata": {
        "id": "-6UtiMSVruf4"
      },
      "source": [
        "Now read the dataset into datframe"
      ]
    },
    {
      "cell_type": "code",
      "metadata": {
        "colab": {
          "base_uri": "https://localhost:8080/",
          "height": 708
        },
        "id": "rPRWher7DqL1",
        "outputId": "f51a5bc1-ee0b-4779-8648-6d981db699ec"
      },
      "source": [
        "adsdata=pd.read_csv(path)\n",
        "adsdata"
      ],
      "execution_count": null,
      "outputs": [
        {
          "output_type": "execute_result",
          "data": {
            "text/html": [
              "<div>\n",
              "<style scoped>\n",
              "    .dataframe tbody tr th:only-of-type {\n",
              "        vertical-align: middle;\n",
              "    }\n",
              "\n",
              "    .dataframe tbody tr th {\n",
              "        vertical-align: top;\n",
              "    }\n",
              "\n",
              "    .dataframe thead th {\n",
              "        text-align: right;\n",
              "    }\n",
              "</style>\n",
              "<table border=\"1\" class=\"dataframe\">\n",
              "  <thead>\n",
              "    <tr style=\"text-align: right;\">\n",
              "      <th></th>\n",
              "      <th>Month</th>\n",
              "      <th>Page views</th>\n",
              "      <th>Impressions</th>\n",
              "      <th>Clicks</th>\n",
              "      <th>Page RPM (INR)</th>\n",
              "      <th>Impression RPM (INR)</th>\n",
              "      <th>Active View Viewable</th>\n",
              "      <th>Estimated earnings (INR)</th>\n",
              "    </tr>\n",
              "  </thead>\n",
              "  <tbody>\n",
              "    <tr>\n",
              "      <th>0</th>\n",
              "      <td>2018-06-20 - 2018-06-30</td>\n",
              "      <td>472</td>\n",
              "      <td>499</td>\n",
              "      <td>31</td>\n",
              "      <td>237.48</td>\n",
              "      <td>224.63</td>\n",
              "      <td>69.96%</td>\n",
              "      <td>112.09</td>\n",
              "    </tr>\n",
              "    <tr>\n",
              "      <th>1</th>\n",
              "      <td>2018-07-01 - 2018-07-31</td>\n",
              "      <td>226</td>\n",
              "      <td>595</td>\n",
              "      <td>11</td>\n",
              "      <td>306.66</td>\n",
              "      <td>116.48</td>\n",
              "      <td>74.39%</td>\n",
              "      <td>69.30</td>\n",
              "    </tr>\n",
              "    <tr>\n",
              "      <th>2</th>\n",
              "      <td>2018-08-01 - 2018-08-31</td>\n",
              "      <td>293</td>\n",
              "      <td>1201</td>\n",
              "      <td>2</td>\n",
              "      <td>46.81</td>\n",
              "      <td>11.42</td>\n",
              "      <td>76.02%</td>\n",
              "      <td>13.72</td>\n",
              "    </tr>\n",
              "    <tr>\n",
              "      <th>3</th>\n",
              "      <td>2018-09-01 - 2018-09-30</td>\n",
              "      <td>316</td>\n",
              "      <td>1283</td>\n",
              "      <td>1</td>\n",
              "      <td>126.09</td>\n",
              "      <td>31.06</td>\n",
              "      <td>73.72%</td>\n",
              "      <td>39.85</td>\n",
              "    </tr>\n",
              "    <tr>\n",
              "      <th>4</th>\n",
              "      <td>2018-10-01 - 2018-10-31</td>\n",
              "      <td>260</td>\n",
              "      <td>972</td>\n",
              "      <td>0</td>\n",
              "      <td>63.15</td>\n",
              "      <td>16.89</td>\n",
              "      <td>58.51%</td>\n",
              "      <td>16.42</td>\n",
              "    </tr>\n",
              "    <tr>\n",
              "      <th>5</th>\n",
              "      <td>2018-11-01 - 2018-11-30</td>\n",
              "      <td>160</td>\n",
              "      <td>705</td>\n",
              "      <td>0</td>\n",
              "      <td>45.37</td>\n",
              "      <td>10.30</td>\n",
              "      <td>66.90%</td>\n",
              "      <td>7.26</td>\n",
              "    </tr>\n",
              "    <tr>\n",
              "      <th>6</th>\n",
              "      <td>2018-12-01 - 2018-12-31</td>\n",
              "      <td>526</td>\n",
              "      <td>1692</td>\n",
              "      <td>4</td>\n",
              "      <td>26.28</td>\n",
              "      <td>8.17</td>\n",
              "      <td>53.80%</td>\n",
              "      <td>13.82</td>\n",
              "    </tr>\n",
              "    <tr>\n",
              "      <th>7</th>\n",
              "      <td>2019-01-01 - 2019-01-31</td>\n",
              "      <td>95</td>\n",
              "      <td>335</td>\n",
              "      <td>1</td>\n",
              "      <td>178.15</td>\n",
              "      <td>50.52</td>\n",
              "      <td>57.01%</td>\n",
              "      <td>16.92</td>\n",
              "    </tr>\n",
              "    <tr>\n",
              "      <th>8</th>\n",
              "      <td>2019-02-01 - 2019-02-28</td>\n",
              "      <td>41</td>\n",
              "      <td>148</td>\n",
              "      <td>0</td>\n",
              "      <td>186.41</td>\n",
              "      <td>51.64</td>\n",
              "      <td>87.76%</td>\n",
              "      <td>7.64</td>\n",
              "    </tr>\n",
              "    <tr>\n",
              "      <th>9</th>\n",
              "      <td>2019-03-01 - 2019-03-31</td>\n",
              "      <td>33</td>\n",
              "      <td>46</td>\n",
              "      <td>0</td>\n",
              "      <td>7.66</td>\n",
              "      <td>5.50</td>\n",
              "      <td>100.00%</td>\n",
              "      <td>0.25</td>\n",
              "    </tr>\n",
              "    <tr>\n",
              "      <th>10</th>\n",
              "      <td>2019-04-01 - 2019-04-30</td>\n",
              "      <td>121</td>\n",
              "      <td>449</td>\n",
              "      <td>1</td>\n",
              "      <td>36.89</td>\n",
              "      <td>9.94</td>\n",
              "      <td>60.09%</td>\n",
              "      <td>4.46</td>\n",
              "    </tr>\n",
              "    <tr>\n",
              "      <th>11</th>\n",
              "      <td>2019-05-01 - 2019-05-31</td>\n",
              "      <td>525</td>\n",
              "      <td>1738</td>\n",
              "      <td>1</td>\n",
              "      <td>87.23</td>\n",
              "      <td>26.35</td>\n",
              "      <td>62.66%</td>\n",
              "      <td>45.80</td>\n",
              "    </tr>\n",
              "    <tr>\n",
              "      <th>12</th>\n",
              "      <td>2019-06-01 - 2019-06-30</td>\n",
              "      <td>186</td>\n",
              "      <td>548</td>\n",
              "      <td>0</td>\n",
              "      <td>133.94</td>\n",
              "      <td>45.46</td>\n",
              "      <td>85.08%</td>\n",
              "      <td>24.91</td>\n",
              "    </tr>\n",
              "    <tr>\n",
              "      <th>13</th>\n",
              "      <td>2019-07-01 - 2019-07-31</td>\n",
              "      <td>125</td>\n",
              "      <td>443</td>\n",
              "      <td>2</td>\n",
              "      <td>101.06</td>\n",
              "      <td>28.52</td>\n",
              "      <td>94.80%</td>\n",
              "      <td>12.63</td>\n",
              "    </tr>\n",
              "    <tr>\n",
              "      <th>14</th>\n",
              "      <td>2019-08-01 - 2019-08-31</td>\n",
              "      <td>725</td>\n",
              "      <td>1734</td>\n",
              "      <td>0</td>\n",
              "      <td>86.41</td>\n",
              "      <td>36.13</td>\n",
              "      <td>100.00%</td>\n",
              "      <td>62.65</td>\n",
              "    </tr>\n",
              "    <tr>\n",
              "      <th>15</th>\n",
              "      <td>2019-09-01 - 2019-09-30</td>\n",
              "      <td>419</td>\n",
              "      <td>1003</td>\n",
              "      <td>7</td>\n",
              "      <td>51.70</td>\n",
              "      <td>21.60</td>\n",
              "      <td>85.34%</td>\n",
              "      <td>21.66</td>\n",
              "    </tr>\n",
              "    <tr>\n",
              "      <th>16</th>\n",
              "      <td>2019-10-01 - 2019-10-31</td>\n",
              "      <td>332</td>\n",
              "      <td>518</td>\n",
              "      <td>7</td>\n",
              "      <td>144.88</td>\n",
              "      <td>92.86</td>\n",
              "      <td>100.00%</td>\n",
              "      <td>48.10</td>\n",
              "    </tr>\n",
              "    <tr>\n",
              "      <th>17</th>\n",
              "      <td>2019-11-01 - 2019-11-30</td>\n",
              "      <td>654</td>\n",
              "      <td>639</td>\n",
              "      <td>3</td>\n",
              "      <td>19.02</td>\n",
              "      <td>19.46</td>\n",
              "      <td>100.00%</td>\n",
              "      <td>12.44</td>\n",
              "    </tr>\n",
              "    <tr>\n",
              "      <th>18</th>\n",
              "      <td>2019-12-01 - 2019-12-31</td>\n",
              "      <td>830</td>\n",
              "      <td>978</td>\n",
              "      <td>5</td>\n",
              "      <td>18.32</td>\n",
              "      <td>15.55</td>\n",
              "      <td>75.47%</td>\n",
              "      <td>15.20</td>\n",
              "    </tr>\n",
              "    <tr>\n",
              "      <th>19</th>\n",
              "      <td>2020-01-01 - 2020-01-31</td>\n",
              "      <td>366</td>\n",
              "      <td>524</td>\n",
              "      <td>1</td>\n",
              "      <td>3.59</td>\n",
              "      <td>2.51</td>\n",
              "      <td>96.51%</td>\n",
              "      <td>1.31</td>\n",
              "    </tr>\n",
              "    <tr>\n",
              "      <th>20</th>\n",
              "      <td>2020-02-01 - 2020-02-14</td>\n",
              "      <td>325</td>\n",
              "      <td>749</td>\n",
              "      <td>6</td>\n",
              "      <td>54.20</td>\n",
              "      <td>23.52</td>\n",
              "      <td>100.00%</td>\n",
              "      <td>17.62</td>\n",
              "    </tr>\n",
              "  </tbody>\n",
              "</table>\n",
              "</div>"
            ],
            "text/plain": [
              "                      Month  ...  Estimated earnings (INR)\n",
              "0   2018-06-20 - 2018-06-30  ...                    112.09\n",
              "1   2018-07-01 - 2018-07-31  ...                     69.30\n",
              "2   2018-08-01 - 2018-08-31  ...                     13.72\n",
              "3   2018-09-01 - 2018-09-30  ...                     39.85\n",
              "4   2018-10-01 - 2018-10-31  ...                     16.42\n",
              "5   2018-11-01 - 2018-11-30  ...                      7.26\n",
              "6   2018-12-01 - 2018-12-31  ...                     13.82\n",
              "7   2019-01-01 - 2019-01-31  ...                     16.92\n",
              "8   2019-02-01 - 2019-02-28  ...                      7.64\n",
              "9   2019-03-01 - 2019-03-31  ...                      0.25\n",
              "10  2019-04-01 - 2019-04-30  ...                      4.46\n",
              "11  2019-05-01 - 2019-05-31  ...                     45.80\n",
              "12  2019-06-01 - 2019-06-30  ...                     24.91\n",
              "13  2019-07-01 - 2019-07-31  ...                     12.63\n",
              "14  2019-08-01 - 2019-08-31  ...                     62.65\n",
              "15  2019-09-01 - 2019-09-30  ...                     21.66\n",
              "16  2019-10-01 - 2019-10-31  ...                     48.10\n",
              "17  2019-11-01 - 2019-11-30  ...                     12.44\n",
              "18  2019-12-01 - 2019-12-31  ...                     15.20\n",
              "19  2020-01-01 - 2020-01-31  ...                      1.31\n",
              "20  2020-02-01 - 2020-02-14  ...                     17.62\n",
              "\n",
              "[21 rows x 8 columns]"
            ]
          },
          "metadata": {},
          "execution_count": 4
        }
      ]
    },
    {
      "cell_type": "code",
      "metadata": {
        "id": "D1gvRQRjNr1C"
      },
      "source": [
        "total_cell=np.product(adsdata.shape)\n",
        "total_cell\n",
        "total_missing=adsdata.isnull().sum()\n",
        "total_ms=total_missing."
      ],
      "execution_count": null,
      "outputs": []
    },
    {
      "cell_type": "markdown",
      "metadata": {
        "id": "L0JoRG3Ur0AO"
      },
      "source": [
        "get datframe shape of how many columns and rows are there"
      ]
    },
    {
      "cell_type": "code",
      "metadata": {
        "colab": {
          "base_uri": "https://localhost:8080/"
        },
        "id": "12wAYPd2DxAS",
        "outputId": "09917c5b-5c8e-43a2-8c61-80c2f3234cff"
      },
      "source": [
        "adsdata.shape"
      ],
      "execution_count": null,
      "outputs": [
        {
          "output_type": "execute_result",
          "data": {
            "text/plain": [
              "(21, 8)"
            ]
          },
          "metadata": {},
          "execution_count": 5
        }
      ]
    },
    {
      "cell_type": "markdown",
      "metadata": {
        "id": "fhGQ1wmqrPfb"
      },
      "source": [
        "Using sample function we get sample data for understand what type of data in dataframe"
      ]
    },
    {
      "cell_type": "code",
      "metadata": {
        "colab": {
          "base_uri": "https://localhost:8080/",
          "height": 359
        },
        "id": "ts89t4WCrOne",
        "outputId": "14905481-a40a-4aa9-bb94-52d76289e3b8"
      },
      "source": [
        "adsdata.sample(10)"
      ],
      "execution_count": null,
      "outputs": [
        {
          "output_type": "execute_result",
          "data": {
            "text/html": [
              "<div>\n",
              "<style scoped>\n",
              "    .dataframe tbody tr th:only-of-type {\n",
              "        vertical-align: middle;\n",
              "    }\n",
              "\n",
              "    .dataframe tbody tr th {\n",
              "        vertical-align: top;\n",
              "    }\n",
              "\n",
              "    .dataframe thead th {\n",
              "        text-align: right;\n",
              "    }\n",
              "</style>\n",
              "<table border=\"1\" class=\"dataframe\">\n",
              "  <thead>\n",
              "    <tr style=\"text-align: right;\">\n",
              "      <th></th>\n",
              "      <th>Month</th>\n",
              "      <th>Page views</th>\n",
              "      <th>Impressions</th>\n",
              "      <th>Clicks</th>\n",
              "      <th>Page RPM (INR)</th>\n",
              "      <th>Impression RPM (INR)</th>\n",
              "      <th>Active View Viewable</th>\n",
              "      <th>Estimated earnings (INR)</th>\n",
              "    </tr>\n",
              "  </thead>\n",
              "  <tbody>\n",
              "    <tr>\n",
              "      <th>2</th>\n",
              "      <td>2018-08-01 - 2018-08-31</td>\n",
              "      <td>293</td>\n",
              "      <td>1201</td>\n",
              "      <td>2</td>\n",
              "      <td>46.81</td>\n",
              "      <td>11.42</td>\n",
              "      <td>76.02%</td>\n",
              "      <td>13.72</td>\n",
              "    </tr>\n",
              "    <tr>\n",
              "      <th>7</th>\n",
              "      <td>2019-01-01 - 2019-01-31</td>\n",
              "      <td>95</td>\n",
              "      <td>335</td>\n",
              "      <td>1</td>\n",
              "      <td>178.15</td>\n",
              "      <td>50.52</td>\n",
              "      <td>57.01%</td>\n",
              "      <td>16.92</td>\n",
              "    </tr>\n",
              "    <tr>\n",
              "      <th>8</th>\n",
              "      <td>2019-02-01 - 2019-02-28</td>\n",
              "      <td>41</td>\n",
              "      <td>148</td>\n",
              "      <td>0</td>\n",
              "      <td>186.41</td>\n",
              "      <td>51.64</td>\n",
              "      <td>87.76%</td>\n",
              "      <td>7.64</td>\n",
              "    </tr>\n",
              "    <tr>\n",
              "      <th>14</th>\n",
              "      <td>2019-08-01 - 2019-08-31</td>\n",
              "      <td>725</td>\n",
              "      <td>1734</td>\n",
              "      <td>0</td>\n",
              "      <td>86.41</td>\n",
              "      <td>36.13</td>\n",
              "      <td>100.00%</td>\n",
              "      <td>62.65</td>\n",
              "    </tr>\n",
              "    <tr>\n",
              "      <th>18</th>\n",
              "      <td>2019-12-01 - 2019-12-31</td>\n",
              "      <td>830</td>\n",
              "      <td>978</td>\n",
              "      <td>5</td>\n",
              "      <td>18.32</td>\n",
              "      <td>15.55</td>\n",
              "      <td>75.47%</td>\n",
              "      <td>15.20</td>\n",
              "    </tr>\n",
              "    <tr>\n",
              "      <th>20</th>\n",
              "      <td>2020-02-01 - 2020-02-14</td>\n",
              "      <td>325</td>\n",
              "      <td>749</td>\n",
              "      <td>6</td>\n",
              "      <td>54.20</td>\n",
              "      <td>23.52</td>\n",
              "      <td>100.00%</td>\n",
              "      <td>17.62</td>\n",
              "    </tr>\n",
              "    <tr>\n",
              "      <th>5</th>\n",
              "      <td>2018-11-01 - 2018-11-30</td>\n",
              "      <td>160</td>\n",
              "      <td>705</td>\n",
              "      <td>0</td>\n",
              "      <td>45.37</td>\n",
              "      <td>10.30</td>\n",
              "      <td>66.90%</td>\n",
              "      <td>7.26</td>\n",
              "    </tr>\n",
              "    <tr>\n",
              "      <th>13</th>\n",
              "      <td>2019-07-01 - 2019-07-31</td>\n",
              "      <td>125</td>\n",
              "      <td>443</td>\n",
              "      <td>2</td>\n",
              "      <td>101.06</td>\n",
              "      <td>28.52</td>\n",
              "      <td>94.80%</td>\n",
              "      <td>12.63</td>\n",
              "    </tr>\n",
              "    <tr>\n",
              "      <th>19</th>\n",
              "      <td>2020-01-01 - 2020-01-31</td>\n",
              "      <td>366</td>\n",
              "      <td>524</td>\n",
              "      <td>1</td>\n",
              "      <td>3.59</td>\n",
              "      <td>2.51</td>\n",
              "      <td>96.51%</td>\n",
              "      <td>1.31</td>\n",
              "    </tr>\n",
              "    <tr>\n",
              "      <th>17</th>\n",
              "      <td>2019-11-01 - 2019-11-30</td>\n",
              "      <td>654</td>\n",
              "      <td>639</td>\n",
              "      <td>3</td>\n",
              "      <td>19.02</td>\n",
              "      <td>19.46</td>\n",
              "      <td>100.00%</td>\n",
              "      <td>12.44</td>\n",
              "    </tr>\n",
              "  </tbody>\n",
              "</table>\n",
              "</div>"
            ],
            "text/plain": [
              "                      Month  ...  Estimated earnings (INR)\n",
              "2   2018-08-01 - 2018-08-31  ...                     13.72\n",
              "7   2019-01-01 - 2019-01-31  ...                     16.92\n",
              "8   2019-02-01 - 2019-02-28  ...                      7.64\n",
              "14  2019-08-01 - 2019-08-31  ...                     62.65\n",
              "18  2019-12-01 - 2019-12-31  ...                     15.20\n",
              "20  2020-02-01 - 2020-02-14  ...                     17.62\n",
              "5   2018-11-01 - 2018-11-30  ...                      7.26\n",
              "13  2019-07-01 - 2019-07-31  ...                     12.63\n",
              "19  2020-01-01 - 2020-01-31  ...                      1.31\n",
              "17  2019-11-01 - 2019-11-30  ...                     12.44\n",
              "\n",
              "[10 rows x 8 columns]"
            ]
          },
          "metadata": {},
          "execution_count": 30
        }
      ]
    },
    {
      "cell_type": "markdown",
      "metadata": {
        "id": "B82vr2ZXr7c9"
      },
      "source": [
        "Using dataframe info function get the information about the datframe columns value type"
      ]
    },
    {
      "cell_type": "code",
      "metadata": {
        "colab": {
          "base_uri": "https://localhost:8080/"
        },
        "id": "3wbpo4y1Dzt_",
        "outputId": "b226d5a3-2623-458b-b149-767c7f7d6a30"
      },
      "source": [
        "adsdata.info()"
      ],
      "execution_count": null,
      "outputs": [
        {
          "output_type": "stream",
          "name": "stdout",
          "text": [
            "<class 'pandas.core.frame.DataFrame'>\n",
            "RangeIndex: 21 entries, 0 to 20\n",
            "Data columns (total 8 columns):\n",
            " #   Column                    Non-Null Count  Dtype  \n",
            "---  ------                    --------------  -----  \n",
            " 0   Month                     21 non-null     object \n",
            " 1   Page views                21 non-null     int64  \n",
            " 2   Impressions               21 non-null     int64  \n",
            " 3   Clicks                    21 non-null     int64  \n",
            " 4   Page RPM (INR)            21 non-null     float64\n",
            " 5   Impression RPM (INR)      21 non-null     float64\n",
            " 6   Active View Viewable      21 non-null     object \n",
            " 7   Estimated earnings (INR)  21 non-null     float64\n",
            "dtypes: float64(3), int64(3), object(2)\n",
            "memory usage: 1.4+ KB\n"
          ]
        }
      ]
    },
    {
      "cell_type": "code",
      "metadata": {
        "colab": {
          "base_uri": "https://localhost:8080/",
          "height": 297
        },
        "id": "KN4G9NLi1x-4",
        "outputId": "4c6ce26a-cde3-4485-f884-129adbd9ba46"
      },
      "source": [
        "adsdata.describe()"
      ],
      "execution_count": null,
      "outputs": [
        {
          "output_type": "execute_result",
          "data": {
            "text/html": [
              "<div>\n",
              "<style scoped>\n",
              "    .dataframe tbody tr th:only-of-type {\n",
              "        vertical-align: middle;\n",
              "    }\n",
              "\n",
              "    .dataframe tbody tr th {\n",
              "        vertical-align: top;\n",
              "    }\n",
              "\n",
              "    .dataframe thead th {\n",
              "        text-align: right;\n",
              "    }\n",
              "</style>\n",
              "<table border=\"1\" class=\"dataframe\">\n",
              "  <thead>\n",
              "    <tr style=\"text-align: right;\">\n",
              "      <th></th>\n",
              "      <th>Page views</th>\n",
              "      <th>Impressions</th>\n",
              "      <th>Clicks</th>\n",
              "      <th>Page RPM (INR)</th>\n",
              "      <th>Impression RPM (INR)</th>\n",
              "      <th>Estimated earnings (INR)</th>\n",
              "    </tr>\n",
              "  </thead>\n",
              "  <tbody>\n",
              "    <tr>\n",
              "      <th>count</th>\n",
              "      <td>21.000000</td>\n",
              "      <td>21.000000</td>\n",
              "      <td>21.000000</td>\n",
              "      <td>21.000000</td>\n",
              "      <td>21.000000</td>\n",
              "      <td>21.000000</td>\n",
              "    </tr>\n",
              "    <tr>\n",
              "      <th>mean</th>\n",
              "      <td>334.761905</td>\n",
              "      <td>799.952381</td>\n",
              "      <td>3.952381</td>\n",
              "      <td>93.395238</td>\n",
              "      <td>40.405238</td>\n",
              "      <td>26.859524</td>\n",
              "    </tr>\n",
              "    <tr>\n",
              "      <th>std</th>\n",
              "      <td>223.153961</td>\n",
              "      <td>494.686919</td>\n",
              "      <td>6.895478</td>\n",
              "      <td>80.787799</td>\n",
              "      <td>50.888343</td>\n",
              "      <td>27.526495</td>\n",
              "    </tr>\n",
              "    <tr>\n",
              "      <th>min</th>\n",
              "      <td>33.000000</td>\n",
              "      <td>46.000000</td>\n",
              "      <td>0.000000</td>\n",
              "      <td>3.590000</td>\n",
              "      <td>2.510000</td>\n",
              "      <td>0.250000</td>\n",
              "    </tr>\n",
              "    <tr>\n",
              "      <th>25%</th>\n",
              "      <td>160.000000</td>\n",
              "      <td>499.000000</td>\n",
              "      <td>0.000000</td>\n",
              "      <td>36.890000</td>\n",
              "      <td>11.420000</td>\n",
              "      <td>12.440000</td>\n",
              "    </tr>\n",
              "    <tr>\n",
              "      <th>50%</th>\n",
              "      <td>316.000000</td>\n",
              "      <td>639.000000</td>\n",
              "      <td>1.000000</td>\n",
              "      <td>63.150000</td>\n",
              "      <td>23.520000</td>\n",
              "      <td>16.420000</td>\n",
              "    </tr>\n",
              "    <tr>\n",
              "      <th>75%</th>\n",
              "      <td>472.000000</td>\n",
              "      <td>1003.000000</td>\n",
              "      <td>5.000000</td>\n",
              "      <td>133.940000</td>\n",
              "      <td>45.460000</td>\n",
              "      <td>39.850000</td>\n",
              "    </tr>\n",
              "    <tr>\n",
              "      <th>max</th>\n",
              "      <td>830.000000</td>\n",
              "      <td>1738.000000</td>\n",
              "      <td>31.000000</td>\n",
              "      <td>306.660000</td>\n",
              "      <td>224.630000</td>\n",
              "      <td>112.090000</td>\n",
              "    </tr>\n",
              "  </tbody>\n",
              "</table>\n",
              "</div>"
            ],
            "text/plain": [
              "       Page views  Impressions  ...  Impression RPM (INR)  Estimated earnings (INR)\n",
              "count   21.000000    21.000000  ...             21.000000                 21.000000\n",
              "mean   334.761905   799.952381  ...             40.405238                 26.859524\n",
              "std    223.153961   494.686919  ...             50.888343                 27.526495\n",
              "min     33.000000    46.000000  ...              2.510000                  0.250000\n",
              "25%    160.000000   499.000000  ...             11.420000                 12.440000\n",
              "50%    316.000000   639.000000  ...             23.520000                 16.420000\n",
              "75%    472.000000  1003.000000  ...             45.460000                 39.850000\n",
              "max    830.000000  1738.000000  ...            224.630000                112.090000\n",
              "\n",
              "[8 rows x 6 columns]"
            ]
          },
          "metadata": {},
          "execution_count": 31
        }
      ]
    },
    {
      "cell_type": "markdown",
      "metadata": {
        "id": "q2Sfl7tlsElb"
      },
      "source": [
        "Using dataframe columns get dataframe columns for show columns of the dataframe"
      ]
    },
    {
      "cell_type": "code",
      "metadata": {
        "colab": {
          "base_uri": "https://localhost:8080/"
        },
        "id": "hv30r4F4D2cp",
        "outputId": "2d8fbc86-14b3-430c-c6cf-0d439985c980"
      },
      "source": [
        "adsdata.columns"
      ],
      "execution_count": null,
      "outputs": [
        {
          "output_type": "execute_result",
          "data": {
            "text/plain": [
              "Index(['Month', 'Page views', 'Impressions', 'Clicks', 'Page RPM (INR)',\n",
              "       'Impression RPM (INR)', 'Active View Viewable',\n",
              "       'Estimated earnings (INR)'],\n",
              "      dtype='object')"
            ]
          },
          "metadata": {},
          "execution_count": 8
        }
      ]
    },
    {
      "cell_type": "markdown",
      "metadata": {
        "id": "5E4S_iGLsNMV"
      },
      "source": [
        "CHeck is there any null values in the dataframe row or columns"
      ]
    },
    {
      "cell_type": "code",
      "metadata": {
        "colab": {
          "base_uri": "https://localhost:8080/"
        },
        "id": "6pjOkdnuFleT",
        "outputId": "016f98ce-1ecb-43b0-8df2-c8c3976bfae4"
      },
      "source": [
        "adsdata[adsdata.isnull()].count()"
      ],
      "execution_count": null,
      "outputs": [
        {
          "output_type": "execute_result",
          "data": {
            "text/plain": [
              "Month                       0\n",
              "Page views                  0\n",
              "Impressions                 0\n",
              "Clicks                      0\n",
              "Page RPM (INR)              0\n",
              "Impression RPM (INR)        0\n",
              "Active View Viewable        0\n",
              "Estimated earnings (INR)    0\n",
              "dtype: int64"
            ]
          },
          "metadata": {},
          "execution_count": 9
        }
      ]
    },
    {
      "cell_type": "code",
      "metadata": {
        "id": "cz1dv82rF2UP"
      },
      "source": [
        ""
      ],
      "execution_count": null,
      "outputs": []
    },
    {
      "cell_type": "markdown",
      "metadata": {
        "id": "tlQ6-3_csWE7"
      },
      "source": [
        "Now visualize the dataset/dataframe for getting view of data"
      ]
    },
    {
      "cell_type": "code",
      "metadata": {
        "id": "BGdW-MtwD7gs"
      },
      "source": [
        "import matplotlib.pyplot as plt\n"
      ],
      "execution_count": null,
      "outputs": []
    },
    {
      "cell_type": "code",
      "metadata": {
        "colab": {
          "base_uri": "https://localhost:8080/",
          "height": 265
        },
        "id": "jmyrxFHwEKHE",
        "outputId": "a995f2dc-46f1-4a17-dfb5-4c772b98aae0"
      },
      "source": [
        "plt.scatter(adsdata['Page views'],adsdata['Page RPM (INR)'])\n",
        "plt.show()"
      ],
      "execution_count": null,
      "outputs": [
        {
          "output_type": "display_data",
          "data": {
            "image/png": "[encoded data removed]",
            "text/plain": [
              "<Figure size 432x288 with 1 Axes>"
            ]
          },
          "metadata": {
            "needs_background": "light"
          }
        }
      ]
    },
    {
      "cell_type": "code",
      "metadata": {
        "colab": {
          "base_uri": "https://localhost:8080/",
          "height": 295
        },
        "id": "z2Y1gKCsEYKh",
        "outputId": "ae2bfe45-8fd0-43ba-c3e1-f6c10002f3fc"
      },
      "source": [
        "plt.scatter(adsdata['Page views'],adsdata['Estimated earnings (INR)'])\n",
        "plt.title(\"Page view vs Estimated earning (INR)\")\n",
        "plt.xlabel(\"Page views\")\n",
        "plt.ylabel(\"Estimated earning\")\n",
        "plt.show()"
      ],
      "execution_count": null,
      "outputs": [
        {
          "output_type": "display_data",
          "data": {
            "image/png": "[encoded data removed]",
            "text/plain": [
              "<Figure size 432x288 with 1 Axes>"
            ]
          },
          "metadata": {
            "needs_background": "light"
          }
        }
      ]
    },
    {
      "cell_type": "code",
      "metadata": {
        "colab": {
          "base_uri": "https://localhost:8080/",
          "height": 295
        },
        "id": "FM09T4FEG3s5",
        "outputId": "cf780e7d-e3e3-4414-c9b8-880cfaa4113e"
      },
      "source": [
        "plt.scatter(adsdata['Clicks'],adsdata['Estimated earnings (INR)'])\n",
        "plt.title(\"Clicks vs Estimated earning (INR)\")\n",
        "plt.xlabel(\"Clicks\")\n",
        "plt.ylabel(\"Estimated earning\")\n",
        "plt.show()"
      ],
      "execution_count": null,
      "outputs": [
        {
          "output_type": "display_data",
          "data": {
            "image/png": "[encoded data removed]",
            "text/plain": [
              "<Figure size 432x288 with 1 Axes>"
            ]
          },
          "metadata": {
            "needs_background": "light"
          }
        }
      ]
    },
    {
      "cell_type": "code",
      "metadata": {
        "colab": {
          "base_uri": "https://localhost:8080/",
          "height": 1000
        },
        "id": "6y_86TapHbEP",
        "outputId": "d3b41b79-97f8-4e10-9047-74c88a03a62e"
      },
      "source": [
        "import seaborn as sns\n",
        "sns.pairplot(adsdata)"
      ],
      "execution_count": null,
      "outputs": [
        {
          "output_type": "execute_result",
          "data": {
            "text/plain": [
              "<seaborn.axisgrid.PairGrid at 0x7f4cc65e6290>"
            ]
          },
          "metadata": {},
          "execution_count": 14
        },
        {
          "output_type": "display_data",
          "data": {
            "image/png": "[encoded data removed]",
            "text/plain": [
              "<Figure size 1080x1080 with 42 Axes>"
            ]
          },
          "metadata": {
            "needs_background": "light"
          }
        }
      ]
    },
    {
      "cell_type": "markdown",
      "metadata": {
        "id": "uat4wyCA0Yfe"
      },
      "source": [
        "Using seaborn library function pairplot we get the all data columns together relationship using bar chart and scatter plot\n",
        "Using that we directly get the relationship of each columns\n",
        "\n",
        "Which columns having linear regression is clear show"
      ]
    },
    {
      "cell_type": "code",
      "metadata": {
        "id": "GVwLd73oIOjJ"
      },
      "source": [
        "# newdata=adsdata.copy()"
      ],
      "execution_count": null,
      "outputs": []
    },
    {
      "cell_type": "markdown",
      "metadata": {
        "id": "ze4cLH177KPB"
      },
      "source": [
        "**set x and y columns for implements or build linear regression model**"
      ]
    },
    {
      "cell_type": "code",
      "metadata": {
        "id": "f_t6eCiAKDVu"
      },
      "source": [
        "x=adsdata['Clicks']"
      ],
      "execution_count": null,
      "outputs": []
    },
    {
      "cell_type": "code",
      "metadata": {
        "id": "yagwY047hs_D"
      },
      "source": [
        "y=adsdata['Estimated earnings (INR)']"
      ],
      "execution_count": null,
      "outputs": []
    },
    {
      "cell_type": "code",
      "metadata": {
        "colab": {
          "base_uri": "https://localhost:8080/",
          "height": 282
        },
        "id": "Sy56y6XU9nK5",
        "outputId": "8e52939c-617e-421d-abab-146e2bd5ff84"
      },
      "source": [
        "plt.scatter(x,y)"
      ],
      "execution_count": null,
      "outputs": [
        {
          "output_type": "execute_result",
          "data": {
            "text/plain": [
              "<matplotlib.collections.PathCollection at 0x7f4ca1bce310>"
            ]
          },
          "metadata": {},
          "execution_count": 97
        },
        {
          "output_type": "display_data",
          "data": {
            "image/png": "[encoded data removed]",
            "text/plain": [
              "<Figure size 432x288 with 1 Axes>"
            ]
          },
          "metadata": {
            "needs_background": "light"
          }
        }
      ]
    },
    {
      "cell_type": "code",
      "metadata": {
        "colab": {
          "base_uri": "https://localhost:8080/",
          "height": 920
        },
        "id": "oi6fKBYViI0z",
        "outputId": "5f408719-a4c3-45c6-b822-4b9ce0d5e07c"
      },
      "source": [
        "sns.pairplot(x)\n"
      ],
      "execution_count": null,
      "outputs": [
        {
          "output_type": "execute_result",
          "data": {
            "text/plain": [
              "<seaborn.axisgrid.PairGrid at 0x7f4cc6576390>"
            ]
          },
          "metadata": {},
          "execution_count": 18
        },
        {
          "output_type": "display_data",
          "data": {
            "image/png": "[encoded data removed]",
            "text/plain": [
              "<Figure size 900x900 with 30 Axes>"
            ]
          },
          "metadata": {
            "needs_background": "light"
          }
        }
      ]
    },
    {
      "cell_type": "markdown",
      "metadata": {
        "id": "r81DPlwlsfP1"
      },
      "source": [
        "\n",
        "Using this visualization technique seaborn function pairplot all the columns each other ploting the data they having\n",
        "---\n",
        "\n",
        "using this we understand the any relationship between any columns \n",
        "\n",
        "using  scatter plot we easyly analyse the any linear relationshiip between them or not"
      ]
    },
    {
      "cell_type": "markdown",
      "metadata": {
        "id": "IW2T6dxrsa_M"
      },
      "source": [
        "check outliear"
      ]
    },
    {
      "cell_type": "code",
      "metadata": {
        "id": "DHvJgvEVssRu"
      },
      "source": [
        "collist=['Page views', 'Impressions', 'Clicks', 'Page RPM (INR)',\n",
        "       'Impression RPM (INR)',\n",
        "       'Estimated earnings (INR)']\n",
        "outliers=pd.DataFrame(columns=[\"featurs\",\"No of outlier\"])\n",
        "for col in collist:\n",
        "    q1=adsdata[col].quantile(0.25)\n",
        "    q2=adsdata[col].quantile(0.50)\n",
        "    q3=adsdata[col].quantile(0.75)\n",
        "    iqr=q3-q1\n",
        "    low_value=q1-1.5*iqr\n",
        "    high_value=q3+1.5*iqr\n",
        "    outliers=outliers.append({\"featurs\":col,\"No of outlier\":adsdata.loc[(adsdata[col]>high_value) | (adsdata[col]<low_value)].shape[0]},ignore_index=True)"
      ],
      "execution_count": null,
      "outputs": []
    },
    {
      "cell_type": "code",
      "metadata": {
        "colab": {
          "base_uri": "https://localhost:8080/",
          "height": 235
        },
        "id": "OYLfMZ6utBxS",
        "outputId": "3d0c9bc4-f3e2-4dbc-e6d1-b07558502319"
      },
      "source": [
        "outliers"
      ],
      "execution_count": null,
      "outputs": [
        {
          "output_type": "execute_result",
          "data": {
            "text/html": [
              "<div>\n",
              "<style scoped>\n",
              "    .dataframe tbody tr th:only-of-type {\n",
              "        vertical-align: middle;\n",
              "    }\n",
              "\n",
              "    .dataframe tbody tr th {\n",
              "        vertical-align: top;\n",
              "    }\n",
              "\n",
              "    .dataframe thead th {\n",
              "        text-align: right;\n",
              "    }\n",
              "</style>\n",
              "<table border=\"1\" class=\"dataframe\">\n",
              "  <thead>\n",
              "    <tr style=\"text-align: right;\">\n",
              "      <th></th>\n",
              "      <th>featurs</th>\n",
              "      <th>No of outlier</th>\n",
              "    </tr>\n",
              "  </thead>\n",
              "  <tbody>\n",
              "    <tr>\n",
              "      <th>0</th>\n",
              "      <td>Page views</td>\n",
              "      <td>0</td>\n",
              "    </tr>\n",
              "    <tr>\n",
              "      <th>1</th>\n",
              "      <td>Impressions</td>\n",
              "      <td>0</td>\n",
              "    </tr>\n",
              "    <tr>\n",
              "      <th>2</th>\n",
              "      <td>Clicks</td>\n",
              "      <td>1</td>\n",
              "    </tr>\n",
              "    <tr>\n",
              "      <th>3</th>\n",
              "      <td>Page RPM (INR)</td>\n",
              "      <td>1</td>\n",
              "    </tr>\n",
              "    <tr>\n",
              "      <th>4</th>\n",
              "      <td>Impression RPM (INR)</td>\n",
              "      <td>2</td>\n",
              "    </tr>\n",
              "    <tr>\n",
              "      <th>5</th>\n",
              "      <td>Estimated earnings (INR)</td>\n",
              "      <td>1</td>\n",
              "    </tr>\n",
              "  </tbody>\n",
              "</table>\n",
              "</div>"
            ],
            "text/plain": [
              "                    featurs No of outlier\n",
              "0                Page views             0\n",
              "1               Impressions             0\n",
              "2                    Clicks             1\n",
              "3            Page RPM (INR)             1\n",
              "4      Impression RPM (INR)             2\n",
              "5  Estimated earnings (INR)             1"
            ]
          },
          "metadata": {},
          "execution_count": 20
        }
      ]
    },
    {
      "cell_type": "markdown",
      "metadata": {
        "id": "JE1TIpqCvkJg"
      },
      "source": [
        "Now check scatterplot of our x and y which is get from given dataset"
      ]
    },
    {
      "cell_type": "code",
      "metadata": {
        "colab": {
          "base_uri": "https://localhost:8080/",
          "height": 295
        },
        "id": "cSDmz67ItRHY",
        "outputId": "73e90a3d-4975-411e-88af-33d66dabce23"
      },
      "source": [
        "plt.scatter(adsdata['Page views'],adsdata['Estimated earnings (INR)'])\n",
        "plt.title('Page View vs Estimated Earnings (INR)')\n",
        "plt.xlabel('Page Views')\n",
        "plt.ylabel('Estimated Earnings(INR)')\n",
        "plt.show()"
      ],
      "execution_count": null,
      "outputs": [
        {
          "output_type": "display_data",
          "data": {
            "image/png": "[encoded data removed]",
            "text/plain": [
              "<Figure size 432x288 with 1 Axes>"
            ]
          },
          "metadata": {
            "needs_background": "light"
          }
        }
      ]
    },
    {
      "cell_type": "markdown",
      "metadata": {
        "id": "yt1_lsTzwWQj"
      },
      "source": [
        "Here I plot the scatter plot of my dataset as columns 1-page view and other is 2-Estimated earnings (INR)\n",
        "\n",
        "1-Page view is my independent variable \n",
        "2-Estimated earnings is my dependent variable becaouse of Estimated earning is depends on page view"
      ]
    },
    {
      "cell_type": "code",
      "metadata": {
        "id": "JvCJ7v9awJwE"
      },
      "source": [
        ""
      ],
      "execution_count": null,
      "outputs": []
    },
    {
      "cell_type": "markdown",
      "metadata": {
        "id": "hmD_3xLCxAxW"
      },
      "source": [
        "**Now implements the regression algorithm steps**"
      ]
    },
    {
      "cell_type": "markdown",
      "metadata": {
        "id": "Sn6qI6ARC2oL"
      },
      "source": [
        "For find a and b value "
      ]
    },
    {
      "cell_type": "code",
      "metadata": {
        "colab": {
          "base_uri": "https://localhost:8080/"
        },
        "id": "FGpjIapXC1FV",
        "outputId": "e3e4ac96-ba42-480d-de19-99493e5ae8b3"
      },
      "source": [
        "a1=np.sqrt(adsdata['Clicks']).sum()\n",
        "a1"
      ],
      "execution_count": null,
      "outputs": [
        {
          "output_type": "execute_result",
          "data": {
            "text/plain": [
              "30.42192742791264"
            ]
          },
          "metadata": {},
          "execution_count": 115
        }
      ]
    },
    {
      "cell_type": "code",
      "metadata": {
        "colab": {
          "base_uri": "https://localhost:8080/"
        },
        "id": "u9EcOyDkDZAy",
        "outputId": "faed297d-6e85-49fb-e2f1-26df1bf75f64"
      },
      "source": [
        "b1=np.sqrt(adsdata['Estimated earnings (INR)']).sum()\n",
        "b1"
      ],
      "execution_count": null,
      "outputs": [
        {
          "output_type": "execute_result",
          "data": {
            "text/plain": [
              "96.46708152284896"
            ]
          },
          "metadata": {},
          "execution_count": 117
        }
      ]
    },
    {
      "cell_type": "code",
      "metadata": {
        "colab": {
          "base_uri": "https://localhost:8080/",
          "height": 700
        },
        "id": "bGx7mkytxIcg",
        "outputId": "a76783ab-7883-4e9d-e9f1-cb347600f20d"
      },
      "source": [
        "a=2\n",
        "b=1.5\n",
        "yh=a*b+x\n",
        "yh"
      ],
      "execution_count": null,
      "outputs": [
        {
          "output_type": "execute_result",
          "data": {
            "text/html": [
              "<div>\n",
              "<style scoped>\n",
              "    .dataframe tbody tr th:only-of-type {\n",
              "        vertical-align: middle;\n",
              "    }\n",
              "\n",
              "    .dataframe tbody tr th {\n",
              "        vertical-align: top;\n",
              "    }\n",
              "\n",
              "    .dataframe thead th {\n",
              "        text-align: right;\n",
              "    }\n",
              "</style>\n",
              "<table border=\"1\" class=\"dataframe\">\n",
              "  <thead>\n",
              "    <tr style=\"text-align: right;\">\n",
              "      <th></th>\n",
              "      <th>Page views</th>\n",
              "      <th>Impressions</th>\n",
              "      <th>Clicks</th>\n",
              "      <th>Page RPM (INR)</th>\n",
              "      <th>Impression RPM (INR)</th>\n",
              "    </tr>\n",
              "  </thead>\n",
              "  <tbody>\n",
              "    <tr>\n",
              "      <th>0</th>\n",
              "      <td>475.0</td>\n",
              "      <td>502.0</td>\n",
              "      <td>34.0</td>\n",
              "      <td>240.48</td>\n",
              "      <td>227.63</td>\n",
              "    </tr>\n",
              "    <tr>\n",
              "      <th>1</th>\n",
              "      <td>229.0</td>\n",
              "      <td>598.0</td>\n",
              "      <td>14.0</td>\n",
              "      <td>309.66</td>\n",
              "      <td>119.48</td>\n",
              "    </tr>\n",
              "    <tr>\n",
              "      <th>2</th>\n",
              "      <td>296.0</td>\n",
              "      <td>1204.0</td>\n",
              "      <td>5.0</td>\n",
              "      <td>49.81</td>\n",
              "      <td>14.42</td>\n",
              "    </tr>\n",
              "    <tr>\n",
              "      <th>3</th>\n",
              "      <td>319.0</td>\n",
              "      <td>1286.0</td>\n",
              "      <td>4.0</td>\n",
              "      <td>129.09</td>\n",
              "      <td>34.06</td>\n",
              "    </tr>\n",
              "    <tr>\n",
              "      <th>4</th>\n",
              "      <td>263.0</td>\n",
              "      <td>975.0</td>\n",
              "      <td>3.0</td>\n",
              "      <td>66.15</td>\n",
              "      <td>19.89</td>\n",
              "    </tr>\n",
              "    <tr>\n",
              "      <th>5</th>\n",
              "      <td>163.0</td>\n",
              "      <td>708.0</td>\n",
              "      <td>3.0</td>\n",
              "      <td>48.37</td>\n",
              "      <td>13.30</td>\n",
              "    </tr>\n",
              "    <tr>\n",
              "      <th>6</th>\n",
              "      <td>529.0</td>\n",
              "      <td>1695.0</td>\n",
              "      <td>7.0</td>\n",
              "      <td>29.28</td>\n",
              "      <td>11.17</td>\n",
              "    </tr>\n",
              "    <tr>\n",
              "      <th>7</th>\n",
              "      <td>98.0</td>\n",
              "      <td>338.0</td>\n",
              "      <td>4.0</td>\n",
              "      <td>181.15</td>\n",
              "      <td>53.52</td>\n",
              "    </tr>\n",
              "    <tr>\n",
              "      <th>8</th>\n",
              "      <td>44.0</td>\n",
              "      <td>151.0</td>\n",
              "      <td>3.0</td>\n",
              "      <td>189.41</td>\n",
              "      <td>54.64</td>\n",
              "    </tr>\n",
              "    <tr>\n",
              "      <th>9</th>\n",
              "      <td>36.0</td>\n",
              "      <td>49.0</td>\n",
              "      <td>3.0</td>\n",
              "      <td>10.66</td>\n",
              "      <td>8.50</td>\n",
              "    </tr>\n",
              "    <tr>\n",
              "      <th>10</th>\n",
              "      <td>124.0</td>\n",
              "      <td>452.0</td>\n",
              "      <td>4.0</td>\n",
              "      <td>39.89</td>\n",
              "      <td>12.94</td>\n",
              "    </tr>\n",
              "    <tr>\n",
              "      <th>11</th>\n",
              "      <td>528.0</td>\n",
              "      <td>1741.0</td>\n",
              "      <td>4.0</td>\n",
              "      <td>90.23</td>\n",
              "      <td>29.35</td>\n",
              "    </tr>\n",
              "    <tr>\n",
              "      <th>12</th>\n",
              "      <td>189.0</td>\n",
              "      <td>551.0</td>\n",
              "      <td>3.0</td>\n",
              "      <td>136.94</td>\n",
              "      <td>48.46</td>\n",
              "    </tr>\n",
              "    <tr>\n",
              "      <th>13</th>\n",
              "      <td>128.0</td>\n",
              "      <td>446.0</td>\n",
              "      <td>5.0</td>\n",
              "      <td>104.06</td>\n",
              "      <td>31.52</td>\n",
              "    </tr>\n",
              "    <tr>\n",
              "      <th>14</th>\n",
              "      <td>728.0</td>\n",
              "      <td>1737.0</td>\n",
              "      <td>3.0</td>\n",
              "      <td>89.41</td>\n",
              "      <td>39.13</td>\n",
              "    </tr>\n",
              "    <tr>\n",
              "      <th>15</th>\n",
              "      <td>422.0</td>\n",
              "      <td>1006.0</td>\n",
              "      <td>10.0</td>\n",
              "      <td>54.70</td>\n",
              "      <td>24.60</td>\n",
              "    </tr>\n",
              "    <tr>\n",
              "      <th>16</th>\n",
              "      <td>335.0</td>\n",
              "      <td>521.0</td>\n",
              "      <td>10.0</td>\n",
              "      <td>147.88</td>\n",
              "      <td>95.86</td>\n",
              "    </tr>\n",
              "    <tr>\n",
              "      <th>17</th>\n",
              "      <td>657.0</td>\n",
              "      <td>642.0</td>\n",
              "      <td>6.0</td>\n",
              "      <td>22.02</td>\n",
              "      <td>22.46</td>\n",
              "    </tr>\n",
              "    <tr>\n",
              "      <th>18</th>\n",
              "      <td>833.0</td>\n",
              "      <td>981.0</td>\n",
              "      <td>8.0</td>\n",
              "      <td>21.32</td>\n",
              "      <td>18.55</td>\n",
              "    </tr>\n",
              "    <tr>\n",
              "      <th>19</th>\n",
              "      <td>369.0</td>\n",
              "      <td>527.0</td>\n",
              "      <td>4.0</td>\n",
              "      <td>6.59</td>\n",
              "      <td>5.51</td>\n",
              "    </tr>\n",
              "    <tr>\n",
              "      <th>20</th>\n",
              "      <td>328.0</td>\n",
              "      <td>752.0</td>\n",
              "      <td>9.0</td>\n",
              "      <td>57.20</td>\n",
              "      <td>26.52</td>\n",
              "    </tr>\n",
              "  </tbody>\n",
              "</table>\n",
              "</div>"
            ],
            "text/plain": [
              "    Page views  Impressions  Clicks  Page RPM (INR)  Impression RPM (INR)\n",
              "0        475.0        502.0    34.0          240.48                227.63\n",
              "1        229.0        598.0    14.0          309.66                119.48\n",
              "2        296.0       1204.0     5.0           49.81                 14.42\n",
              "3        319.0       1286.0     4.0          129.09                 34.06\n",
              "4        263.0        975.0     3.0           66.15                 19.89\n",
              "5        163.0        708.0     3.0           48.37                 13.30\n",
              "6        529.0       1695.0     7.0           29.28                 11.17\n",
              "7         98.0        338.0     4.0          181.15                 53.52\n",
              "8         44.0        151.0     3.0          189.41                 54.64\n",
              "9         36.0         49.0     3.0           10.66                  8.50\n",
              "10       124.0        452.0     4.0           39.89                 12.94\n",
              "11       528.0       1741.0     4.0           90.23                 29.35\n",
              "12       189.0        551.0     3.0          136.94                 48.46\n",
              "13       128.0        446.0     5.0          104.06                 31.52\n",
              "14       728.0       1737.0     3.0           89.41                 39.13\n",
              "15       422.0       1006.0    10.0           54.70                 24.60\n",
              "16       335.0        521.0    10.0          147.88                 95.86\n",
              "17       657.0        642.0     6.0           22.02                 22.46\n",
              "18       833.0        981.0     8.0           21.32                 18.55\n",
              "19       369.0        527.0     4.0            6.59                  5.51\n",
              "20       328.0        752.0     9.0           57.20                 26.52"
            ]
          },
          "metadata": {},
          "execution_count": 220
        }
      ]
    },
    {
      "cell_type": "code",
      "metadata": {
        "colab": {
          "base_uri": "https://localhost:8080/",
          "height": 754
        },
        "id": "Ggm0fpNQxNA9",
        "outputId": "d3c9bbc2-9c3f-4ace-d2be-aeddf50cd071"
      },
      "source": [
        "v=y-yh\n",
        "v"
      ],
      "execution_count": null,
      "outputs": [
        {
          "output_type": "execute_result",
          "data": {
            "text/html": [
              "<div>\n",
              "<style scoped>\n",
              "    .dataframe tbody tr th:only-of-type {\n",
              "        vertical-align: middle;\n",
              "    }\n",
              "\n",
              "    .dataframe tbody tr th {\n",
              "        vertical-align: top;\n",
              "    }\n",
              "\n",
              "    .dataframe thead th {\n",
              "        text-align: right;\n",
              "    }\n",
              "</style>\n",
              "<table border=\"1\" class=\"dataframe\">\n",
              "  <thead>\n",
              "    <tr style=\"text-align: right;\">\n",
              "      <th></th>\n",
              "      <th>0</th>\n",
              "      <th>1</th>\n",
              "      <th>2</th>\n",
              "      <th>3</th>\n",
              "      <th>4</th>\n",
              "      <th>5</th>\n",
              "      <th>6</th>\n",
              "      <th>7</th>\n",
              "      <th>8</th>\n",
              "      <th>9</th>\n",
              "      <th>10</th>\n",
              "      <th>11</th>\n",
              "      <th>12</th>\n",
              "      <th>13</th>\n",
              "      <th>14</th>\n",
              "      <th>15</th>\n",
              "      <th>16</th>\n",
              "      <th>17</th>\n",
              "      <th>18</th>\n",
              "      <th>19</th>\n",
              "      <th>20</th>\n",
              "      <th>Clicks</th>\n",
              "      <th>Impression RPM (INR)</th>\n",
              "      <th>Impressions</th>\n",
              "      <th>Page RPM (INR)</th>\n",
              "      <th>Page views</th>\n",
              "    </tr>\n",
              "  </thead>\n",
              "  <tbody>\n",
              "    <tr>\n",
              "      <th>0</th>\n",
              "      <td>NaN</td>\n",
              "      <td>NaN</td>\n",
              "      <td>NaN</td>\n",
              "      <td>NaN</td>\n",
              "      <td>NaN</td>\n",
              "      <td>NaN</td>\n",
              "      <td>NaN</td>\n",
              "      <td>NaN</td>\n",
              "      <td>NaN</td>\n",
              "      <td>NaN</td>\n",
              "      <td>NaN</td>\n",
              "      <td>NaN</td>\n",
              "      <td>NaN</td>\n",
              "      <td>NaN</td>\n",
              "      <td>NaN</td>\n",
              "      <td>NaN</td>\n",
              "      <td>NaN</td>\n",
              "      <td>NaN</td>\n",
              "      <td>NaN</td>\n",
              "      <td>NaN</td>\n",
              "      <td>NaN</td>\n",
              "      <td>NaN</td>\n",
              "      <td>NaN</td>\n",
              "      <td>NaN</td>\n",
              "      <td>NaN</td>\n",
              "      <td>NaN</td>\n",
              "    </tr>\n",
              "    <tr>\n",
              "      <th>1</th>\n",
              "      <td>NaN</td>\n",
              "      <td>NaN</td>\n",
              "      <td>NaN</td>\n",
              "      <td>NaN</td>\n",
              "      <td>NaN</td>\n",
              "      <td>NaN</td>\n",
              "      <td>NaN</td>\n",
              "      <td>NaN</td>\n",
              "      <td>NaN</td>\n",
              "      <td>NaN</td>\n",
              "      <td>NaN</td>\n",
              "      <td>NaN</td>\n",
              "      <td>NaN</td>\n",
              "      <td>NaN</td>\n",
              "      <td>NaN</td>\n",
              "      <td>NaN</td>\n",
              "      <td>NaN</td>\n",
              "      <td>NaN</td>\n",
              "      <td>NaN</td>\n",
              "      <td>NaN</td>\n",
              "      <td>NaN</td>\n",
              "      <td>NaN</td>\n",
              "      <td>NaN</td>\n",
              "      <td>NaN</td>\n",
              "      <td>NaN</td>\n",
              "      <td>NaN</td>\n",
              "    </tr>\n",
              "    <tr>\n",
              "      <th>2</th>\n",
              "      <td>NaN</td>\n",
              "      <td>NaN</td>\n",
              "      <td>NaN</td>\n",
              "      <td>NaN</td>\n",
              "      <td>NaN</td>\n",
              "      <td>NaN</td>\n",
              "      <td>NaN</td>\n",
              "      <td>NaN</td>\n",
              "      <td>NaN</td>\n",
              "      <td>NaN</td>\n",
              "      <td>NaN</td>\n",
              "      <td>NaN</td>\n",
              "      <td>NaN</td>\n",
              "      <td>NaN</td>\n",
              "      <td>NaN</td>\n",
              "      <td>NaN</td>\n",
              "      <td>NaN</td>\n",
              "      <td>NaN</td>\n",
              "      <td>NaN</td>\n",
              "      <td>NaN</td>\n",
              "      <td>NaN</td>\n",
              "      <td>NaN</td>\n",
              "      <td>NaN</td>\n",
              "      <td>NaN</td>\n",
              "      <td>NaN</td>\n",
              "      <td>NaN</td>\n",
              "    </tr>\n",
              "    <tr>\n",
              "      <th>3</th>\n",
              "      <td>NaN</td>\n",
              "      <td>NaN</td>\n",
              "      <td>NaN</td>\n",
              "      <td>NaN</td>\n",
              "      <td>NaN</td>\n",
              "      <td>NaN</td>\n",
              "      <td>NaN</td>\n",
              "      <td>NaN</td>\n",
              "      <td>NaN</td>\n",
              "      <td>NaN</td>\n",
              "      <td>NaN</td>\n",
              "      <td>NaN</td>\n",
              "      <td>NaN</td>\n",
              "      <td>NaN</td>\n",
              "      <td>NaN</td>\n",
              "      <td>NaN</td>\n",
              "      <td>NaN</td>\n",
              "      <td>NaN</td>\n",
              "      <td>NaN</td>\n",
              "      <td>NaN</td>\n",
              "      <td>NaN</td>\n",
              "      <td>NaN</td>\n",
              "      <td>NaN</td>\n",
              "      <td>NaN</td>\n",
              "      <td>NaN</td>\n",
              "      <td>NaN</td>\n",
              "    </tr>\n",
              "    <tr>\n",
              "      <th>4</th>\n",
              "      <td>NaN</td>\n",
              "      <td>NaN</td>\n",
              "      <td>NaN</td>\n",
              "      <td>NaN</td>\n",
              "      <td>NaN</td>\n",
              "      <td>NaN</td>\n",
              "      <td>NaN</td>\n",
              "      <td>NaN</td>\n",
              "      <td>NaN</td>\n",
              "      <td>NaN</td>\n",
              "      <td>NaN</td>\n",
              "      <td>NaN</td>\n",
              "      <td>NaN</td>\n",
              "      <td>NaN</td>\n",
              "      <td>NaN</td>\n",
              "      <td>NaN</td>\n",
              "      <td>NaN</td>\n",
              "      <td>NaN</td>\n",
              "      <td>NaN</td>\n",
              "      <td>NaN</td>\n",
              "      <td>NaN</td>\n",
              "      <td>NaN</td>\n",
              "      <td>NaN</td>\n",
              "      <td>NaN</td>\n",
              "      <td>NaN</td>\n",
              "      <td>NaN</td>\n",
              "    </tr>\n",
              "    <tr>\n",
              "      <th>5</th>\n",
              "      <td>NaN</td>\n",
              "      <td>NaN</td>\n",
              "      <td>NaN</td>\n",
              "      <td>NaN</td>\n",
              "      <td>NaN</td>\n",
              "      <td>NaN</td>\n",
              "      <td>NaN</td>\n",
              "      <td>NaN</td>\n",
              "      <td>NaN</td>\n",
              "      <td>NaN</td>\n",
              "      <td>NaN</td>\n",
              "      <td>NaN</td>\n",
              "      <td>NaN</td>\n",
              "      <td>NaN</td>\n",
              "      <td>NaN</td>\n",
              "      <td>NaN</td>\n",
              "      <td>NaN</td>\n",
              "      <td>NaN</td>\n",
              "      <td>NaN</td>\n",
              "      <td>NaN</td>\n",
              "      <td>NaN</td>\n",
              "      <td>NaN</td>\n",
              "      <td>NaN</td>\n",
              "      <td>NaN</td>\n",
              "      <td>NaN</td>\n",
              "      <td>NaN</td>\n",
              "    </tr>\n",
              "    <tr>\n",
              "      <th>6</th>\n",
              "      <td>NaN</td>\n",
              "      <td>NaN</td>\n",
              "      <td>NaN</td>\n",
              "      <td>NaN</td>\n",
              "      <td>NaN</td>\n",
              "      <td>NaN</td>\n",
              "      <td>NaN</td>\n",
              "      <td>NaN</td>\n",
              "      <td>NaN</td>\n",
              "      <td>NaN</td>\n",
              "      <td>NaN</td>\n",
              "      <td>NaN</td>\n",
              "      <td>NaN</td>\n",
              "      <td>NaN</td>\n",
              "      <td>NaN</td>\n",
              "      <td>NaN</td>\n",
              "      <td>NaN</td>\n",
              "      <td>NaN</td>\n",
              "      <td>NaN</td>\n",
              "      <td>NaN</td>\n",
              "      <td>NaN</td>\n",
              "      <td>NaN</td>\n",
              "      <td>NaN</td>\n",
              "      <td>NaN</td>\n",
              "      <td>NaN</td>\n",
              "      <td>NaN</td>\n",
              "    </tr>\n",
              "    <tr>\n",
              "      <th>7</th>\n",
              "      <td>NaN</td>\n",
              "      <td>NaN</td>\n",
              "      <td>NaN</td>\n",
              "      <td>NaN</td>\n",
              "      <td>NaN</td>\n",
              "      <td>NaN</td>\n",
              "      <td>NaN</td>\n",
              "      <td>NaN</td>\n",
              "      <td>NaN</td>\n",
              "      <td>NaN</td>\n",
              "      <td>NaN</td>\n",
              "      <td>NaN</td>\n",
              "      <td>NaN</td>\n",
              "      <td>NaN</td>\n",
              "      <td>NaN</td>\n",
              "      <td>NaN</td>\n",
              "      <td>NaN</td>\n",
              "      <td>NaN</td>\n",
              "      <td>NaN</td>\n",
              "      <td>NaN</td>\n",
              "      <td>NaN</td>\n",
              "      <td>NaN</td>\n",
              "      <td>NaN</td>\n",
              "      <td>NaN</td>\n",
              "      <td>NaN</td>\n",
              "      <td>NaN</td>\n",
              "    </tr>\n",
              "    <tr>\n",
              "      <th>8</th>\n",
              "      <td>NaN</td>\n",
              "      <td>NaN</td>\n",
              "      <td>NaN</td>\n",
              "      <td>NaN</td>\n",
              "      <td>NaN</td>\n",
              "      <td>NaN</td>\n",
              "      <td>NaN</td>\n",
              "      <td>NaN</td>\n",
              "      <td>NaN</td>\n",
              "      <td>NaN</td>\n",
              "      <td>NaN</td>\n",
              "      <td>NaN</td>\n",
              "      <td>NaN</td>\n",
              "      <td>NaN</td>\n",
              "      <td>NaN</td>\n",
              "      <td>NaN</td>\n",
              "      <td>NaN</td>\n",
              "      <td>NaN</td>\n",
              "      <td>NaN</td>\n",
              "      <td>NaN</td>\n",
              "      <td>NaN</td>\n",
              "      <td>NaN</td>\n",
              "      <td>NaN</td>\n",
              "      <td>NaN</td>\n",
              "      <td>NaN</td>\n",
              "      <td>NaN</td>\n",
              "    </tr>\n",
              "    <tr>\n",
              "      <th>9</th>\n",
              "      <td>NaN</td>\n",
              "      <td>NaN</td>\n",
              "      <td>NaN</td>\n",
              "      <td>NaN</td>\n",
              "      <td>NaN</td>\n",
              "      <td>NaN</td>\n",
              "      <td>NaN</td>\n",
              "      <td>NaN</td>\n",
              "      <td>NaN</td>\n",
              "      <td>NaN</td>\n",
              "      <td>NaN</td>\n",
              "      <td>NaN</td>\n",
              "      <td>NaN</td>\n",
              "      <td>NaN</td>\n",
              "      <td>NaN</td>\n",
              "      <td>NaN</td>\n",
              "      <td>NaN</td>\n",
              "      <td>NaN</td>\n",
              "      <td>NaN</td>\n",
              "      <td>NaN</td>\n",
              "      <td>NaN</td>\n",
              "      <td>NaN</td>\n",
              "      <td>NaN</td>\n",
              "      <td>NaN</td>\n",
              "      <td>NaN</td>\n",
              "      <td>NaN</td>\n",
              "    </tr>\n",
              "    <tr>\n",
              "      <th>10</th>\n",
              "      <td>NaN</td>\n",
              "      <td>NaN</td>\n",
              "      <td>NaN</td>\n",
              "      <td>NaN</td>\n",
              "      <td>NaN</td>\n",
              "      <td>NaN</td>\n",
              "      <td>NaN</td>\n",
              "      <td>NaN</td>\n",
              "      <td>NaN</td>\n",
              "      <td>NaN</td>\n",
              "      <td>NaN</td>\n",
              "      <td>NaN</td>\n",
              "      <td>NaN</td>\n",
              "      <td>NaN</td>\n",
              "      <td>NaN</td>\n",
              "      <td>NaN</td>\n",
              "      <td>NaN</td>\n",
              "      <td>NaN</td>\n",
              "      <td>NaN</td>\n",
              "      <td>NaN</td>\n",
              "      <td>NaN</td>\n",
              "      <td>NaN</td>\n",
              "      <td>NaN</td>\n",
              "      <td>NaN</td>\n",
              "      <td>NaN</td>\n",
              "      <td>NaN</td>\n",
              "    </tr>\n",
              "    <tr>\n",
              "      <th>11</th>\n",
              "      <td>NaN</td>\n",
              "      <td>NaN</td>\n",
              "      <td>NaN</td>\n",
              "      <td>NaN</td>\n",
              "      <td>NaN</td>\n",
              "      <td>NaN</td>\n",
              "      <td>NaN</td>\n",
              "      <td>NaN</td>\n",
              "      <td>NaN</td>\n",
              "      <td>NaN</td>\n",
              "      <td>NaN</td>\n",
              "      <td>NaN</td>\n",
              "      <td>NaN</td>\n",
              "      <td>NaN</td>\n",
              "      <td>NaN</td>\n",
              "      <td>NaN</td>\n",
              "      <td>NaN</td>\n",
              "      <td>NaN</td>\n",
              "      <td>NaN</td>\n",
              "      <td>NaN</td>\n",
              "      <td>NaN</td>\n",
              "      <td>NaN</td>\n",
              "      <td>NaN</td>\n",
              "      <td>NaN</td>\n",
              "      <td>NaN</td>\n",
              "      <td>NaN</td>\n",
              "    </tr>\n",
              "    <tr>\n",
              "      <th>12</th>\n",
              "      <td>NaN</td>\n",
              "      <td>NaN</td>\n",
              "      <td>NaN</td>\n",
              "      <td>NaN</td>\n",
              "      <td>NaN</td>\n",
              "      <td>NaN</td>\n",
              "      <td>NaN</td>\n",
              "      <td>NaN</td>\n",
              "      <td>NaN</td>\n",
              "      <td>NaN</td>\n",
              "      <td>NaN</td>\n",
              "      <td>NaN</td>\n",
              "      <td>NaN</td>\n",
              "      <td>NaN</td>\n",
              "      <td>NaN</td>\n",
              "      <td>NaN</td>\n",
              "      <td>NaN</td>\n",
              "      <td>NaN</td>\n",
              "      <td>NaN</td>\n",
              "      <td>NaN</td>\n",
              "      <td>NaN</td>\n",
              "      <td>NaN</td>\n",
              "      <td>NaN</td>\n",
              "      <td>NaN</td>\n",
              "      <td>NaN</td>\n",
              "      <td>NaN</td>\n",
              "    </tr>\n",
              "    <tr>\n",
              "      <th>13</th>\n",
              "      <td>NaN</td>\n",
              "      <td>NaN</td>\n",
              "      <td>NaN</td>\n",
              "      <td>NaN</td>\n",
              "      <td>NaN</td>\n",
              "      <td>NaN</td>\n",
              "      <td>NaN</td>\n",
              "      <td>NaN</td>\n",
              "      <td>NaN</td>\n",
              "      <td>NaN</td>\n",
              "      <td>NaN</td>\n",
              "      <td>NaN</td>\n",
              "      <td>NaN</td>\n",
              "      <td>NaN</td>\n",
              "      <td>NaN</td>\n",
              "      <td>NaN</td>\n",
              "      <td>NaN</td>\n",
              "      <td>NaN</td>\n",
              "      <td>NaN</td>\n",
              "      <td>NaN</td>\n",
              "      <td>NaN</td>\n",
              "      <td>NaN</td>\n",
              "      <td>NaN</td>\n",
              "      <td>NaN</td>\n",
              "      <td>NaN</td>\n",
              "      <td>NaN</td>\n",
              "    </tr>\n",
              "    <tr>\n",
              "      <th>14</th>\n",
              "      <td>NaN</td>\n",
              "      <td>NaN</td>\n",
              "      <td>NaN</td>\n",
              "      <td>NaN</td>\n",
              "      <td>NaN</td>\n",
              "      <td>NaN</td>\n",
              "      <td>NaN</td>\n",
              "      <td>NaN</td>\n",
              "      <td>NaN</td>\n",
              "      <td>NaN</td>\n",
              "      <td>NaN</td>\n",
              "      <td>NaN</td>\n",
              "      <td>NaN</td>\n",
              "      <td>NaN</td>\n",
              "      <td>NaN</td>\n",
              "      <td>NaN</td>\n",
              "      <td>NaN</td>\n",
              "      <td>NaN</td>\n",
              "      <td>NaN</td>\n",
              "      <td>NaN</td>\n",
              "      <td>NaN</td>\n",
              "      <td>NaN</td>\n",
              "      <td>NaN</td>\n",
              "      <td>NaN</td>\n",
              "      <td>NaN</td>\n",
              "      <td>NaN</td>\n",
              "    </tr>\n",
              "    <tr>\n",
              "      <th>15</th>\n",
              "      <td>NaN</td>\n",
              "      <td>NaN</td>\n",
              "      <td>NaN</td>\n",
              "      <td>NaN</td>\n",
              "      <td>NaN</td>\n",
              "      <td>NaN</td>\n",
              "      <td>NaN</td>\n",
              "      <td>NaN</td>\n",
              "      <td>NaN</td>\n",
              "      <td>NaN</td>\n",
              "      <td>NaN</td>\n",
              "      <td>NaN</td>\n",
              "      <td>NaN</td>\n",
              "      <td>NaN</td>\n",
              "      <td>NaN</td>\n",
              "      <td>NaN</td>\n",
              "      <td>NaN</td>\n",
              "      <td>NaN</td>\n",
              "      <td>NaN</td>\n",
              "      <td>NaN</td>\n",
              "      <td>NaN</td>\n",
              "      <td>NaN</td>\n",
              "      <td>NaN</td>\n",
              "      <td>NaN</td>\n",
              "      <td>NaN</td>\n",
              "      <td>NaN</td>\n",
              "    </tr>\n",
              "    <tr>\n",
              "      <th>16</th>\n",
              "      <td>NaN</td>\n",
              "      <td>NaN</td>\n",
              "      <td>NaN</td>\n",
              "      <td>NaN</td>\n",
              "      <td>NaN</td>\n",
              "      <td>NaN</td>\n",
              "      <td>NaN</td>\n",
              "      <td>NaN</td>\n",
              "      <td>NaN</td>\n",
              "      <td>NaN</td>\n",
              "      <td>NaN</td>\n",
              "      <td>NaN</td>\n",
              "      <td>NaN</td>\n",
              "      <td>NaN</td>\n",
              "      <td>NaN</td>\n",
              "      <td>NaN</td>\n",
              "      <td>NaN</td>\n",
              "      <td>NaN</td>\n",
              "      <td>NaN</td>\n",
              "      <td>NaN</td>\n",
              "      <td>NaN</td>\n",
              "      <td>NaN</td>\n",
              "      <td>NaN</td>\n",
              "      <td>NaN</td>\n",
              "      <td>NaN</td>\n",
              "      <td>NaN</td>\n",
              "    </tr>\n",
              "    <tr>\n",
              "      <th>17</th>\n",
              "      <td>NaN</td>\n",
              "      <td>NaN</td>\n",
              "      <td>NaN</td>\n",
              "      <td>NaN</td>\n",
              "      <td>NaN</td>\n",
              "      <td>NaN</td>\n",
              "      <td>NaN</td>\n",
              "      <td>NaN</td>\n",
              "      <td>NaN</td>\n",
              "      <td>NaN</td>\n",
              "      <td>NaN</td>\n",
              "      <td>NaN</td>\n",
              "      <td>NaN</td>\n",
              "      <td>NaN</td>\n",
              "      <td>NaN</td>\n",
              "      <td>NaN</td>\n",
              "      <td>NaN</td>\n",
              "      <td>NaN</td>\n",
              "      <td>NaN</td>\n",
              "      <td>NaN</td>\n",
              "      <td>NaN</td>\n",
              "      <td>NaN</td>\n",
              "      <td>NaN</td>\n",
              "      <td>NaN</td>\n",
              "      <td>NaN</td>\n",
              "      <td>NaN</td>\n",
              "    </tr>\n",
              "    <tr>\n",
              "      <th>18</th>\n",
              "      <td>NaN</td>\n",
              "      <td>NaN</td>\n",
              "      <td>NaN</td>\n",
              "      <td>NaN</td>\n",
              "      <td>NaN</td>\n",
              "      <td>NaN</td>\n",
              "      <td>NaN</td>\n",
              "      <td>NaN</td>\n",
              "      <td>NaN</td>\n",
              "      <td>NaN</td>\n",
              "      <td>NaN</td>\n",
              "      <td>NaN</td>\n",
              "      <td>NaN</td>\n",
              "      <td>NaN</td>\n",
              "      <td>NaN</td>\n",
              "      <td>NaN</td>\n",
              "      <td>NaN</td>\n",
              "      <td>NaN</td>\n",
              "      <td>NaN</td>\n",
              "      <td>NaN</td>\n",
              "      <td>NaN</td>\n",
              "      <td>NaN</td>\n",
              "      <td>NaN</td>\n",
              "      <td>NaN</td>\n",
              "      <td>NaN</td>\n",
              "      <td>NaN</td>\n",
              "    </tr>\n",
              "    <tr>\n",
              "      <th>19</th>\n",
              "      <td>NaN</td>\n",
              "      <td>NaN</td>\n",
              "      <td>NaN</td>\n",
              "      <td>NaN</td>\n",
              "      <td>NaN</td>\n",
              "      <td>NaN</td>\n",
              "      <td>NaN</td>\n",
              "      <td>NaN</td>\n",
              "      <td>NaN</td>\n",
              "      <td>NaN</td>\n",
              "      <td>NaN</td>\n",
              "      <td>NaN</td>\n",
              "      <td>NaN</td>\n",
              "      <td>NaN</td>\n",
              "      <td>NaN</td>\n",
              "      <td>NaN</td>\n",
              "      <td>NaN</td>\n",
              "      <td>NaN</td>\n",
              "      <td>NaN</td>\n",
              "      <td>NaN</td>\n",
              "      <td>NaN</td>\n",
              "      <td>NaN</td>\n",
              "      <td>NaN</td>\n",
              "      <td>NaN</td>\n",
              "      <td>NaN</td>\n",
              "      <td>NaN</td>\n",
              "    </tr>\n",
              "    <tr>\n",
              "      <th>20</th>\n",
              "      <td>NaN</td>\n",
              "      <td>NaN</td>\n",
              "      <td>NaN</td>\n",
              "      <td>NaN</td>\n",
              "      <td>NaN</td>\n",
              "      <td>NaN</td>\n",
              "      <td>NaN</td>\n",
              "      <td>NaN</td>\n",
              "      <td>NaN</td>\n",
              "      <td>NaN</td>\n",
              "      <td>NaN</td>\n",
              "      <td>NaN</td>\n",
              "      <td>NaN</td>\n",
              "      <td>NaN</td>\n",
              "      <td>NaN</td>\n",
              "      <td>NaN</td>\n",
              "      <td>NaN</td>\n",
              "      <td>NaN</td>\n",
              "      <td>NaN</td>\n",
              "      <td>NaN</td>\n",
              "      <td>NaN</td>\n",
              "      <td>NaN</td>\n",
              "      <td>NaN</td>\n",
              "      <td>NaN</td>\n",
              "      <td>NaN</td>\n",
              "      <td>NaN</td>\n",
              "    </tr>\n",
              "  </tbody>\n",
              "</table>\n",
              "</div>"
            ],
            "text/plain": [
              "     0   1   2  ...  Impressions  Page RPM (INR)  Page views\n",
              "0  NaN NaN NaN  ...          NaN             NaN         NaN\n",
              "1  NaN NaN NaN  ...          NaN             NaN         NaN\n",
              "2  NaN NaN NaN  ...          NaN             NaN         NaN\n",
              "3  NaN NaN NaN  ...          NaN             NaN         NaN\n",
              "4  NaN NaN NaN  ...          NaN             NaN         NaN\n",
              "5  NaN NaN NaN  ...          NaN             NaN         NaN\n",
              "6  NaN NaN NaN  ...          NaN             NaN         NaN\n",
              "7  NaN NaN NaN  ...          NaN             NaN         NaN\n",
              "8  NaN NaN NaN  ...          NaN             NaN         NaN\n",
              "9  NaN NaN NaN  ...          NaN             NaN         NaN\n",
              "10 NaN NaN NaN  ...          NaN             NaN         NaN\n",
              "11 NaN NaN NaN  ...          NaN             NaN         NaN\n",
              "12 NaN NaN NaN  ...          NaN             NaN         NaN\n",
              "13 NaN NaN NaN  ...          NaN             NaN         NaN\n",
              "14 NaN NaN NaN  ...          NaN             NaN         NaN\n",
              "15 NaN NaN NaN  ...          NaN             NaN         NaN\n",
              "16 NaN NaN NaN  ...          NaN             NaN         NaN\n",
              "17 NaN NaN NaN  ...          NaN             NaN         NaN\n",
              "18 NaN NaN NaN  ...          NaN             NaN         NaN\n",
              "19 NaN NaN NaN  ...          NaN             NaN         NaN\n",
              "20 NaN NaN NaN  ...          NaN             NaN         NaN\n",
              "\n",
              "[21 rows x 26 columns]"
            ]
          },
          "metadata": {},
          "execution_count": 221
        }
      ]
    },
    {
      "cell_type": "code",
      "metadata": {
        "colab": {
          "base_uri": "https://localhost:8080/"
        },
        "id": "2e91_cVbxSa3",
        "outputId": "6c1f2671-876f-4b59-db83-ac5a70bdc5eb"
      },
      "source": [
        "abs(y-yh).mean()\n",
        "# v.mean()"
      ],
      "execution_count": null,
      "outputs": [
        {
          "output_type": "execute_result",
          "data": {
            "text/plain": [
              "0                      NaN\n",
              "1                      NaN\n",
              "2                      NaN\n",
              "3                      NaN\n",
              "4                      NaN\n",
              "5                      NaN\n",
              "6                      NaN\n",
              "7                      NaN\n",
              "8                      NaN\n",
              "9                      NaN\n",
              "10                     NaN\n",
              "11                     NaN\n",
              "12                     NaN\n",
              "13                     NaN\n",
              "14                     NaN\n",
              "15                     NaN\n",
              "16                     NaN\n",
              "17                     NaN\n",
              "18                     NaN\n",
              "19                     NaN\n",
              "20                     NaN\n",
              "Clicks                 NaN\n",
              "Impression RPM (INR)   NaN\n",
              "Impressions            NaN\n",
              "Page RPM (INR)         NaN\n",
              "Page views             NaN\n",
              "dtype: float64"
            ]
          },
          "metadata": {},
          "execution_count": 222
        }
      ]
    },
    {
      "cell_type": "code",
      "metadata": {
        "id": "5FZzan7hxWsT"
      },
      "source": [
        "dea=-2*((y-yh)*x).sum()\n",
        "deb=-2*((y-yh)).sum()"
      ],
      "execution_count": null,
      "outputs": []
    },
    {
      "cell_type": "code",
      "metadata": {
        "colab": {
          "base_uri": "https://localhost:8080/"
        },
        "id": "otoh0d61x-5V",
        "outputId": "fd210759-c6f6-4b87-98d3-e6876d6aa721"
      },
      "source": [
        "error=((y-yh)**2).mean()\n",
        "error\n"
      ],
      "execution_count": null,
      "outputs": [
        {
          "output_type": "execute_result",
          "data": {
            "text/plain": [
              "0                      NaN\n",
              "1                      NaN\n",
              "2                      NaN\n",
              "3                      NaN\n",
              "4                      NaN\n",
              "5                      NaN\n",
              "6                      NaN\n",
              "7                      NaN\n",
              "8                      NaN\n",
              "9                      NaN\n",
              "10                     NaN\n",
              "11                     NaN\n",
              "12                     NaN\n",
              "13                     NaN\n",
              "14                     NaN\n",
              "15                     NaN\n",
              "16                     NaN\n",
              "17                     NaN\n",
              "18                     NaN\n",
              "19                     NaN\n",
              "20                     NaN\n",
              "Clicks                 NaN\n",
              "Impression RPM (INR)   NaN\n",
              "Impressions            NaN\n",
              "Page RPM (INR)         NaN\n",
              "Page views             NaN\n",
              "dtype: float64"
            ]
          },
          "metadata": {},
          "execution_count": 224
        }
      ]
    },
    {
      "cell_type": "code",
      "metadata": {
        "id": "QatDlmUGyFdZ"
      },
      "source": [
        ""
      ],
      "execution_count": null,
      "outputs": []
    },
    {
      "cell_type": "code",
      "metadata": {
        "id": "CFabnV0WyNcl"
      },
      "source": [
        "lr=0.0001"
      ],
      "execution_count": null,
      "outputs": []
    },
    {
      "cell_type": "code",
      "metadata": {
        "colab": {
          "base_uri": "https://localhost:8080/"
        },
        "id": "7_l_zSRJyQsB",
        "outputId": "d5fc0351-00df-4f10-c289-e893afe3da07"
      },
      "source": [
        "for steps in range(8):\n",
        "    yh=a+b*x\n",
        "    dea=-2*((y-yh)*x).sum()\n",
        "    deb=-2*((y-yh)).sum()\n",
        "    a=a-lr*dea\n",
        "    b=b-lr*deb\n",
        "    error=((y-yh)**2).mean()\n",
        "    print('error',error)\n",
        "print(\"new a\",a)\n",
        "print(\"new b\",b)"
      ],
      "execution_count": null,
      "outputs": [
        {
          "output_type": "stream",
          "name": "stdout",
          "text": [
            "error 0                      NaN\n",
            "1                      NaN\n",
            "2                      NaN\n",
            "3                      NaN\n",
            "4                      NaN\n",
            "5                      NaN\n",
            "6                      NaN\n",
            "7                      NaN\n",
            "8                      NaN\n",
            "9                      NaN\n",
            "10                     NaN\n",
            "11                     NaN\n",
            "12                     NaN\n",
            "13                     NaN\n",
            "14                     NaN\n",
            "15                     NaN\n",
            "16                     NaN\n",
            "17                     NaN\n",
            "18                     NaN\n",
            "19                     NaN\n",
            "20                     NaN\n",
            "Clicks                 NaN\n",
            "Impression RPM (INR)   NaN\n",
            "Impressions            NaN\n",
            "Page RPM (INR)         NaN\n",
            "Page views             NaN\n",
            "dtype: float64\n",
            "error 0                      NaN\n",
            "1                      NaN\n",
            "2                      NaN\n",
            "3                      NaN\n",
            "4                      NaN\n",
            "5                      NaN\n",
            "6                      NaN\n",
            "7                      NaN\n",
            "8                      NaN\n",
            "9                      NaN\n",
            "10                     NaN\n",
            "11                     NaN\n",
            "12                     NaN\n",
            "13                     NaN\n",
            "14                     NaN\n",
            "15                     NaN\n",
            "16                     NaN\n",
            "17                     NaN\n",
            "18                     NaN\n",
            "19                     NaN\n",
            "20                     NaN\n",
            "Clicks                 NaN\n",
            "Impression RPM (INR)   NaN\n",
            "Impressions            NaN\n",
            "Page RPM (INR)         NaN\n",
            "Page views             NaN\n",
            "dtype: float64\n",
            "error 0                      NaN\n",
            "1                      NaN\n",
            "2                      NaN\n",
            "3                      NaN\n",
            "4                      NaN\n",
            "5                      NaN\n",
            "6                      NaN\n",
            "7                      NaN\n",
            "8                      NaN\n",
            "9                      NaN\n",
            "10                     NaN\n",
            "11                     NaN\n",
            "12                     NaN\n",
            "13                     NaN\n",
            "14                     NaN\n",
            "15                     NaN\n",
            "16                     NaN\n",
            "17                     NaN\n",
            "18                     NaN\n",
            "19                     NaN\n",
            "20                     NaN\n",
            "Clicks                 NaN\n",
            "Impression RPM (INR)   NaN\n",
            "Impressions            NaN\n",
            "Page RPM (INR)         NaN\n",
            "Page views             NaN\n",
            "dtype: float64\n",
            "error 0                      NaN\n",
            "1                      NaN\n",
            "2                      NaN\n",
            "3                      NaN\n",
            "4                      NaN\n",
            "5                      NaN\n",
            "6                      NaN\n",
            "7                      NaN\n",
            "8                      NaN\n",
            "9                      NaN\n",
            "10                     NaN\n",
            "11                     NaN\n",
            "12                     NaN\n",
            "13                     NaN\n",
            "14                     NaN\n",
            "15                     NaN\n",
            "16                     NaN\n",
            "17                     NaN\n",
            "18                     NaN\n",
            "19                     NaN\n",
            "20                     NaN\n",
            "Clicks                 NaN\n",
            "Impression RPM (INR)   NaN\n",
            "Impressions            NaN\n",
            "Page RPM (INR)         NaN\n",
            "Page views             NaN\n",
            "dtype: float64\n",
            "error 0                      NaN\n",
            "1                      NaN\n",
            "2                      NaN\n",
            "3                      NaN\n",
            "4                      NaN\n",
            "5                      NaN\n",
            "6                      NaN\n",
            "7                      NaN\n",
            "8                      NaN\n",
            "9                      NaN\n",
            "10                     NaN\n",
            "11                     NaN\n",
            "12                     NaN\n",
            "13                     NaN\n",
            "14                     NaN\n",
            "15                     NaN\n",
            "16                     NaN\n",
            "17                     NaN\n",
            "18                     NaN\n",
            "19                     NaN\n",
            "20                     NaN\n",
            "Clicks                 NaN\n",
            "Impression RPM (INR)   NaN\n",
            "Impressions            NaN\n",
            "Page RPM (INR)         NaN\n",
            "Page views             NaN\n",
            "dtype: float64\n",
            "error 0                      NaN\n",
            "1                      NaN\n",
            "2                      NaN\n",
            "3                      NaN\n",
            "4                      NaN\n",
            "5                      NaN\n",
            "6                      NaN\n",
            "7                      NaN\n",
            "8                      NaN\n",
            "9                      NaN\n",
            "10                     NaN\n",
            "11                     NaN\n",
            "12                     NaN\n",
            "13                     NaN\n",
            "14                     NaN\n",
            "15                     NaN\n",
            "16                     NaN\n",
            "17                     NaN\n",
            "18                     NaN\n",
            "19                     NaN\n",
            "20                     NaN\n",
            "Clicks                 NaN\n",
            "Impression RPM (INR)   NaN\n",
            "Impressions            NaN\n",
            "Page RPM (INR)         NaN\n",
            "Page views             NaN\n",
            "dtype: float64\n",
            "error 0                      NaN\n",
            "1                      NaN\n",
            "2                      NaN\n",
            "3                      NaN\n",
            "4                      NaN\n",
            "5                      NaN\n",
            "6                      NaN\n",
            "7                      NaN\n",
            "8                      NaN\n",
            "9                      NaN\n",
            "10                     NaN\n",
            "11                     NaN\n",
            "12                     NaN\n",
            "13                     NaN\n",
            "14                     NaN\n",
            "15                     NaN\n",
            "16                     NaN\n",
            "17                     NaN\n",
            "18                     NaN\n",
            "19                     NaN\n",
            "20                     NaN\n",
            "Clicks                 NaN\n",
            "Impression RPM (INR)   NaN\n",
            "Impressions            NaN\n",
            "Page RPM (INR)         NaN\n",
            "Page views             NaN\n",
            "dtype: float64\n",
            "error 0                      NaN\n",
            "1                      NaN\n",
            "2                      NaN\n",
            "3                      NaN\n",
            "4                      NaN\n",
            "5                      NaN\n",
            "6                      NaN\n",
            "7                      NaN\n",
            "8                      NaN\n",
            "9                      NaN\n",
            "10                     NaN\n",
            "11                     NaN\n",
            "12                     NaN\n",
            "13                     NaN\n",
            "14                     NaN\n",
            "15                     NaN\n",
            "16                     NaN\n",
            "17                     NaN\n",
            "18                     NaN\n",
            "19                     NaN\n",
            "20                     NaN\n",
            "Clicks                 NaN\n",
            "Impression RPM (INR)   NaN\n",
            "Impressions            NaN\n",
            "Page RPM (INR)         NaN\n",
            "Page views             NaN\n",
            "dtype: float64\n",
            "new a 0                       2.0\n",
            "1                       2.0\n",
            "2                       2.0\n",
            "3                       2.0\n",
            "4                       2.0\n",
            "5                       2.0\n",
            "6                       2.0\n",
            "7                       2.0\n",
            "8                       2.0\n",
            "9                       2.0\n",
            "10                      2.0\n",
            "11                      2.0\n",
            "12                      2.0\n",
            "13                      2.0\n",
            "14                      2.0\n",
            "15                      2.0\n",
            "16                      2.0\n",
            "17                      2.0\n",
            "18                      2.0\n",
            "19                      2.0\n",
            "20                      2.0\n",
            "Clicks                  2.0\n",
            "Impression RPM (INR)    2.0\n",
            "Impressions             2.0\n",
            "Page RPM (INR)          2.0\n",
            "Page views              2.0\n",
            "dtype: float64\n",
            "new b 0                       1.5\n",
            "1                       1.5\n",
            "2                       1.5\n",
            "3                       1.5\n",
            "4                       1.5\n",
            "5                       1.5\n",
            "6                       1.5\n",
            "7                       1.5\n",
            "8                       1.5\n",
            "9                       1.5\n",
            "10                      1.5\n",
            "11                      1.5\n",
            "12                      1.5\n",
            "13                      1.5\n",
            "14                      1.5\n",
            "15                      1.5\n",
            "16                      1.5\n",
            "17                      1.5\n",
            "18                      1.5\n",
            "19                      1.5\n",
            "20                      1.5\n",
            "Clicks                  1.5\n",
            "Impression RPM (INR)    1.5\n",
            "Impressions             1.5\n",
            "Page RPM (INR)          1.5\n",
            "Page views              1.5\n",
            "dtype: float64\n"
          ]
        }
      ]
    },
    {
      "cell_type": "code",
      "metadata": {
        "id": "Swr2CkLGyTea",
        "colab": {
          "base_uri": "https://localhost:8080/",
          "height": 283
        },
        "outputId": "d838e6f6-deff-4dc6-d1d1-01bfd253affb"
      },
      "source": [
        "plt.scatter(x,y)\n",
        "plt.plot(x,yh,'red')"
      ],
      "execution_count": null,
      "outputs": [
        {
          "output_type": "execute_result",
          "data": {
            "text/plain": [
              "[<matplotlib.lines.Line2D at 0x7f4ca0ff0510>]"
            ]
          },
          "metadata": {},
          "execution_count": 187
        },
        {
          "output_type": "display_data",
          "data": {
            "image/png": "[encoded data removed]",
            "text/plain": [
              "<Figure size 432x288 with 1 Axes>"
            ]
          },
          "metadata": {
            "needs_background": "light"
          }
        }
      ]
    },
    {
      "cell_type": "code",
      "metadata": {
        "id": "EMHWM_QC3BRZ"
      },
      "source": [
        ""
      ],
      "execution_count": null,
      "outputs": []
    },
    {
      "cell_type": "markdown",
      "metadata": {
        "id": "iEZ_KoPv2_aR"
      },
      "source": [
        "**Linear Regression Algorithm Implements**"
      ]
    },
    {
      "cell_type": "code",
      "metadata": {
        "id": "IM8oxw9v3Ga-"
      },
      "source": [
        "#get target values from dataset\n",
        "x=adsdata.drop(['Month','Active View Viewable','Estimated earnings (INR)'],axis=1)\n",
        "y=adsdata['Estimated earnings (INR)']"
      ],
      "execution_count": null,
      "outputs": []
    },
    {
      "cell_type": "code",
      "metadata": {
        "id": "sOtNo_kb3Ia4"
      },
      "source": [
        "from sklearn.model_selection import train_test_split\n",
        "from sklearn.linear_model import LinearRegression"
      ],
      "execution_count": null,
      "outputs": []
    },
    {
      "cell_type": "code",
      "metadata": {
        "id": "uCXCfJ3H3V-6"
      },
      "source": [
        "#Split the data into training and testing sets using train_test_split function\n",
        "X_train,X_test,y_train,y_test=train_test_split(x,y,test_size=0.4,random_state=1)"
      ],
      "execution_count": null,
      "outputs": []
    },
    {
      "cell_type": "code",
      "metadata": {
        "colab": {
          "base_uri": "https://localhost:8080/"
        },
        "id": "PMpVq3v93vtd",
        "outputId": "b24169ae-8a1d-4904-81a2-83b822dc6f16"
      },
      "source": [
        "print(\"ytrain :\" ,y_train.shape,\"x train :\",X_train.shape)\n",
        "print(\"ytrain :\" ,X_test.shape,\"x train :\",y_test.shape)\n",
        "X_train\n",
        "x"
      ],
      "execution_count": null,
      "outputs": [
        {
          "output_type": "stream",
          "name": "stdout",
          "text": [
            "ytrain : (12,) x train : (12,)\n",
            "ytrain : (9,) x train : (9,)\n"
          ]
        },
        {
          "output_type": "execute_result",
          "data": {
            "text/plain": [
              "0     31\n",
              "1     11\n",
              "2      2\n",
              "3      1\n",
              "4      0\n",
              "5      0\n",
              "6      4\n",
              "7      1\n",
              "8      0\n",
              "9      0\n",
              "10     1\n",
              "11     1\n",
              "12     0\n",
              "13     2\n",
              "14     0\n",
              "15     7\n",
              "16     7\n",
              "17     3\n",
              "18     5\n",
              "19     1\n",
              "20     6\n",
              "Name: Clicks, dtype: int64"
            ]
          },
          "metadata": {},
          "execution_count": 203
        }
      ]
    },
    {
      "cell_type": "code",
      "metadata": {
        "colab": {
          "base_uri": "https://localhost:8080/"
        },
        "id": "mCtRCVQh3aXt",
        "outputId": "64762964-4b34-4496-f0a5-f1d76c089a3e"
      },
      "source": [
        "# Initialize the Linear Regression Model\n",
        "lm=LinearRegression()\n",
        "\n",
        "#Fit the model using training data set\n",
        "lm.fit(X_train,y_train)"
      ],
      "execution_count": null,
      "outputs": [
        {
          "output_type": "execute_result",
          "data": {
            "text/plain": [
              "LinearRegression(copy_X=True, fit_intercept=True, n_jobs=None, normalize=False)"
            ]
          },
          "metadata": {},
          "execution_count": 208
        }
      ]
    },
    {
      "cell_type": "code",
      "metadata": {
        "colab": {
          "base_uri": "https://localhost:8080/"
        },
        "id": "JOhR3maq3drl",
        "outputId": "1778fb0e-eacf-4cb4-922e-aae92585630f"
      },
      "source": [
        "#predict the model using test data\n",
        "y_pred=lm.predict(X_test)\n",
        "# print the coefficients\n",
        "print(lm.intercept_)\n",
        "print(lm.coef_)"
      ],
      "execution_count": null,
      "outputs": [
        {
          "output_type": "stream",
          "name": "stdout",
          "text": [
            "-11.930010590790882\n",
            "[ 0.00865475  0.01716164 -0.14235781  0.00697464  0.5171086 ]\n"
          ]
        }
      ]
    },
    {
      "cell_type": "code",
      "metadata": {
        "id": "ZSL8cvFA3iLb"
      },
      "source": [
        "#Import Libraries for calculating model performance\n",
        "from sklearn.metrics import r2_score,mean_absolute_error,mean_squared_error"
      ],
      "execution_count": null,
      "outputs": []
    },
    {
      "cell_type": "code",
      "metadata": {
        "colab": {
          "base_uri": "https://localhost:8080/",
          "height": 549
        },
        "id": "-7D8mGcy__Q1",
        "outputId": "27487e62-eee6-4b75-8c11-58b24bf7fe26"
      },
      "source": [
        "print(\"Mean Absolute Error\",(y_test,y_pred))\n",
        "print(\"R2 Score\",r2_score(y_test,y_pred))\n",
        "\n",
        "\n",
        "print(\"=======================================\")\n",
        "\n",
        "output_df=pd.DataFrame({'Actual Output':y_test,'Predicted Output':y_pred})\n",
        "output_df"
      ],
      "execution_count": null,
      "outputs": [
        {
          "output_type": "stream",
          "name": "stdout",
          "text": [
            "Mean Absolute Error (15    21.66\n",
            "10     4.46\n",
            "3     39.85\n",
            "18    15.20\n",
            "17    12.44\n",
            "14    62.65\n",
            "16    48.10\n",
            "4     16.42\n",
            "2     13.72\n",
            "Name: Estimated earnings (INR), dtype: float64, array([19.44308915,  2.07778845, 29.62174719, 19.49454722, 14.46500601,\n",
            "       43.38878729, 47.86578429, 16.17575514, 17.16411298]))\n",
            "R2 Score 0.829233787749681\n",
            "=======================================\n"
          ]
        },
        {
          "output_type": "execute_result",
          "data": {
            "text/html": [
              "<div>\n",
              "<style scoped>\n",
              "    .dataframe tbody tr th:only-of-type {\n",
              "        vertical-align: middle;\n",
              "    }\n",
              "\n",
              "    .dataframe tbody tr th {\n",
              "        vertical-align: top;\n",
              "    }\n",
              "\n",
              "    .dataframe thead th {\n",
              "        text-align: right;\n",
              "    }\n",
              "</style>\n",
              "<table border=\"1\" class=\"dataframe\">\n",
              "  <thead>\n",
              "    <tr style=\"text-align: right;\">\n",
              "      <th></th>\n",
              "      <th>Actual Output</th>\n",
              "      <th>Predicted Output</th>\n",
              "    </tr>\n",
              "  </thead>\n",
              "  <tbody>\n",
              "    <tr>\n",
              "      <th>15</th>\n",
              "      <td>21.66</td>\n",
              "      <td>19.443089</td>\n",
              "    </tr>\n",
              "    <tr>\n",
              "      <th>10</th>\n",
              "      <td>4.46</td>\n",
              "      <td>2.077788</td>\n",
              "    </tr>\n",
              "    <tr>\n",
              "      <th>3</th>\n",
              "      <td>39.85</td>\n",
              "      <td>29.621747</td>\n",
              "    </tr>\n",
              "    <tr>\n",
              "      <th>18</th>\n",
              "      <td>15.20</td>\n",
              "      <td>19.494547</td>\n",
              "    </tr>\n",
              "    <tr>\n",
              "      <th>17</th>\n",
              "      <td>12.44</td>\n",
              "      <td>14.465006</td>\n",
              "    </tr>\n",
              "    <tr>\n",
              "      <th>14</th>\n",
              "      <td>62.65</td>\n",
              "      <td>43.388787</td>\n",
              "    </tr>\n",
              "    <tr>\n",
              "      <th>16</th>\n",
              "      <td>48.10</td>\n",
              "      <td>47.865784</td>\n",
              "    </tr>\n",
              "    <tr>\n",
              "      <th>4</th>\n",
              "      <td>16.42</td>\n",
              "      <td>16.175755</td>\n",
              "    </tr>\n",
              "    <tr>\n",
              "      <th>2</th>\n",
              "      <td>13.72</td>\n",
              "      <td>17.164113</td>\n",
              "    </tr>\n",
              "  </tbody>\n",
              "</table>\n",
              "</div>"
            ],
            "text/plain": [
              "    Actual Output  Predicted Output\n",
              "15          21.66         19.443089\n",
              "10           4.46          2.077788\n",
              "3           39.85         29.621747\n",
              "18          15.20         19.494547\n",
              "17          12.44         14.465006\n",
              "14          62.65         43.388787\n",
              "16          48.10         47.865784\n",
              "4           16.42         16.175755\n",
              "2           13.72         17.164113"
            ]
          },
          "metadata": {},
          "execution_count": 211
        }
      ]
    },
    {
      "cell_type": "code",
      "metadata": {
        "colab": {
          "base_uri": "https://localhost:8080/",
          "height": 626
        },
        "id": "Io4mxnNTAD-P",
        "outputId": "7a74bd8e-02f5-476e-8d5e-ca14824edbf7"
      },
      "source": [
        "plt.scatter(x,output_df['Actual Output'])\n",
        "plt.plot(x,)\n",
        "# y_pred.shape\n",
        "# x.shape"
      ],
      "execution_count": null,
      "outputs": [
        {
          "output_type": "error",
          "ename": "ValueError",
          "evalue": "ignored",
          "traceback": [
            "\u001b[0;31m---------------------------------------------------------------------------\u001b[0m",
            "\u001b[0;31mValueError\u001b[0m                                Traceback (most recent call last)",
            "\u001b[0;32m<ipython-input-216-9b5e8cece4d0>\u001b[0m in \u001b[0;36m<module>\u001b[0;34m()\u001b[0m\n\u001b[0;32m----> 1\u001b[0;31m \u001b[0mplt\u001b[0m\u001b[0;34m.\u001b[0m\u001b[0mscatter\u001b[0m\u001b[0;34m(\u001b[0m\u001b[0mx\u001b[0m\u001b[0;34m,\u001b[0m\u001b[0moutput_df\u001b[0m\u001b[0;34m[\u001b[0m\u001b[0;34m'Actual Output'\u001b[0m\u001b[0;34m]\u001b[0m\u001b[0;34m)\u001b[0m\u001b[0;34m\u001b[0m\u001b[0;34m\u001b[0m\u001b[0m\n\u001b[0m\u001b[1;32m      2\u001b[0m \u001b[0mplt\u001b[0m\u001b[0;34m.\u001b[0m\u001b[0mplot\u001b[0m\u001b[0;34m(\u001b[0m\u001b[0mx\u001b[0m\u001b[0;34m,\u001b[0m\u001b[0;34m)\u001b[0m\u001b[0;34m\u001b[0m\u001b[0;34m\u001b[0m\u001b[0m\n\u001b[1;32m      3\u001b[0m \u001b[0;31m# y_pred.shape\u001b[0m\u001b[0;34m\u001b[0m\u001b[0;34m\u001b[0m\u001b[0;34m\u001b[0m\u001b[0m\n\u001b[1;32m      4\u001b[0m \u001b[0;31m# x.shape\u001b[0m\u001b[0;34m\u001b[0m\u001b[0;34m\u001b[0m\u001b[0;34m\u001b[0m\u001b[0m\n",
            "\u001b[0;32m/usr/local/lib/python3.7/dist-packages/matplotlib/pyplot.py\u001b[0m in \u001b[0;36mscatter\u001b[0;34m(x, y, s, c, marker, cmap, norm, vmin, vmax, alpha, linewidths, verts, edgecolors, plotnonfinite, data, **kwargs)\u001b[0m\n\u001b[1;32m   2814\u001b[0m         \u001b[0mverts\u001b[0m\u001b[0;34m=\u001b[0m\u001b[0mverts\u001b[0m\u001b[0;34m,\u001b[0m \u001b[0medgecolors\u001b[0m\u001b[0;34m=\u001b[0m\u001b[0medgecolors\u001b[0m\u001b[0;34m,\u001b[0m\u001b[0;34m\u001b[0m\u001b[0;34m\u001b[0m\u001b[0m\n\u001b[1;32m   2815\u001b[0m         plotnonfinite=plotnonfinite, **({\"data\": data} if data is not\n\u001b[0;32m-> 2816\u001b[0;31m         None else {}), **kwargs)\n\u001b[0m\u001b[1;32m   2817\u001b[0m     \u001b[0msci\u001b[0m\u001b[0;34m(\u001b[0m\u001b[0m__ret\u001b[0m\u001b[0;34m)\u001b[0m\u001b[0;34m\u001b[0m\u001b[0;34m\u001b[0m\u001b[0m\n\u001b[1;32m   2818\u001b[0m     \u001b[0;32mreturn\u001b[0m \u001b[0m__ret\u001b[0m\u001b[0;34m\u001b[0m\u001b[0;34m\u001b[0m\u001b[0m\n",
            "\u001b[0;32m/usr/local/lib/python3.7/dist-packages/matplotlib/__init__.py\u001b[0m in \u001b[0;36minner\u001b[0;34m(ax, data, *args, **kwargs)\u001b[0m\n\u001b[1;32m   1563\u001b[0m     \u001b[0;32mdef\u001b[0m \u001b[0minner\u001b[0m\u001b[0;34m(\u001b[0m\u001b[0max\u001b[0m\u001b[0;34m,\u001b[0m \u001b[0;34m*\u001b[0m\u001b[0margs\u001b[0m\u001b[0;34m,\u001b[0m \u001b[0mdata\u001b[0m\u001b[0;34m=\u001b[0m\u001b[0;32mNone\u001b[0m\u001b[0;34m,\u001b[0m \u001b[0;34m**\u001b[0m\u001b[0mkwargs\u001b[0m\u001b[0;34m)\u001b[0m\u001b[0;34m:\u001b[0m\u001b[0;34m\u001b[0m\u001b[0;34m\u001b[0m\u001b[0m\n\u001b[1;32m   1564\u001b[0m         \u001b[0;32mif\u001b[0m \u001b[0mdata\u001b[0m \u001b[0;32mis\u001b[0m \u001b[0;32mNone\u001b[0m\u001b[0;34m:\u001b[0m\u001b[0;34m\u001b[0m\u001b[0;34m\u001b[0m\u001b[0m\n\u001b[0;32m-> 1565\u001b[0;31m             \u001b[0;32mreturn\u001b[0m \u001b[0mfunc\u001b[0m\u001b[0;34m(\u001b[0m\u001b[0max\u001b[0m\u001b[0;34m,\u001b[0m \u001b[0;34m*\u001b[0m\u001b[0mmap\u001b[0m\u001b[0;34m(\u001b[0m\u001b[0msanitize_sequence\u001b[0m\u001b[0;34m,\u001b[0m \u001b[0margs\u001b[0m\u001b[0;34m)\u001b[0m\u001b[0;34m,\u001b[0m \u001b[0;34m**\u001b[0m\u001b[0mkwargs\u001b[0m\u001b[0;34m)\u001b[0m\u001b[0;34m\u001b[0m\u001b[0;34m\u001b[0m\u001b[0m\n\u001b[0m\u001b[1;32m   1566\u001b[0m \u001b[0;34m\u001b[0m\u001b[0m\n\u001b[1;32m   1567\u001b[0m         \u001b[0mbound\u001b[0m \u001b[0;34m=\u001b[0m \u001b[0mnew_sig\u001b[0m\u001b[0;34m.\u001b[0m\u001b[0mbind\u001b[0m\u001b[0;34m(\u001b[0m\u001b[0max\u001b[0m\u001b[0;34m,\u001b[0m \u001b[0;34m*\u001b[0m\u001b[0margs\u001b[0m\u001b[0;34m,\u001b[0m \u001b[0;34m**\u001b[0m\u001b[0mkwargs\u001b[0m\u001b[0;34m)\u001b[0m\u001b[0;34m\u001b[0m\u001b[0;34m\u001b[0m\u001b[0m\n",
            "\u001b[0;32m/usr/local/lib/python3.7/dist-packages/matplotlib/cbook/deprecation.py\u001b[0m in \u001b[0;36mwrapper\u001b[0;34m(*args, **kwargs)\u001b[0m\n\u001b[1;32m    356\u001b[0m                 \u001b[0;34mf\"%(removal)s.  If any parameter follows {name!r}, they \"\u001b[0m\u001b[0;34m\u001b[0m\u001b[0;34m\u001b[0m\u001b[0m\n\u001b[1;32m    357\u001b[0m                 f\"should be pass as keyword, not positionally.\")\n\u001b[0;32m--> 358\u001b[0;31m         \u001b[0;32mreturn\u001b[0m \u001b[0mfunc\u001b[0m\u001b[0;34m(\u001b[0m\u001b[0;34m*\u001b[0m\u001b[0margs\u001b[0m\u001b[0;34m,\u001b[0m \u001b[0;34m**\u001b[0m\u001b[0mkwargs\u001b[0m\u001b[0;34m)\u001b[0m\u001b[0;34m\u001b[0m\u001b[0;34m\u001b[0m\u001b[0m\n\u001b[0m\u001b[1;32m    359\u001b[0m \u001b[0;34m\u001b[0m\u001b[0m\n\u001b[1;32m    360\u001b[0m     \u001b[0;32mreturn\u001b[0m \u001b[0mwrapper\u001b[0m\u001b[0;34m\u001b[0m\u001b[0;34m\u001b[0m\u001b[0m\n",
            "\u001b[0;32m/usr/local/lib/python3.7/dist-packages/matplotlib/axes/_axes.py\u001b[0m in \u001b[0;36mscatter\u001b[0;34m(self, x, y, s, c, marker, cmap, norm, vmin, vmax, alpha, linewidths, verts, edgecolors, plotnonfinite, **kwargs)\u001b[0m\n\u001b[1;32m   4389\u001b[0m         \u001b[0my\u001b[0m \u001b[0;34m=\u001b[0m \u001b[0mnp\u001b[0m\u001b[0;34m.\u001b[0m\u001b[0mma\u001b[0m\u001b[0;34m.\u001b[0m\u001b[0mravel\u001b[0m\u001b[0;34m(\u001b[0m\u001b[0my\u001b[0m\u001b[0;34m)\u001b[0m\u001b[0;34m\u001b[0m\u001b[0;34m\u001b[0m\u001b[0m\n\u001b[1;32m   4390\u001b[0m         \u001b[0;32mif\u001b[0m \u001b[0mx\u001b[0m\u001b[0;34m.\u001b[0m\u001b[0msize\u001b[0m \u001b[0;34m!=\u001b[0m \u001b[0my\u001b[0m\u001b[0;34m.\u001b[0m\u001b[0msize\u001b[0m\u001b[0;34m:\u001b[0m\u001b[0;34m\u001b[0m\u001b[0;34m\u001b[0m\u001b[0m\n\u001b[0;32m-> 4391\u001b[0;31m             \u001b[0;32mraise\u001b[0m \u001b[0mValueError\u001b[0m\u001b[0;34m(\u001b[0m\u001b[0;34m\"x and y must be the same size\"\u001b[0m\u001b[0;34m)\u001b[0m\u001b[0;34m\u001b[0m\u001b[0;34m\u001b[0m\u001b[0m\n\u001b[0m\u001b[1;32m   4392\u001b[0m \u001b[0;34m\u001b[0m\u001b[0m\n\u001b[1;32m   4393\u001b[0m         \u001b[0;32mif\u001b[0m \u001b[0ms\u001b[0m \u001b[0;32mis\u001b[0m \u001b[0;32mNone\u001b[0m\u001b[0;34m:\u001b[0m\u001b[0;34m\u001b[0m\u001b[0;34m\u001b[0m\u001b[0m\n",
            "\u001b[0;31mValueError\u001b[0m: x and y must be the same size"
          ]
        },
        {
          "output_type": "display_data",
          "data": {
            "image/png": "[encoded data removed]",
            "text/plain": [
              "<Figure size 432x288 with 1 Axes>"
            ]
          },
          "metadata": {
            "needs_background": "light"
          }
        }
      ]
    },
    {
      "cell_type": "code",
      "metadata": {
        "colab": {
          "base_uri": "https://localhost:8080/",
          "height": 700
        },
        "id": "sT9T2Z1aAuLl",
        "outputId": "bcf051f2-d998-472d-fb4f-54e5f84277aa"
      },
      "source": [
        "adsdata.select_dtypes(float)"
      ],
      "execution_count": null,
      "outputs": [
        {
          "output_type": "execute_result",
          "data": {
            "text/html": [
              "<div>\n",
              "<style scoped>\n",
              "    .dataframe tbody tr th:only-of-type {\n",
              "        vertical-align: middle;\n",
              "    }\n",
              "\n",
              "    .dataframe tbody tr th {\n",
              "        vertical-align: top;\n",
              "    }\n",
              "\n",
              "    .dataframe thead th {\n",
              "        text-align: right;\n",
              "    }\n",
              "</style>\n",
              "<table border=\"1\" class=\"dataframe\">\n",
              "  <thead>\n",
              "    <tr style=\"text-align: right;\">\n",
              "      <th></th>\n",
              "      <th>Page RPM (INR)</th>\n",
              "      <th>Impression RPM (INR)</th>\n",
              "      <th>Estimated earnings (INR)</th>\n",
              "    </tr>\n",
              "  </thead>\n",
              "  <tbody>\n",
              "    <tr>\n",
              "      <th>0</th>\n",
              "      <td>237.48</td>\n",
              "      <td>224.63</td>\n",
              "      <td>112.09</td>\n",
              "    </tr>\n",
              "    <tr>\n",
              "      <th>1</th>\n",
              "      <td>306.66</td>\n",
              "      <td>116.48</td>\n",
              "      <td>69.30</td>\n",
              "    </tr>\n",
              "    <tr>\n",
              "      <th>2</th>\n",
              "      <td>46.81</td>\n",
              "      <td>11.42</td>\n",
              "      <td>13.72</td>\n",
              "    </tr>\n",
              "    <tr>\n",
              "      <th>3</th>\n",
              "      <td>126.09</td>\n",
              "      <td>31.06</td>\n",
              "      <td>39.85</td>\n",
              "    </tr>\n",
              "    <tr>\n",
              "      <th>4</th>\n",
              "      <td>63.15</td>\n",
              "      <td>16.89</td>\n",
              "      <td>16.42</td>\n",
              "    </tr>\n",
              "    <tr>\n",
              "      <th>5</th>\n",
              "      <td>45.37</td>\n",
              "      <td>10.30</td>\n",
              "      <td>7.26</td>\n",
              "    </tr>\n",
              "    <tr>\n",
              "      <th>6</th>\n",
              "      <td>26.28</td>\n",
              "      <td>8.17</td>\n",
              "      <td>13.82</td>\n",
              "    </tr>\n",
              "    <tr>\n",
              "      <th>7</th>\n",
              "      <td>178.15</td>\n",
              "      <td>50.52</td>\n",
              "      <td>16.92</td>\n",
              "    </tr>\n",
              "    <tr>\n",
              "      <th>8</th>\n",
              "      <td>186.41</td>\n",
              "      <td>51.64</td>\n",
              "      <td>7.64</td>\n",
              "    </tr>\n",
              "    <tr>\n",
              "      <th>9</th>\n",
              "      <td>7.66</td>\n",
              "      <td>5.50</td>\n",
              "      <td>0.25</td>\n",
              "    </tr>\n",
              "    <tr>\n",
              "      <th>10</th>\n",
              "      <td>36.89</td>\n",
              "      <td>9.94</td>\n",
              "      <td>4.46</td>\n",
              "    </tr>\n",
              "    <tr>\n",
              "      <th>11</th>\n",
              "      <td>87.23</td>\n",
              "      <td>26.35</td>\n",
              "      <td>45.80</td>\n",
              "    </tr>\n",
              "    <tr>\n",
              "      <th>12</th>\n",
              "      <td>133.94</td>\n",
              "      <td>45.46</td>\n",
              "      <td>24.91</td>\n",
              "    </tr>\n",
              "    <tr>\n",
              "      <th>13</th>\n",
              "      <td>101.06</td>\n",
              "      <td>28.52</td>\n",
              "      <td>12.63</td>\n",
              "    </tr>\n",
              "    <tr>\n",
              "      <th>14</th>\n",
              "      <td>86.41</td>\n",
              "      <td>36.13</td>\n",
              "      <td>62.65</td>\n",
              "    </tr>\n",
              "    <tr>\n",
              "      <th>15</th>\n",
              "      <td>51.70</td>\n",
              "      <td>21.60</td>\n",
              "      <td>21.66</td>\n",
              "    </tr>\n",
              "    <tr>\n",
              "      <th>16</th>\n",
              "      <td>144.88</td>\n",
              "      <td>92.86</td>\n",
              "      <td>48.10</td>\n",
              "    </tr>\n",
              "    <tr>\n",
              "      <th>17</th>\n",
              "      <td>19.02</td>\n",
              "      <td>19.46</td>\n",
              "      <td>12.44</td>\n",
              "    </tr>\n",
              "    <tr>\n",
              "      <th>18</th>\n",
              "      <td>18.32</td>\n",
              "      <td>15.55</td>\n",
              "      <td>15.20</td>\n",
              "    </tr>\n",
              "    <tr>\n",
              "      <th>19</th>\n",
              "      <td>3.59</td>\n",
              "      <td>2.51</td>\n",
              "      <td>1.31</td>\n",
              "    </tr>\n",
              "    <tr>\n",
              "      <th>20</th>\n",
              "      <td>54.20</td>\n",
              "      <td>23.52</td>\n",
              "      <td>17.62</td>\n",
              "    </tr>\n",
              "  </tbody>\n",
              "</table>\n",
              "</div>"
            ],
            "text/plain": [
              "    Page RPM (INR)  Impression RPM (INR)  Estimated earnings (INR)\n",
              "0           237.48                224.63                    112.09\n",
              "1           306.66                116.48                     69.30\n",
              "2            46.81                 11.42                     13.72\n",
              "3           126.09                 31.06                     39.85\n",
              "4            63.15                 16.89                     16.42\n",
              "5            45.37                 10.30                      7.26\n",
              "6            26.28                  8.17                     13.82\n",
              "7           178.15                 50.52                     16.92\n",
              "8           186.41                 51.64                      7.64\n",
              "9             7.66                  5.50                      0.25\n",
              "10           36.89                  9.94                      4.46\n",
              "11           87.23                 26.35                     45.80\n",
              "12          133.94                 45.46                     24.91\n",
              "13          101.06                 28.52                     12.63\n",
              "14           86.41                 36.13                     62.65\n",
              "15           51.70                 21.60                     21.66\n",
              "16          144.88                 92.86                     48.10\n",
              "17           19.02                 19.46                     12.44\n",
              "18           18.32                 15.55                     15.20\n",
              "19            3.59                  2.51                      1.31\n",
              "20           54.20                 23.52                     17.62"
            ]
          },
          "metadata": {},
          "execution_count": 192
        }
      ]
    },
    {
      "cell_type": "code",
      "metadata": {
        "id": "eL8LLWCQJmdx"
      },
      "source": [
        ""
      ],
      "execution_count": null,
      "outputs": []
    },
    {
      "cell_type": "code",
      "metadata": {
        "id": "4eyZZekgKEOv"
      },
      "source": [
        ""
      ],
      "execution_count": null,
      "outputs": []
    },
    {
      "cell_type": "code",
      "metadata": {
        "id": "jXpUsC_OKHRK"
      },
      "source": [
        ""
      ],
      "execution_count": null,
      "outputs": []
    }
  ]
}