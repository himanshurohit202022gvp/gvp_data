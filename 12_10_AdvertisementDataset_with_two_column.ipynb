{
  "nbformat": 4,
  "nbformat_minor": 0,
  "metadata": {
    "colab": {
      "name": "12_10 AdvertisementDataset_with two column.ipynb",
      "provenance": [],
      "collapsed_sections": []
    },
    "kernelspec": {
      "name": "python3",
      "display_name": "Python 3"
    },
    "language_info": {
      "name": "python"
    }
  },
  "cells": [
    {
      "cell_type": "code",
      "metadata": {
        "colab": {
          "base_uri": "https://localhost:8080/"
        },
        "id": "vDZ5IRY5pQWl",
        "outputId": "239e6b11-a984-46ce-b84f-b263a47244ad"
      },
      "source": [
        "from google.colab import drive\n",
        "drive.mount('/content/gdrive')"
      ],
      "execution_count": null,
      "outputs": [
        {
          "output_type": "stream",
          "name": "stdout",
          "text": [
            "Mounted at /content/gdrive\n"
          ]
        }
      ]
    },
    {
      "cell_type": "code",
      "metadata": {
        "id": "B-dNuy7opnao"
      },
      "source": [
        "path=(\"/content/gdrive/MyDrive/Colab Notebooks/Advertising.csv\")"
      ],
      "execution_count": null,
      "outputs": []
    },
    {
      "cell_type": "code",
      "metadata": {
        "id": "Gn6NR8xfqJ22"
      },
      "source": [
        "import pandas as pd\n",
        "import numpy as np"
      ],
      "execution_count": null,
      "outputs": []
    },
    {
      "cell_type": "code",
      "metadata": {
        "colab": {
          "base_uri": "https://localhost:8080/",
          "height": 206
        },
        "id": "Dsx0uTYNqOC_",
        "outputId": "a38fc66b-918b-4c9a-933f-46939ecdb0a8"
      },
      "source": [
        "df=pd.read_csv(path)\n",
        "df.head()"
      ],
      "execution_count": null,
      "outputs": [
        {
          "output_type": "execute_result",
          "data": {
            "text/html": [
              "<div>\n",
              "<style scoped>\n",
              "    .dataframe tbody tr th:only-of-type {\n",
              "        vertical-align: middle;\n",
              "    }\n",
              "\n",
              "    .dataframe tbody tr th {\n",
              "        vertical-align: top;\n",
              "    }\n",
              "\n",
              "    .dataframe thead th {\n",
              "        text-align: right;\n",
              "    }\n",
              "</style>\n",
              "<table border=\"1\" class=\"dataframe\">\n",
              "  <thead>\n",
              "    <tr style=\"text-align: right;\">\n",
              "      <th></th>\n",
              "      <th>Unnamed: 0</th>\n",
              "      <th>TV</th>\n",
              "      <th>radio</th>\n",
              "      <th>newspaper</th>\n",
              "      <th>sales</th>\n",
              "    </tr>\n",
              "  </thead>\n",
              "  <tbody>\n",
              "    <tr>\n",
              "      <th>0</th>\n",
              "      <td>1</td>\n",
              "      <td>230.1</td>\n",
              "      <td>37.8</td>\n",
              "      <td>69.2</td>\n",
              "      <td>22.1</td>\n",
              "    </tr>\n",
              "    <tr>\n",
              "      <th>1</th>\n",
              "      <td>2</td>\n",
              "      <td>44.5</td>\n",
              "      <td>39.3</td>\n",
              "      <td>45.1</td>\n",
              "      <td>10.4</td>\n",
              "    </tr>\n",
              "    <tr>\n",
              "      <th>2</th>\n",
              "      <td>3</td>\n",
              "      <td>17.2</td>\n",
              "      <td>45.9</td>\n",
              "      <td>69.3</td>\n",
              "      <td>9.3</td>\n",
              "    </tr>\n",
              "    <tr>\n",
              "      <th>3</th>\n",
              "      <td>4</td>\n",
              "      <td>151.5</td>\n",
              "      <td>41.3</td>\n",
              "      <td>58.5</td>\n",
              "      <td>18.5</td>\n",
              "    </tr>\n",
              "    <tr>\n",
              "      <th>4</th>\n",
              "      <td>5</td>\n",
              "      <td>180.8</td>\n",
              "      <td>10.8</td>\n",
              "      <td>58.4</td>\n",
              "      <td>12.9</td>\n",
              "    </tr>\n",
              "  </tbody>\n",
              "</table>\n",
              "</div>"
            ],
            "text/plain": [
              "   Unnamed: 0     TV  radio  newspaper  sales\n",
              "0           1  230.1   37.8       69.2   22.1\n",
              "1           2   44.5   39.3       45.1   10.4\n",
              "2           3   17.2   45.9       69.3    9.3\n",
              "3           4  151.5   41.3       58.5   18.5\n",
              "4           5  180.8   10.8       58.4   12.9"
            ]
          },
          "metadata": {},
          "execution_count": 4
        }
      ]
    },
    {
      "cell_type": "markdown",
      "metadata": {
        "id": "iNpjaOaQq0Ci"
      },
      "source": [
        "Description data\n",
        "Here only all data is continuose not any target classification column\n",
        "\n",
        "#libraries for data pre processing\n",
        "1-pandas\n",
        "2-numpy\n",
        "3-metplotlib\n",
        "4-seaborn\n",
        "\n",
        "#preprocessing"
      ]
    },
    {
      "cell_type": "code",
      "metadata": {
        "colab": {
          "base_uri": "https://localhost:8080/"
        },
        "id": "9gfStdhJqS42",
        "outputId": "d4d4a441-68a1-47d2-ed73-c5191acf4d7d"
      },
      "source": [
        "df.shape"
      ],
      "execution_count": null,
      "outputs": [
        {
          "output_type": "execute_result",
          "data": {
            "text/plain": [
              "(200, 5)"
            ]
          },
          "metadata": {},
          "execution_count": 5
        }
      ]
    },
    {
      "cell_type": "markdown",
      "metadata": {
        "id": "jhHKOssWtFD2"
      },
      "source": [
        "Data have total 200 number of rows and 5 number of columns"
      ]
    },
    {
      "cell_type": "code",
      "metadata": {
        "colab": {
          "base_uri": "https://localhost:8080/"
        },
        "id": "O5Oc8tT7tN3Y",
        "outputId": "dca8f078-4d37-4862-c0e2-c1bba0173497"
      },
      "source": [
        "df.info()"
      ],
      "execution_count": null,
      "outputs": [
        {
          "output_type": "stream",
          "name": "stdout",
          "text": [
            "<class 'pandas.core.frame.DataFrame'>\n",
            "RangeIndex: 200 entries, 0 to 199\n",
            "Data columns (total 5 columns):\n",
            " #   Column      Non-Null Count  Dtype  \n",
            "---  ------      --------------  -----  \n",
            " 0   Unnamed: 0  200 non-null    int64  \n",
            " 1   TV          200 non-null    float64\n",
            " 2   radio       200 non-null    float64\n",
            " 3   newspaper   200 non-null    float64\n",
            " 4   sales       200 non-null    float64\n",
            "dtypes: float64(4), int64(1)\n",
            "memory usage: 7.9 KB\n"
          ]
        }
      ]
    },
    {
      "cell_type": "markdown",
      "metadata": {
        "id": "AoZE-mHotSfQ"
      },
      "source": [
        "Q-what is the deference between info and describe\n",
        "\n",
        "using info we find the metadata of dataframe"
      ]
    },
    {
      "cell_type": "code",
      "metadata": {
        "colab": {
          "base_uri": "https://localhost:8080/",
          "height": 300
        },
        "id": "wOz64OBCs31U",
        "outputId": "50353925-f764-4d26-b23f-637881c74fc2"
      },
      "source": [
        "df.describe()"
      ],
      "execution_count": null,
      "outputs": [
        {
          "output_type": "execute_result",
          "data": {
            "text/html": [
              "<div>\n",
              "<style scoped>\n",
              "    .dataframe tbody tr th:only-of-type {\n",
              "        vertical-align: middle;\n",
              "    }\n",
              "\n",
              "    .dataframe tbody tr th {\n",
              "        vertical-align: top;\n",
              "    }\n",
              "\n",
              "    .dataframe thead th {\n",
              "        text-align: right;\n",
              "    }\n",
              "</style>\n",
              "<table border=\"1\" class=\"dataframe\">\n",
              "  <thead>\n",
              "    <tr style=\"text-align: right;\">\n",
              "      <th></th>\n",
              "      <th>Unnamed: 0</th>\n",
              "      <th>TV</th>\n",
              "      <th>radio</th>\n",
              "      <th>newspaper</th>\n",
              "      <th>sales</th>\n",
              "    </tr>\n",
              "  </thead>\n",
              "  <tbody>\n",
              "    <tr>\n",
              "      <th>count</th>\n",
              "      <td>200.000000</td>\n",
              "      <td>200.000000</td>\n",
              "      <td>200.000000</td>\n",
              "      <td>200.000000</td>\n",
              "      <td>200.000000</td>\n",
              "    </tr>\n",
              "    <tr>\n",
              "      <th>mean</th>\n",
              "      <td>100.500000</td>\n",
              "      <td>147.042500</td>\n",
              "      <td>23.264000</td>\n",
              "      <td>30.554000</td>\n",
              "      <td>14.022500</td>\n",
              "    </tr>\n",
              "    <tr>\n",
              "      <th>std</th>\n",
              "      <td>57.879185</td>\n",
              "      <td>85.854236</td>\n",
              "      <td>14.846809</td>\n",
              "      <td>21.778621</td>\n",
              "      <td>5.217457</td>\n",
              "    </tr>\n",
              "    <tr>\n",
              "      <th>min</th>\n",
              "      <td>1.000000</td>\n",
              "      <td>0.700000</td>\n",
              "      <td>0.000000</td>\n",
              "      <td>0.300000</td>\n",
              "      <td>1.600000</td>\n",
              "    </tr>\n",
              "    <tr>\n",
              "      <th>25%</th>\n",
              "      <td>50.750000</td>\n",
              "      <td>74.375000</td>\n",
              "      <td>9.975000</td>\n",
              "      <td>12.750000</td>\n",
              "      <td>10.375000</td>\n",
              "    </tr>\n",
              "    <tr>\n",
              "      <th>50%</th>\n",
              "      <td>100.500000</td>\n",
              "      <td>149.750000</td>\n",
              "      <td>22.900000</td>\n",
              "      <td>25.750000</td>\n",
              "      <td>12.900000</td>\n",
              "    </tr>\n",
              "    <tr>\n",
              "      <th>75%</th>\n",
              "      <td>150.250000</td>\n",
              "      <td>218.825000</td>\n",
              "      <td>36.525000</td>\n",
              "      <td>45.100000</td>\n",
              "      <td>17.400000</td>\n",
              "    </tr>\n",
              "    <tr>\n",
              "      <th>max</th>\n",
              "      <td>200.000000</td>\n",
              "      <td>296.400000</td>\n",
              "      <td>49.600000</td>\n",
              "      <td>114.000000</td>\n",
              "      <td>27.000000</td>\n",
              "    </tr>\n",
              "  </tbody>\n",
              "</table>\n",
              "</div>"
            ],
            "text/plain": [
              "       Unnamed: 0          TV       radio   newspaper       sales\n",
              "count  200.000000  200.000000  200.000000  200.000000  200.000000\n",
              "mean   100.500000  147.042500   23.264000   30.554000   14.022500\n",
              "std     57.879185   85.854236   14.846809   21.778621    5.217457\n",
              "min      1.000000    0.700000    0.000000    0.300000    1.600000\n",
              "25%     50.750000   74.375000    9.975000   12.750000   10.375000\n",
              "50%    100.500000  149.750000   22.900000   25.750000   12.900000\n",
              "75%    150.250000  218.825000   36.525000   45.100000   17.400000\n",
              "max    200.000000  296.400000   49.600000  114.000000   27.000000"
            ]
          },
          "metadata": {},
          "execution_count": 7
        }
      ]
    },
    {
      "cell_type": "markdown",
      "metadata": {
        "id": "URQWlbAWtePG"
      },
      "source": [
        "#Interpretation of data using describe output\n",
        "\n",
        "1-In this data high range of value in TV column\n",
        "2-In this data low range of value in radio column\n",
        "3-using std radio media is stable\n",
        "4-"
      ]
    },
    {
      "cell_type": "code",
      "metadata": {
        "id": "98xQh2RVwkrR"
      },
      "source": [
        "# df=df.drop(columns=[\"Unnamed: 0 \"],axis=1)"
      ],
      "execution_count": null,
      "outputs": []
    },
    {
      "cell_type": "code",
      "metadata": {
        "id": "igrNZW2-tC7g"
      },
      "source": [
        "import matplotlib.pyplot as plt\n",
        "import seaborn as sns"
      ],
      "execution_count": null,
      "outputs": []
    },
    {
      "cell_type": "code",
      "metadata": {
        "colab": {
          "base_uri": "https://localhost:8080/",
          "height": 952
        },
        "id": "_utohk0Qu9f8",
        "outputId": "41009190-c21c-4c28-c63c-537539cccc08"
      },
      "source": [
        "sns.boxplot(df['newspaper'])\n",
        "plt.plot(122)\n",
        "plt.show()\n",
        "sns.boxplot(df['radio'])\n",
        "plt.plot(122)\n",
        "plt.show()\n",
        "sns.boxplot(df['TV'])"
      ],
      "execution_count": null,
      "outputs": [
        {
          "output_type": "stream",
          "name": "stderr",
          "text": [
            "/usr/local/lib/python3.7/dist-packages/seaborn/_decorators.py:43: FutureWarning: Pass the following variable as a keyword arg: x. From version 0.12, the only valid positional argument will be `data`, and passing other arguments without an explicit keyword will result in an error or misinterpretation.\n",
            "  FutureWarning\n"
          ]
        },
        {
          "output_type": "display_data",
          "data": {
            "image/png": "[encoded data removed]",
            "text/plain": [
              "<Figure size 432x288 with 1 Axes>"
            ]
          },
          "metadata": {
            "needs_background": "light"
          }
        },
        {
          "output_type": "stream",
          "name": "stderr",
          "text": [
            "/usr/local/lib/python3.7/dist-packages/seaborn/_decorators.py:43: FutureWarning: Pass the following variable as a keyword arg: x. From version 0.12, the only valid positional argument will be `data`, and passing other arguments without an explicit keyword will result in an error or misinterpretation.\n",
            "  FutureWarning\n"
          ]
        },
        {
          "output_type": "display_data",
          "data": {
            "image/png": "[encoded data removed]",
            "text/plain": [
              "<Figure size 432x288 with 1 Axes>"
            ]
          },
          "metadata": {
            "needs_background": "light"
          }
        },
        {
          "output_type": "stream",
          "name": "stderr",
          "text": [
            "/usr/local/lib/python3.7/dist-packages/seaborn/_decorators.py:43: FutureWarning: Pass the following variable as a keyword arg: x. From version 0.12, the only valid positional argument will be `data`, and passing other arguments without an explicit keyword will result in an error or misinterpretation.\n",
            "  FutureWarning\n"
          ]
        },
        {
          "output_type": "execute_result",
          "data": {
            "text/plain": [
              "<matplotlib.axes._subplots.AxesSubplot at 0x7fc6500d2910>"
            ]
          },
          "metadata": {},
          "execution_count": 10
        },
        {
          "output_type": "display_data",
          "data": {
            "image/png": "[encoded data removed]",
            "text/plain": [
              "<Figure size 432x288 with 1 Axes>"
            ]
          },
          "metadata": {
            "needs_background": "light"
          }
        }
      ]
    },
    {
      "cell_type": "code",
      "metadata": {
        "id": "IhkSXiPyvKG5",
        "colab": {
          "base_uri": "https://localhost:8080/",
          "height": 391
        },
        "outputId": "9f3bf2d6-0066-4135-a89f-c625d92acd20"
      },
      "source": [
        "sns.boxplot(df['radio'])\n",
        "plt.plot(1,2,2)\n",
        "sns.boxplot(df['TV'])"
      ],
      "execution_count": null,
      "outputs": [
        {
          "output_type": "stream",
          "name": "stderr",
          "text": [
            "/usr/local/lib/python3.7/dist-packages/seaborn/_decorators.py:43: FutureWarning: Pass the following variable as a keyword arg: x. From version 0.12, the only valid positional argument will be `data`, and passing other arguments without an explicit keyword will result in an error or misinterpretation.\n",
            "  FutureWarning\n",
            "/usr/local/lib/python3.7/dist-packages/seaborn/_decorators.py:43: FutureWarning: Pass the following variable as a keyword arg: x. From version 0.12, the only valid positional argument will be `data`, and passing other arguments without an explicit keyword will result in an error or misinterpretation.\n",
            "  FutureWarning\n"
          ]
        },
        {
          "output_type": "execute_result",
          "data": {
            "text/plain": [
              "<matplotlib.axes._subplots.AxesSubplot at 0x7fc650047d50>"
            ]
          },
          "metadata": {},
          "execution_count": 11
        },
        {
          "output_type": "display_data",
          "data": {
            "image/png": "[encoded data removed]",
            "text/plain": [
              "<Figure size 432x288 with 1 Axes>"
            ]
          },
          "metadata": {
            "needs_background": "light"
          }
        }
      ]
    },
    {
      "cell_type": "code",
      "metadata": {
        "colab": {
          "base_uri": "https://localhost:8080/",
          "height": 921
        },
        "id": "eVVFOTTsvzmo",
        "outputId": "d632904b-7195-4707-92a7-7f6ecd481d4e"
      },
      "source": [
        "sns.pairplot(df)"
      ],
      "execution_count": null,
      "outputs": [
        {
          "output_type": "execute_result",
          "data": {
            "text/plain": [
              "<seaborn.axisgrid.PairGrid at 0x7fc64ffcef50>"
            ]
          },
          "metadata": {},
          "execution_count": 12
        },
        {
          "output_type": "display_data",
          "data": {
            "image/png": "[encoded data removed]",
            "text/plain": [
              "<Figure size 900x900 with 30 Axes>"
            ]
          },
          "metadata": {
            "needs_background": "light"
          }
        }
      ]
    },
    {
      "cell_type": "markdown",
      "metadata": {
        "id": "AkkxlRsvxLGC"
      },
      "source": [
        "#interpretation\n"
      ]
    },
    {
      "cell_type": "code",
      "metadata": {
        "colab": {
          "base_uri": "https://localhost:8080/",
          "height": 206
        },
        "id": "74P8TXcPwLrI",
        "outputId": "2ac7ca07-1e9f-4128-bcad-b3434608b3b0"
      },
      "source": [
        "df.corr()"
      ],
      "execution_count": null,
      "outputs": [
        {
          "output_type": "execute_result",
          "data": {
            "text/html": [
              "<div>\n",
              "<style scoped>\n",
              "    .dataframe tbody tr th:only-of-type {\n",
              "        vertical-align: middle;\n",
              "    }\n",
              "\n",
              "    .dataframe tbody tr th {\n",
              "        vertical-align: top;\n",
              "    }\n",
              "\n",
              "    .dataframe thead th {\n",
              "        text-align: right;\n",
              "    }\n",
              "</style>\n",
              "<table border=\"1\" class=\"dataframe\">\n",
              "  <thead>\n",
              "    <tr style=\"text-align: right;\">\n",
              "      <th></th>\n",
              "      <th>Unnamed: 0</th>\n",
              "      <th>TV</th>\n",
              "      <th>radio</th>\n",
              "      <th>newspaper</th>\n",
              "      <th>sales</th>\n",
              "    </tr>\n",
              "  </thead>\n",
              "  <tbody>\n",
              "    <tr>\n",
              "      <th>Unnamed: 0</th>\n",
              "      <td>1.000000</td>\n",
              "      <td>0.017715</td>\n",
              "      <td>-0.110680</td>\n",
              "      <td>-0.154944</td>\n",
              "      <td>-0.051616</td>\n",
              "    </tr>\n",
              "    <tr>\n",
              "      <th>TV</th>\n",
              "      <td>0.017715</td>\n",
              "      <td>1.000000</td>\n",
              "      <td>0.054809</td>\n",
              "      <td>0.056648</td>\n",
              "      <td>0.782224</td>\n",
              "    </tr>\n",
              "    <tr>\n",
              "      <th>radio</th>\n",
              "      <td>-0.110680</td>\n",
              "      <td>0.054809</td>\n",
              "      <td>1.000000</td>\n",
              "      <td>0.354104</td>\n",
              "      <td>0.576223</td>\n",
              "    </tr>\n",
              "    <tr>\n",
              "      <th>newspaper</th>\n",
              "      <td>-0.154944</td>\n",
              "      <td>0.056648</td>\n",
              "      <td>0.354104</td>\n",
              "      <td>1.000000</td>\n",
              "      <td>0.228299</td>\n",
              "    </tr>\n",
              "    <tr>\n",
              "      <th>sales</th>\n",
              "      <td>-0.051616</td>\n",
              "      <td>0.782224</td>\n",
              "      <td>0.576223</td>\n",
              "      <td>0.228299</td>\n",
              "      <td>1.000000</td>\n",
              "    </tr>\n",
              "  </tbody>\n",
              "</table>\n",
              "</div>"
            ],
            "text/plain": [
              "            Unnamed: 0        TV     radio  newspaper     sales\n",
              "Unnamed: 0    1.000000  0.017715 -0.110680  -0.154944 -0.051616\n",
              "TV            0.017715  1.000000  0.054809   0.056648  0.782224\n",
              "radio        -0.110680  0.054809  1.000000   0.354104  0.576223\n",
              "newspaper    -0.154944  0.056648  0.354104   1.000000  0.228299\n",
              "sales        -0.051616  0.782224  0.576223   0.228299  1.000000"
            ]
          },
          "metadata": {},
          "execution_count": 13
        }
      ]
    },
    {
      "cell_type": "code",
      "metadata": {
        "id": "jh84HTHhxR8m"
      },
      "source": [
        "x1=df[['TV','radio']]"
      ],
      "execution_count": null,
      "outputs": []
    },
    {
      "cell_type": "code",
      "metadata": {
        "colab": {
          "base_uri": "https://localhost:8080/"
        },
        "id": "t87AezSTx29w",
        "outputId": "2ad8f71c-2790-41a3-f924-a19e225a715c"
      },
      "source": [
        "type(x1)"
      ],
      "execution_count": null,
      "outputs": [
        {
          "output_type": "execute_result",
          "data": {
            "text/plain": [
              "pandas.core.frame.DataFrame"
            ]
          },
          "metadata": {},
          "execution_count": 15
        }
      ]
    },
    {
      "cell_type": "code",
      "metadata": {
        "id": "ZoUHq-cEx4bC"
      },
      "source": [
        "y1=df[['sales']]"
      ],
      "execution_count": null,
      "outputs": []
    },
    {
      "cell_type": "code",
      "metadata": {
        "id": "4CaZxWclyLf5"
      },
      "source": [
        "from sklearn.model_selection import train_test_split "
      ],
      "execution_count": null,
      "outputs": []
    },
    {
      "cell_type": "code",
      "metadata": {
        "id": "QYkKSsn0ybtk"
      },
      "source": [
        "xtrain,xtest,ytrain,ytest=train_test_split(x1,y1,test_size=.20,random_state=1)"
      ],
      "execution_count": null,
      "outputs": []
    },
    {
      "cell_type": "code",
      "metadata": {
        "colab": {
          "base_uri": "https://localhost:8080/"
        },
        "id": "tozwx79Gy1zW",
        "outputId": "1766eb18-fce4-45a9-9ffe-4cfc6f1a3e51"
      },
      "source": [
        "xtrain.shape"
      ],
      "execution_count": null,
      "outputs": [
        {
          "output_type": "execute_result",
          "data": {
            "text/plain": [
              "(160, 2)"
            ]
          },
          "metadata": {},
          "execution_count": 19
        }
      ]
    },
    {
      "cell_type": "code",
      "metadata": {
        "colab": {
          "base_uri": "https://localhost:8080/"
        },
        "id": "9eby9g5dzIsl",
        "outputId": "abec0935-f7db-4ec6-ff64-fec2215a6083"
      },
      "source": [
        "ytrain.shape"
      ],
      "execution_count": null,
      "outputs": [
        {
          "output_type": "execute_result",
          "data": {
            "text/plain": [
              "(160, 1)"
            ]
          },
          "metadata": {},
          "execution_count": 20
        }
      ]
    },
    {
      "cell_type": "code",
      "metadata": {
        "colab": {
          "base_uri": "https://localhost:8080/"
        },
        "id": "8nlXTDY4zQmv",
        "outputId": "866b7c23-16b6-4b85-e9f5-730fa4b9197a"
      },
      "source": [
        "xtest.shape"
      ],
      "execution_count": null,
      "outputs": [
        {
          "output_type": "execute_result",
          "data": {
            "text/plain": [
              "(40, 2)"
            ]
          },
          "metadata": {},
          "execution_count": 21
        }
      ]
    },
    {
      "cell_type": "code",
      "metadata": {
        "colab": {
          "base_uri": "https://localhost:8080/"
        },
        "id": "-pY_l4uKzSvm",
        "outputId": "a8365697-d6d7-4cb5-94c7-a8f0d0ef81db"
      },
      "source": [
        "ytest.shape"
      ],
      "execution_count": null,
      "outputs": [
        {
          "output_type": "execute_result",
          "data": {
            "text/plain": [
              "(40, 1)"
            ]
          },
          "metadata": {},
          "execution_count": 22
        }
      ]
    },
    {
      "cell_type": "code",
      "metadata": {
        "id": "NpinHT1jzUqv"
      },
      "source": [
        "from sklearn.linear_model import LinearRegression"
      ],
      "execution_count": null,
      "outputs": []
    },
    {
      "cell_type": "code",
      "metadata": {
        "id": "hmjdAg7AzqIk"
      },
      "source": [
        "model1=LinearRegression(fit_intercept=True)"
      ],
      "execution_count": null,
      "outputs": []
    },
    {
      "cell_type": "code",
      "metadata": {
        "colab": {
          "base_uri": "https://localhost:8080/"
        },
        "id": "ZsjsvohazzLR",
        "outputId": "14c66926-d249-4b9b-db35-310c5c87b41a"
      },
      "source": [
        "model1.fit(xtrain,ytrain)"
      ],
      "execution_count": null,
      "outputs": [
        {
          "output_type": "execute_result",
          "data": {
            "text/plain": [
              "LinearRegression(copy_X=True, fit_intercept=True, n_jobs=None, normalize=False)"
            ]
          },
          "metadata": {},
          "execution_count": 25
        }
      ]
    },
    {
      "cell_type": "code",
      "metadata": {
        "id": "DJ3OgDITz-gj"
      },
      "source": [
        "yp=model1.predict(xtest)"
      ],
      "execution_count": null,
      "outputs": []
    },
    {
      "cell_type": "code",
      "metadata": {
        "colab": {
          "base_uri": "https://localhost:8080/"
        },
        "id": "vOt2QJLr0E1v",
        "outputId": "436cc792-33e1-492a-d56a-f066b7cf4f69"
      },
      "source": [
        "yp"
      ],
      "execution_count": null,
      "outputs": [
        {
          "output_type": "execute_result",
          "data": {
            "text/plain": [
              "array([[21.75602835],\n",
              "       [16.45283   ],\n",
              "       [ 7.68498075],\n",
              "       [17.89854771],\n",
              "       [18.67725322],\n",
              "       [23.8001131 ],\n",
              "       [16.28958747],\n",
              "       [13.36567675],\n",
              "       [ 9.13663933],\n",
              "       [17.29146113],\n",
              "       [14.41976185],\n",
              "       [ 9.88105063],\n",
              "       [17.33065475],\n",
              "       [16.69814917],\n",
              "       [15.00680872],\n",
              "       [15.48131088],\n",
              "       [12.43241041],\n",
              "       [17.31064343],\n",
              "       [11.16764004],\n",
              "       [18.13321062],\n",
              "       [ 9.38132296],\n",
              "       [12.71353738],\n",
              "       [ 8.75011855],\n",
              "       [10.5014414 ],\n",
              "       [11.37124838],\n",
              "       [15.03593604],\n",
              "       [ 9.77378461],\n",
              "       [19.48694106],\n",
              "       [18.32570002],\n",
              "       [17.20710464],\n",
              "       [21.66189194],\n",
              "       [14.55054628],\n",
              "       [16.37218182],\n",
              "       [12.32883551],\n",
              "       [20.02621323],\n",
              "       [15.39390999],\n",
              "       [13.98341958],\n",
              "       [10.03852687],\n",
              "       [21.01121113],\n",
              "       [ 7.48429727]])"
            ]
          },
          "metadata": {},
          "execution_count": 27
        }
      ]
    },
    {
      "cell_type": "code",
      "metadata": {
        "colab": {
          "base_uri": "https://localhost:8080/"
        },
        "id": "Yp0MG0va0F1r",
        "outputId": "bd1dc36f-76d6-494b-fa07-b542d1424836"
      },
      "source": [
        "b=model1.intercept_\n",
        "b"
      ],
      "execution_count": null,
      "outputs": [
        {
          "output_type": "execute_result",
          "data": {
            "text/plain": [
              "array([2.94751504])"
            ]
          },
          "metadata": {},
          "execution_count": 28
        }
      ]
    },
    {
      "cell_type": "code",
      "metadata": {
        "colab": {
          "base_uri": "https://localhost:8080/"
        },
        "id": "cJIibfxL0KW0",
        "outputId": "8841c4ea-4c9c-4b24-91ad-eebf963b52a7"
      },
      "source": [
        "a=model1.coef_\n",
        "a"
      ],
      "execution_count": null,
      "outputs": [
        {
          "output_type": "execute_result",
          "data": {
            "text/plain": [
              "array([[0.04686997, 0.1800065 ]])"
            ]
          },
          "metadata": {},
          "execution_count": 29
        }
      ]
    },
    {
      "cell_type": "code",
      "metadata": {
        "id": "OAbPL1uu0PiR"
      },
      "source": [
        "\n",
        "\n",
        "\n",
        "\n",
        "# yh=a + b*ytest"
      ],
      "execution_count": null,
      "outputs": []
    },
    {
      "cell_type": "code",
      "metadata": {
        "colab": {
          "base_uri": "https://localhost:8080/",
          "height": 1000
        },
        "id": "LrXxUmqK06Q4",
        "outputId": "06b2ec9c-4c34-4e62-d7e8-970101904930"
      },
      "source": [
        "yh"
      ],
      "execution_count": null,
      "outputs": [
        {
          "output_type": "execute_result",
          "data": {
            "text/html": [
              "<div>\n",
              "<style scoped>\n",
              "    .dataframe tbody tr th:only-of-type {\n",
              "        vertical-align: middle;\n",
              "    }\n",
              "\n",
              "    .dataframe tbody tr th {\n",
              "        vertical-align: top;\n",
              "    }\n",
              "\n",
              "    .dataframe thead th {\n",
              "        text-align: right;\n",
              "    }\n",
              "</style>\n",
              "<table border=\"1\" class=\"dataframe\">\n",
              "  <thead>\n",
              "    <tr style=\"text-align: right;\">\n",
              "      <th></th>\n",
              "      <th>sales</th>\n",
              "    </tr>\n",
              "  </thead>\n",
              "  <tbody>\n",
              "    <tr>\n",
              "      <th>58</th>\n",
              "      <td>161.883883</td>\n",
              "    </tr>\n",
              "    <tr>\n",
              "      <th>40</th>\n",
              "      <td>112.925514</td>\n",
              "    </tr>\n",
              "    <tr>\n",
              "      <th>34</th>\n",
              "      <td>64.647123</td>\n",
              "    </tr>\n",
              "    <tr>\n",
              "      <th>102</th>\n",
              "      <td>100.685922</td>\n",
              "    </tr>\n",
              "    <tr>\n",
              "      <th>184</th>\n",
              "      <td>119.725288</td>\n",
              "    </tr>\n",
              "    <tr>\n",
              "      <th>198</th>\n",
              "      <td>173.443498</td>\n",
              "    </tr>\n",
              "    <tr>\n",
              "      <th>95</th>\n",
              "      <td>114.965446</td>\n",
              "    </tr>\n",
              "    <tr>\n",
              "      <th>4</th>\n",
              "      <td>87.766353</td>\n",
              "    </tr>\n",
              "    <tr>\n",
              "      <th>29</th>\n",
              "      <td>71.446896</td>\n",
              "    </tr>\n",
              "    <tr>\n",
              "      <th>168</th>\n",
              "      <td>116.325401</td>\n",
              "    </tr>\n",
              "    <tr>\n",
              "      <th>171</th>\n",
              "      <td>98.645990</td>\n",
              "    </tr>\n",
              "    <tr>\n",
              "      <th>18</th>\n",
              "      <td>76.886715</td>\n",
              "    </tr>\n",
              "    <tr>\n",
              "      <th>11</th>\n",
              "      <td>118.365333</td>\n",
              "    </tr>\n",
              "    <tr>\n",
              "      <th>89</th>\n",
              "      <td>113.605492</td>\n",
              "    </tr>\n",
              "    <tr>\n",
              "      <th>110</th>\n",
              "      <td>91.166239</td>\n",
              "    </tr>\n",
              "    <tr>\n",
              "      <th>118</th>\n",
              "      <td>108.165673</td>\n",
              "    </tr>\n",
              "    <tr>\n",
              "      <th>159</th>\n",
              "      <td>87.766353</td>\n",
              "    </tr>\n",
              "    <tr>\n",
              "      <th>35</th>\n",
              "      <td>87.086375</td>\n",
              "    </tr>\n",
              "    <tr>\n",
              "      <th>136</th>\n",
              "      <td>64.647123</td>\n",
              "    </tr>\n",
              "    <tr>\n",
              "      <th>59</th>\n",
              "      <td>125.165107</td>\n",
              "    </tr>\n",
              "    <tr>\n",
              "      <th>51</th>\n",
              "      <td>72.806851</td>\n",
              "    </tr>\n",
              "    <tr>\n",
              "      <th>16</th>\n",
              "      <td>85.046443</td>\n",
              "    </tr>\n",
              "    <tr>\n",
              "      <th>44</th>\n",
              "      <td>57.847349</td>\n",
              "    </tr>\n",
              "    <tr>\n",
              "      <th>94</th>\n",
              "      <td>78.246670</td>\n",
              "    </tr>\n",
              "    <tr>\n",
              "      <th>31</th>\n",
              "      <td>80.966579</td>\n",
              "    </tr>\n",
              "    <tr>\n",
              "      <th>162</th>\n",
              "      <td>101.365899</td>\n",
              "    </tr>\n",
              "    <tr>\n",
              "      <th>38</th>\n",
              "      <td>68.726987</td>\n",
              "    </tr>\n",
              "    <tr>\n",
              "      <th>28</th>\n",
              "      <td>128.564993</td>\n",
              "    </tr>\n",
              "    <tr>\n",
              "      <th>193</th>\n",
              "      <td>133.324835</td>\n",
              "    </tr>\n",
              "    <tr>\n",
              "      <th>27</th>\n",
              "      <td>108.165673</td>\n",
              "    </tr>\n",
              "    <tr>\n",
              "      <th>47</th>\n",
              "      <td>157.804019</td>\n",
              "    </tr>\n",
              "    <tr>\n",
              "      <th>165</th>\n",
              "      <td>80.966579</td>\n",
              "    </tr>\n",
              "    <tr>\n",
              "      <th>194</th>\n",
              "      <td>117.685356</td>\n",
              "    </tr>\n",
              "    <tr>\n",
              "      <th>177</th>\n",
              "      <td>79.606624</td>\n",
              "    </tr>\n",
              "    <tr>\n",
              "      <th>176</th>\n",
              "      <td>137.404699</td>\n",
              "    </tr>\n",
              "    <tr>\n",
              "      <th>97</th>\n",
              "      <td>105.445764</td>\n",
              "    </tr>\n",
              "    <tr>\n",
              "      <th>174</th>\n",
              "      <td>78.246670</td>\n",
              "    </tr>\n",
              "    <tr>\n",
              "      <th>73</th>\n",
              "      <td>74.846783</td>\n",
              "    </tr>\n",
              "    <tr>\n",
              "      <th>69</th>\n",
              "      <td>151.684223</td>\n",
              "    </tr>\n",
              "    <tr>\n",
              "      <th>172</th>\n",
              "      <td>51.727553</td>\n",
              "    </tr>\n",
              "  </tbody>\n",
              "</table>\n",
              "</div>"
            ],
            "text/plain": [
              "          sales\n",
              "58   161.883883\n",
              "40   112.925514\n",
              "34    64.647123\n",
              "102  100.685922\n",
              "184  119.725288\n",
              "198  173.443498\n",
              "95   114.965446\n",
              "4     87.766353\n",
              "29    71.446896\n",
              "168  116.325401\n",
              "171   98.645990\n",
              "18    76.886715\n",
              "11   118.365333\n",
              "89   113.605492\n",
              "110   91.166239\n",
              "118  108.165673\n",
              "159   87.766353\n",
              "35    87.086375\n",
              "136   64.647123\n",
              "59   125.165107\n",
              "51    72.806851\n",
              "16    85.046443\n",
              "44    57.847349\n",
              "94    78.246670\n",
              "31    80.966579\n",
              "162  101.365899\n",
              "38    68.726987\n",
              "28   128.564993\n",
              "193  133.324835\n",
              "27   108.165673\n",
              "47   157.804019\n",
              "165   80.966579\n",
              "194  117.685356\n",
              "177   79.606624\n",
              "176  137.404699\n",
              "97   105.445764\n",
              "174   78.246670\n",
              "73    74.846783\n",
              "69   151.684223\n",
              "172   51.727553"
            ]
          },
          "metadata": {},
          "execution_count": 32
        }
      ]
    },
    {
      "cell_type": "code",
      "metadata": {
        "colab": {
          "base_uri": "https://localhost:8080/",
          "height": 283
        },
        "id": "rZc7UXmw1FEc",
        "outputId": "8e4e0fbd-c4af-433d-dfe9-982621d81c50"
      },
      "source": [
        "plt.scatter(ytest,yp)"
      ],
      "execution_count": null,
      "outputs": [
        {
          "output_type": "execute_result",
          "data": {
            "text/plain": [
              "<matplotlib.collections.PathCollection at 0x7fc63f8e35d0>"
            ]
          },
          "metadata": {},
          "execution_count": 31
        },
        {
          "output_type": "display_data",
          "data": {
            "image/png": "[encoded data removed]",
            "text/plain": [
              "<Figure size 432x288 with 1 Axes>"
            ]
          },
          "metadata": {
            "needs_background": "light"
          }
        }
      ]
    },
    {
      "cell_type": "code",
      "metadata": {
        "colab": {
          "base_uri": "https://localhost:8080/",
          "height": 424
        },
        "id": "Qsw64ZMH1Sym",
        "outputId": "614cb4fd-a6d1-471b-fc59-ee1f4a984932"
      },
      "source": [
        "plt.figure(figsize=[20,5])\n",
        "ax=sns.distplot(ytest,hist=False,label=\"Actual VAlues\",color='r')\n",
        "sns.distplot(yp,hist=False,color='b',label=\"Y Predicted Values\",ax=ax)\n",
        "plt.title(\"Actual VS Predictable values\")\n",
        "plt.show()\n",
        "plt.close()"
      ],
      "execution_count": null,
      "outputs": [
        {
          "output_type": "stream",
          "name": "stderr",
          "text": [
            "/usr/local/lib/python3.7/dist-packages/seaborn/distributions.py:2619: FutureWarning: `distplot` is a deprecated function and will be removed in a future version. Please adapt your code to use either `displot` (a figure-level function with similar flexibility) or `kdeplot` (an axes-level function for kernel density plots).\n",
            "  warnings.warn(msg, FutureWarning)\n",
            "/usr/local/lib/python3.7/dist-packages/seaborn/distributions.py:2619: FutureWarning: `distplot` is a deprecated function and will be removed in a future version. Please adapt your code to use either `displot` (a figure-level function with similar flexibility) or `kdeplot` (an axes-level function for kernel density plots).\n",
            "  warnings.warn(msg, FutureWarning)\n"
          ]
        },
        {
          "output_type": "display_data",
          "data": {
            "image/png": "[encoded data removed]",
            "text/plain": [
              "<Figure size 1440x360 with 1 Axes>"
            ]
          },
          "metadata": {
            "needs_background": "light"
          }
        }
      ]
    },
    {
      "cell_type": "code",
      "metadata": {
        "colab": {
          "base_uri": "https://localhost:8080/",
          "height": 283
        },
        "id": "e_We8NZDzBgF",
        "outputId": "7efa8f76-0e9d-46ee-9521-f962ec6dbd94"
      },
      "source": [
        "plt.scatter(ytest,yp)"
      ],
      "execution_count": null,
      "outputs": [
        {
          "output_type": "execute_result",
          "data": {
            "text/plain": [
              "<matplotlib.collections.PathCollection at 0x7fc63f78c510>"
            ]
          },
          "metadata": {},
          "execution_count": 33
        },
        {
          "output_type": "display_data",
          "data": {
            "image/png": "[encoded data removed]",
            "text/plain": [
              "<Figure size 432x288 with 1 Axes>"
            ]
          },
          "metadata": {
            "needs_background": "light"
          }
        }
      ]
    },
    {
      "cell_type": "code",
      "metadata": {
        "id": "NvDmeN1m2IyO"
      },
      "source": [
        "from sklearn.metrics import mean_absolute_error,mean_squared_error,r2_score"
      ],
      "execution_count": null,
      "outputs": []
    },
    {
      "cell_type": "code",
      "metadata": {
        "id": "91AprHE12dGo",
        "colab": {
          "base_uri": "https://localhost:8080/"
        },
        "outputId": "0db37e0a-0100-437e-a926-addb810a2ec8"
      },
      "source": [
        "r2_score(ytest,yp)"
      ],
      "execution_count": null,
      "outputs": [
        {
          "output_type": "execute_result",
          "data": {
            "text/plain": [
              "0.8947344950027066"
            ]
          },
          "metadata": {},
          "execution_count": 35
        }
      ]
    },
    {
      "cell_type": "code",
      "metadata": {
        "colab": {
          "base_uri": "https://localhost:8080/"
        },
        "id": "52-85knEzTyW",
        "outputId": "bef122cd-3728-4b6b-fccf-3b90a8afeb25"
      },
      "source": [
        "mean_absolute_error(ytest,yp)"
      ],
      "execution_count": null,
      "outputs": [
        {
          "output_type": "execute_result",
          "data": {
            "text/plain": [
              "1.0209003282677904"
            ]
          },
          "metadata": {},
          "execution_count": 36
        }
      ]
    },
    {
      "cell_type": "code",
      "metadata": {
        "colab": {
          "base_uri": "https://localhost:8080/"
        },
        "id": "N5jiSBC1zba0",
        "outputId": "67f38974-30f8-4ebd-c2f5-413ecb44f1d2"
      },
      "source": [
        "mean_squared_error(ytest,yp)"
      ],
      "execution_count": null,
      "outputs": [
        {
          "output_type": "execute_result",
          "data": {
            "text/plain": [
              "1.9552218850113199"
            ]
          },
          "metadata": {},
          "execution_count": 37
        }
      ]
    },
    {
      "cell_type": "code",
      "metadata": {
        "id": "2TACT7-szgqh",
        "colab": {
          "base_uri": "https://localhost:8080/",
          "height": 354
        },
        "outputId": "2de6e9e3-6b81-447b-e25f-6c8a104de5ca"
      },
      "source": [
        "# plt.scatter(x1,y1)\n",
        "# plt.plot(yp)\n",
        "sns.regplot(ytest,yp,line_kws={'color':'red'},ci=None)"
      ],
      "execution_count": null,
      "outputs": [
        {
          "output_type": "stream",
          "name": "stderr",
          "text": [
            "/usr/local/lib/python3.7/dist-packages/seaborn/_decorators.py:43: FutureWarning: Pass the following variables as keyword args: x, y. From version 0.12, the only valid positional argument will be `data`, and passing other arguments without an explicit keyword will result in an error or misinterpretation.\n",
            "  FutureWarning\n"
          ]
        },
        {
          "output_type": "execute_result",
          "data": {
            "text/plain": [
              "<matplotlib.axes._subplots.AxesSubplot at 0x7fc63abbf550>"
            ]
          },
          "metadata": {},
          "execution_count": 39
        },
        {
          "output_type": "display_data",
          "data": {
            "image/png": "[encoded data removed]",
            "text/plain": [
              "<Figure size 432x288 with 1 Axes>"
            ]
          },
          "metadata": {
            "needs_background": "light"
          }
        }
      ]
    },
    {
      "cell_type": "code",
      "metadata": {
        "colab": {
          "base_uri": "https://localhost:8080/"
        },
        "id": "GxrSy_nq1Cw0",
        "outputId": "9ee38f3d-517e-47cd-81a2-c5f150460857"
      },
      "source": [
        "res1=(ytest-yp)\n",
        "yp"
      ],
      "execution_count": null,
      "outputs": [
        {
          "output_type": "execute_result",
          "data": {
            "text/plain": [
              "array([[21.75602835],\n",
              "       [16.45283   ],\n",
              "       [ 7.68498075],\n",
              "       [17.89854771],\n",
              "       [18.67725322],\n",
              "       [23.8001131 ],\n",
              "       [16.28958747],\n",
              "       [13.36567675],\n",
              "       [ 9.13663933],\n",
              "       [17.29146113],\n",
              "       [14.41976185],\n",
              "       [ 9.88105063],\n",
              "       [17.33065475],\n",
              "       [16.69814917],\n",
              "       [15.00680872],\n",
              "       [15.48131088],\n",
              "       [12.43241041],\n",
              "       [17.31064343],\n",
              "       [11.16764004],\n",
              "       [18.13321062],\n",
              "       [ 9.38132296],\n",
              "       [12.71353738],\n",
              "       [ 8.75011855],\n",
              "       [10.5014414 ],\n",
              "       [11.37124838],\n",
              "       [15.03593604],\n",
              "       [ 9.77378461],\n",
              "       [19.48694106],\n",
              "       [18.32570002],\n",
              "       [17.20710464],\n",
              "       [21.66189194],\n",
              "       [14.55054628],\n",
              "       [16.37218182],\n",
              "       [12.32883551],\n",
              "       [20.02621323],\n",
              "       [15.39390999],\n",
              "       [13.98341958],\n",
              "       [10.03852687],\n",
              "       [21.01121113],\n",
              "       [ 7.48429727]])"
            ]
          },
          "metadata": {},
          "execution_count": 50
        }
      ]
    },
    {
      "cell_type": "code",
      "metadata": {
        "id": "nKaNq-Xp2sag"
      },
      "source": [
        "newdf=pd.DataFrame(columns=(\"Y Actual\",\"ypred\",\"Diference\"))"
      ],
      "execution_count": null,
      "outputs": []
    },
    {
      "cell_type": "code",
      "metadata": {
        "colab": {
          "base_uri": "https://localhost:8080/",
          "height": 380
        },
        "id": "gUgtNjQB3EEG",
        "outputId": "ee0716fb-c891-463c-e9e6-63a9bc4d6851"
      },
      "source": [
        "# newdf['Y Actual','ypred','diference']=ytest,yp,res1\n",
        "newdf['Y Actual']=ytest\n",
        "newdf['ypred']=yp\n",
        "newdf['diference']=res1"
      ],
      "execution_count": null,
      "outputs": [
        {
          "output_type": "error",
          "ename": "ValueError",
          "evalue": "ignored",
          "traceback": [
            "\u001b[0;31m---------------------------------------------------------------------------\u001b[0m",
            "\u001b[0;31mValueError\u001b[0m                                Traceback (most recent call last)",
            "\u001b[0;32m<ipython-input-49-06611d063976>\u001b[0m in \u001b[0;36m<module>\u001b[0;34m()\u001b[0m\n\u001b[1;32m      1\u001b[0m \u001b[0;31m# newdf['Y Actual','ypred','diference']=ytest,yp,res1\u001b[0m\u001b[0;34m\u001b[0m\u001b[0;34m\u001b[0m\u001b[0;34m\u001b[0m\u001b[0m\n\u001b[1;32m      2\u001b[0m \u001b[0mnewdf\u001b[0m\u001b[0;34m[\u001b[0m\u001b[0;34m'Y Actual'\u001b[0m\u001b[0;34m]\u001b[0m\u001b[0;34m=\u001b[0m\u001b[0mytest\u001b[0m\u001b[0;34m\u001b[0m\u001b[0;34m\u001b[0m\u001b[0m\n\u001b[0;32m----> 3\u001b[0;31m \u001b[0mnewdf\u001b[0m\u001b[0;34m[\u001b[0m\u001b[0;34m'ypred'\u001b[0m\u001b[0;34m]\u001b[0m\u001b[0;34m=\u001b[0m\u001b[0myp\u001b[0m\u001b[0;34m\u001b[0m\u001b[0;34m\u001b[0m\u001b[0m\n\u001b[0m\u001b[1;32m      4\u001b[0m \u001b[0mnewdf\u001b[0m\u001b[0;34m[\u001b[0m\u001b[0;34m'diference'\u001b[0m\u001b[0;34m]\u001b[0m\u001b[0;34m=\u001b[0m\u001b[0mres1\u001b[0m\u001b[0;34m\u001b[0m\u001b[0;34m\u001b[0m\u001b[0m\n",
            "\u001b[0;32m/usr/local/lib/python3.7/dist-packages/pandas/core/frame.py\u001b[0m in \u001b[0;36m__setitem__\u001b[0;34m(self, key, value)\u001b[0m\n\u001b[1;32m   3042\u001b[0m         \u001b[0;32melse\u001b[0m\u001b[0;34m:\u001b[0m\u001b[0;34m\u001b[0m\u001b[0;34m\u001b[0m\u001b[0m\n\u001b[1;32m   3043\u001b[0m             \u001b[0;31m# set column\u001b[0m\u001b[0;34m\u001b[0m\u001b[0;34m\u001b[0m\u001b[0;34m\u001b[0m\u001b[0m\n\u001b[0;32m-> 3044\u001b[0;31m             \u001b[0mself\u001b[0m\u001b[0;34m.\u001b[0m\u001b[0m_set_item\u001b[0m\u001b[0;34m(\u001b[0m\u001b[0mkey\u001b[0m\u001b[0;34m,\u001b[0m \u001b[0mvalue\u001b[0m\u001b[0;34m)\u001b[0m\u001b[0;34m\u001b[0m\u001b[0;34m\u001b[0m\u001b[0m\n\u001b[0m\u001b[1;32m   3045\u001b[0m \u001b[0;34m\u001b[0m\u001b[0m\n\u001b[1;32m   3046\u001b[0m     \u001b[0;32mdef\u001b[0m \u001b[0m_setitem_slice\u001b[0m\u001b[0;34m(\u001b[0m\u001b[0mself\u001b[0m\u001b[0;34m,\u001b[0m \u001b[0mkey\u001b[0m\u001b[0;34m:\u001b[0m \u001b[0mslice\u001b[0m\u001b[0;34m,\u001b[0m \u001b[0mvalue\u001b[0m\u001b[0;34m)\u001b[0m\u001b[0;34m:\u001b[0m\u001b[0;34m\u001b[0m\u001b[0;34m\u001b[0m\u001b[0m\n",
            "\u001b[0;32m/usr/local/lib/python3.7/dist-packages/pandas/core/frame.py\u001b[0m in \u001b[0;36m_set_item\u001b[0;34m(self, key, value)\u001b[0m\n\u001b[1;32m   3118\u001b[0m         \"\"\"\n\u001b[1;32m   3119\u001b[0m         \u001b[0mself\u001b[0m\u001b[0;34m.\u001b[0m\u001b[0m_ensure_valid_index\u001b[0m\u001b[0;34m(\u001b[0m\u001b[0mvalue\u001b[0m\u001b[0;34m)\u001b[0m\u001b[0;34m\u001b[0m\u001b[0;34m\u001b[0m\u001b[0m\n\u001b[0;32m-> 3120\u001b[0;31m         \u001b[0mvalue\u001b[0m \u001b[0;34m=\u001b[0m \u001b[0mself\u001b[0m\u001b[0;34m.\u001b[0m\u001b[0m_sanitize_column\u001b[0m\u001b[0;34m(\u001b[0m\u001b[0mkey\u001b[0m\u001b[0;34m,\u001b[0m \u001b[0mvalue\u001b[0m\u001b[0;34m)\u001b[0m\u001b[0;34m\u001b[0m\u001b[0;34m\u001b[0m\u001b[0m\n\u001b[0m\u001b[1;32m   3121\u001b[0m         \u001b[0mNDFrame\u001b[0m\u001b[0;34m.\u001b[0m\u001b[0m_set_item\u001b[0m\u001b[0;34m(\u001b[0m\u001b[0mself\u001b[0m\u001b[0;34m,\u001b[0m \u001b[0mkey\u001b[0m\u001b[0;34m,\u001b[0m \u001b[0mvalue\u001b[0m\u001b[0;34m)\u001b[0m\u001b[0;34m\u001b[0m\u001b[0;34m\u001b[0m\u001b[0m\n\u001b[1;32m   3122\u001b[0m \u001b[0;34m\u001b[0m\u001b[0m\n",
            "\u001b[0;32m/usr/local/lib/python3.7/dist-packages/pandas/core/frame.py\u001b[0m in \u001b[0;36m_sanitize_column\u001b[0;34m(self, key, value, broadcast)\u001b[0m\n\u001b[1;32m   3766\u001b[0m \u001b[0;34m\u001b[0m\u001b[0m\n\u001b[1;32m   3767\u001b[0m             \u001b[0;31m# turn me into an ndarray\u001b[0m\u001b[0;34m\u001b[0m\u001b[0;34m\u001b[0m\u001b[0;34m\u001b[0m\u001b[0m\n\u001b[0;32m-> 3768\u001b[0;31m             \u001b[0mvalue\u001b[0m \u001b[0;34m=\u001b[0m \u001b[0msanitize_index\u001b[0m\u001b[0;34m(\u001b[0m\u001b[0mvalue\u001b[0m\u001b[0;34m,\u001b[0m \u001b[0mself\u001b[0m\u001b[0;34m.\u001b[0m\u001b[0mindex\u001b[0m\u001b[0;34m)\u001b[0m\u001b[0;34m\u001b[0m\u001b[0;34m\u001b[0m\u001b[0m\n\u001b[0m\u001b[1;32m   3769\u001b[0m             \u001b[0;32mif\u001b[0m \u001b[0;32mnot\u001b[0m \u001b[0misinstance\u001b[0m\u001b[0;34m(\u001b[0m\u001b[0mvalue\u001b[0m\u001b[0;34m,\u001b[0m \u001b[0;34m(\u001b[0m\u001b[0mnp\u001b[0m\u001b[0;34m.\u001b[0m\u001b[0mndarray\u001b[0m\u001b[0;34m,\u001b[0m \u001b[0mIndex\u001b[0m\u001b[0;34m)\u001b[0m\u001b[0;34m)\u001b[0m\u001b[0;34m:\u001b[0m\u001b[0;34m\u001b[0m\u001b[0;34m\u001b[0m\u001b[0m\n\u001b[1;32m   3770\u001b[0m                 \u001b[0;32mif\u001b[0m \u001b[0misinstance\u001b[0m\u001b[0;34m(\u001b[0m\u001b[0mvalue\u001b[0m\u001b[0;34m,\u001b[0m \u001b[0mlist\u001b[0m\u001b[0;34m)\u001b[0m \u001b[0;32mand\u001b[0m \u001b[0mlen\u001b[0m\u001b[0;34m(\u001b[0m\u001b[0mvalue\u001b[0m\u001b[0;34m)\u001b[0m \u001b[0;34m>\u001b[0m \u001b[0;36m0\u001b[0m\u001b[0;34m:\u001b[0m\u001b[0;34m\u001b[0m\u001b[0;34m\u001b[0m\u001b[0m\n",
            "\u001b[0;32m/usr/local/lib/python3.7/dist-packages/pandas/core/internals/construction.py\u001b[0m in \u001b[0;36msanitize_index\u001b[0;34m(data, index)\u001b[0m\n\u001b[1;32m    746\u001b[0m     \u001b[0;32mif\u001b[0m \u001b[0mlen\u001b[0m\u001b[0;34m(\u001b[0m\u001b[0mdata\u001b[0m\u001b[0;34m)\u001b[0m \u001b[0;34m!=\u001b[0m \u001b[0mlen\u001b[0m\u001b[0;34m(\u001b[0m\u001b[0mindex\u001b[0m\u001b[0;34m)\u001b[0m\u001b[0;34m:\u001b[0m\u001b[0;34m\u001b[0m\u001b[0;34m\u001b[0m\u001b[0m\n\u001b[1;32m    747\u001b[0m         raise ValueError(\n\u001b[0;32m--> 748\u001b[0;31m             \u001b[0;34m\"Length of values \"\u001b[0m\u001b[0;34m\u001b[0m\u001b[0;34m\u001b[0m\u001b[0m\n\u001b[0m\u001b[1;32m    749\u001b[0m             \u001b[0;34mf\"({len(data)}) \"\u001b[0m\u001b[0;34m\u001b[0m\u001b[0;34m\u001b[0m\u001b[0m\n\u001b[1;32m    750\u001b[0m             \u001b[0;34m\"does not match length of index \"\u001b[0m\u001b[0;34m\u001b[0m\u001b[0;34m\u001b[0m\u001b[0m\n",
            "\u001b[0;31mValueError\u001b[0m: Length of values (40) does not match length of index (3)"
          ]
        }
      ]
    },
    {
      "cell_type": "markdown",
      "metadata": {
        "id": "rlQ220eD69RL"
      },
      "source": [
        "#Non Linear Data"
      ]
    },
    {
      "cell_type": "code",
      "metadata": {
        "id": "lrrMAPBK3FgE"
      },
      "source": [
        "from sklearn.preprocessing import PolynomialFeatures\n",
        "pol =PolynomialFeatures(1,include_bias=False)"
      ],
      "execution_count": null,
      "outputs": []
    },
    {
      "cell_type": "code",
      "metadata": {
        "colab": {
          "base_uri": "https://localhost:8080/"
        },
        "id": "EwlGvo4s7osr",
        "outputId": "84719b19-534a-4a18-caa0-ad7f63dc1948"
      },
      "source": [
        "# xpol=pol.fit(x1).transform(x1)\n",
        "xpol=pol.fit_transform(x1)\n",
        "reg=LinearRegression()\n",
        "reg.fit(xpol,y1)"
      ],
      "execution_count": null,
      "outputs": [
        {
          "output_type": "execute_result",
          "data": {
            "text/plain": [
              "LinearRegression(copy_X=True, fit_intercept=True, n_jobs=None, normalize=False)"
            ]
          },
          "metadata": {},
          "execution_count": 77
        }
      ]
    },
    {
      "cell_type": "code",
      "metadata": {
        "colab": {
          "base_uri": "https://localhost:8080/"
        },
        "id": "XFcEOoam76pw",
        "outputId": "698f7a3b-626c-46b1-fe4b-eedc82795a1d"
      },
      "source": [
        "xpol\n",
        "reg"
      ],
      "execution_count": null,
      "outputs": [
        {
          "output_type": "execute_result",
          "data": {
            "text/plain": [
              "LinearRegression(copy_X=True, fit_intercept=True, n_jobs=None, normalize=False)"
            ]
          },
          "metadata": {},
          "execution_count": 78
        }
      ]
    },
    {
      "cell_type": "code",
      "metadata": {
        "colab": {
          "base_uri": "https://localhost:8080/"
        },
        "id": "L-wRFTyY785p",
        "outputId": "4da6a090-832e-47e1-bd94-66c4abf90f1b"
      },
      "source": [
        "xpol"
      ],
      "execution_count": null,
      "outputs": [
        {
          "output_type": "execute_result",
          "data": {
            "text/plain": [
              "array([[230.1,  37.8],\n",
              "       [ 44.5,  39.3],\n",
              "       [ 17.2,  45.9],\n",
              "       [151.5,  41.3],\n",
              "       [180.8,  10.8],\n",
              "       [  8.7,  48.9],\n",
              "       [ 57.5,  32.8],\n",
              "       [120.2,  19.6],\n",
              "       [  8.6,   2.1],\n",
              "       [199.8,   2.6],\n",
              "       [ 66.1,   5.8],\n",
              "       [214.7,  24. ],\n",
              "       [ 23.8,  35.1],\n",
              "       [ 97.5,   7.6],\n",
              "       [204.1,  32.9],\n",
              "       [195.4,  47.7],\n",
              "       [ 67.8,  36.6],\n",
              "       [281.4,  39.6],\n",
              "       [ 69.2,  20.5],\n",
              "       [147.3,  23.9],\n",
              "       [218.4,  27.7],\n",
              "       [237.4,   5.1],\n",
              "       [ 13.2,  15.9],\n",
              "       [228.3,  16.9],\n",
              "       [ 62.3,  12.6],\n",
              "       [262.9,   3.5],\n",
              "       [142.9,  29.3],\n",
              "       [240.1,  16.7],\n",
              "       [248.8,  27.1],\n",
              "       [ 70.6,  16. ],\n",
              "       [292.9,  28.3],\n",
              "       [112.9,  17.4],\n",
              "       [ 97.2,   1.5],\n",
              "       [265.6,  20. ],\n",
              "       [ 95.7,   1.4],\n",
              "       [290.7,   4.1],\n",
              "       [266.9,  43.8],\n",
              "       [ 74.7,  49.4],\n",
              "       [ 43.1,  26.7],\n",
              "       [228. ,  37.7],\n",
              "       [202.5,  22.3],\n",
              "       [177. ,  33.4],\n",
              "       [293.6,  27.7],\n",
              "       [206.9,   8.4],\n",
              "       [ 25.1,  25.7],\n",
              "       [175.1,  22.5],\n",
              "       [ 89.7,   9.9],\n",
              "       [239.9,  41.5],\n",
              "       [227.2,  15.8],\n",
              "       [ 66.9,  11.7],\n",
              "       [199.8,   3.1],\n",
              "       [100.4,   9.6],\n",
              "       [216.4,  41.7],\n",
              "       [182.6,  46.2],\n",
              "       [262.7,  28.8],\n",
              "       [198.9,  49.4],\n",
              "       [  7.3,  28.1],\n",
              "       [136.2,  19.2],\n",
              "       [210.8,  49.6],\n",
              "       [210.7,  29.5],\n",
              "       [ 53.5,   2. ],\n",
              "       [261.3,  42.7],\n",
              "       [239.3,  15.5],\n",
              "       [102.7,  29.6],\n",
              "       [131.1,  42.8],\n",
              "       [ 69. ,   9.3],\n",
              "       [ 31.5,  24.6],\n",
              "       [139.3,  14.5],\n",
              "       [237.4,  27.5],\n",
              "       [216.8,  43.9],\n",
              "       [199.1,  30.6],\n",
              "       [109.8,  14.3],\n",
              "       [ 26.8,  33. ],\n",
              "       [129.4,   5.7],\n",
              "       [213.4,  24.6],\n",
              "       [ 16.9,  43.7],\n",
              "       [ 27.5,   1.6],\n",
              "       [120.5,  28.5],\n",
              "       [  5.4,  29.9],\n",
              "       [116. ,   7.7],\n",
              "       [ 76.4,  26.7],\n",
              "       [239.8,   4.1],\n",
              "       [ 75.3,  20.3],\n",
              "       [ 68.4,  44.5],\n",
              "       [213.5,  43. ],\n",
              "       [193.2,  18.4],\n",
              "       [ 76.3,  27.5],\n",
              "       [110.7,  40.6],\n",
              "       [ 88.3,  25.5],\n",
              "       [109.8,  47.8],\n",
              "       [134.3,   4.9],\n",
              "       [ 28.6,   1.5],\n",
              "       [217.7,  33.5],\n",
              "       [250.9,  36.5],\n",
              "       [107.4,  14. ],\n",
              "       [163.3,  31.6],\n",
              "       [197.6,   3.5],\n",
              "       [184.9,  21. ],\n",
              "       [289.7,  42.3],\n",
              "       [135.2,  41.7],\n",
              "       [222.4,   4.3],\n",
              "       [296.4,  36.3],\n",
              "       [280.2,  10.1],\n",
              "       [187.9,  17.2],\n",
              "       [238.2,  34.3],\n",
              "       [137.9,  46.4],\n",
              "       [ 25. ,  11. ],\n",
              "       [ 90.4,   0.3],\n",
              "       [ 13.1,   0.4],\n",
              "       [255.4,  26.9],\n",
              "       [225.8,   8.2],\n",
              "       [241.7,  38. ],\n",
              "       [175.7,  15.4],\n",
              "       [209.6,  20.6],\n",
              "       [ 78.2,  46.8],\n",
              "       [ 75.1,  35. ],\n",
              "       [139.2,  14.3],\n",
              "       [ 76.4,   0.8],\n",
              "       [125.7,  36.9],\n",
              "       [ 19.4,  16. ],\n",
              "       [141.3,  26.8],\n",
              "       [ 18.8,  21.7],\n",
              "       [224. ,   2.4],\n",
              "       [123.1,  34.6],\n",
              "       [229.5,  32.3],\n",
              "       [ 87.2,  11.8],\n",
              "       [  7.8,  38.9],\n",
              "       [ 80.2,   0. ],\n",
              "       [220.3,  49. ],\n",
              "       [ 59.6,  12. ],\n",
              "       [  0.7,  39.6],\n",
              "       [265.2,   2.9],\n",
              "       [  8.4,  27.2],\n",
              "       [219.8,  33.5],\n",
              "       [ 36.9,  38.6],\n",
              "       [ 48.3,  47. ],\n",
              "       [ 25.6,  39. ],\n",
              "       [273.7,  28.9],\n",
              "       [ 43. ,  25.9],\n",
              "       [184.9,  43.9],\n",
              "       [ 73.4,  17. ],\n",
              "       [193.7,  35.4],\n",
              "       [220.5,  33.2],\n",
              "       [104.6,   5.7],\n",
              "       [ 96.2,  14.8],\n",
              "       [140.3,   1.9],\n",
              "       [240.1,   7.3],\n",
              "       [243.2,  49. ],\n",
              "       [ 38. ,  40.3],\n",
              "       [ 44.7,  25.8],\n",
              "       [280.7,  13.9],\n",
              "       [121. ,   8.4],\n",
              "       [197.6,  23.3],\n",
              "       [171.3,  39.7],\n",
              "       [187.8,  21.1],\n",
              "       [  4.1,  11.6],\n",
              "       [ 93.9,  43.5],\n",
              "       [149.8,   1.3],\n",
              "       [ 11.7,  36.9],\n",
              "       [131.7,  18.4],\n",
              "       [172.5,  18.1],\n",
              "       [ 85.7,  35.8],\n",
              "       [188.4,  18.1],\n",
              "       [163.5,  36.8],\n",
              "       [117.2,  14.7],\n",
              "       [234.5,   3.4],\n",
              "       [ 17.9,  37.6],\n",
              "       [206.8,   5.2],\n",
              "       [215.4,  23.6],\n",
              "       [284.3,  10.6],\n",
              "       [ 50. ,  11.6],\n",
              "       [164.5,  20.9],\n",
              "       [ 19.6,  20.1],\n",
              "       [168.4,   7.1],\n",
              "       [222.4,   3.4],\n",
              "       [276.9,  48.9],\n",
              "       [248.4,  30.2],\n",
              "       [170.2,   7.8],\n",
              "       [276.7,   2.3],\n",
              "       [165.6,  10. ],\n",
              "       [156.6,   2.6],\n",
              "       [218.5,   5.4],\n",
              "       [ 56.2,   5.7],\n",
              "       [287.6,  43. ],\n",
              "       [253.8,  21.3],\n",
              "       [205. ,  45.1],\n",
              "       [139.5,   2.1],\n",
              "       [191.1,  28.7],\n",
              "       [286. ,  13.9],\n",
              "       [ 18.7,  12.1],\n",
              "       [ 39.5,  41.1],\n",
              "       [ 75.5,  10.8],\n",
              "       [ 17.2,   4.1],\n",
              "       [166.8,  42. ],\n",
              "       [149.7,  35.6],\n",
              "       [ 38.2,   3.7],\n",
              "       [ 94.2,   4.9],\n",
              "       [177. ,   9.3],\n",
              "       [283.6,  42. ],\n",
              "       [232.1,   8.6]])"
            ]
          },
          "metadata": {},
          "execution_count": 79
        }
      ]
    },
    {
      "cell_type": "code",
      "metadata": {
        "id": "ExEERFdB-Vvx"
      },
      "source": [
        "ned=pd.DataFrame({'x':[2,4,6,8],'y':[3,6,9,11]})"
      ],
      "execution_count": null,
      "outputs": []
    },
    {
      "cell_type": "code",
      "metadata": {
        "colab": {
          "base_uri": "https://localhost:8080/",
          "height": 175
        },
        "id": "7Iw5wjWl_TYw",
        "outputId": "03123786-21fe-47a5-d95b-5c19adb6d7f5"
      },
      "source": [
        "ned"
      ],
      "execution_count": null,
      "outputs": [
        {
          "output_type": "execute_result",
          "data": {
            "text/html": [
              "<div>\n",
              "<style scoped>\n",
              "    .dataframe tbody tr th:only-of-type {\n",
              "        vertical-align: middle;\n",
              "    }\n",
              "\n",
              "    .dataframe tbody tr th {\n",
              "        vertical-align: top;\n",
              "    }\n",
              "\n",
              "    .dataframe thead th {\n",
              "        text-align: right;\n",
              "    }\n",
              "</style>\n",
              "<table border=\"1\" class=\"dataframe\">\n",
              "  <thead>\n",
              "    <tr style=\"text-align: right;\">\n",
              "      <th></th>\n",
              "      <th>x</th>\n",
              "      <th>y</th>\n",
              "    </tr>\n",
              "  </thead>\n",
              "  <tbody>\n",
              "    <tr>\n",
              "      <th>0</th>\n",
              "      <td>2</td>\n",
              "      <td>3</td>\n",
              "    </tr>\n",
              "    <tr>\n",
              "      <th>1</th>\n",
              "      <td>4</td>\n",
              "      <td>6</td>\n",
              "    </tr>\n",
              "    <tr>\n",
              "      <th>2</th>\n",
              "      <td>6</td>\n",
              "      <td>9</td>\n",
              "    </tr>\n",
              "    <tr>\n",
              "      <th>3</th>\n",
              "      <td>8</td>\n",
              "      <td>11</td>\n",
              "    </tr>\n",
              "  </tbody>\n",
              "</table>\n",
              "</div>"
            ],
            "text/plain": [
              "   x   y\n",
              "0  2   3\n",
              "1  4   6\n",
              "2  6   9\n",
              "3  8  11"
            ]
          },
          "metadata": {},
          "execution_count": 81
        }
      ]
    },
    {
      "cell_type": "code",
      "metadata": {
        "colab": {
          "base_uri": "https://localhost:8080/"
        },
        "id": "B5u4q4Vk_UKM",
        "outputId": "cb973297-1315-4ac2-b7f9-0c2bd4eebabd"
      },
      "source": [
        "pol1 =PolynomialFeatures(3,include_bias=False,order='C')\n",
        "xpol1=pol1.fit(ned).transform(ned)\n",
        "# reg=LinearRegression()\n",
        "# reg.fit(xpol,y1)\n",
        "xpol1"
      ],
      "execution_count": null,
      "outputs": [
        {
          "output_type": "execute_result",
          "data": {
            "text/plain": [
              "array([[   2.,    3.,    4.,    6.,    9.,    8.,   12.,   18.,   27.],\n",
              "       [   4.,    6.,   16.,   24.,   36.,   64.,   96.,  144.,  216.],\n",
              "       [   6.,    9.,   36.,   54.,   81.,  216.,  324.,  486.,  729.],\n",
              "       [   8.,   11.,   64.,   88.,  121.,  512.,  704.,  968., 1331.]])"
            ]
          },
          "metadata": {},
          "execution_count": 85
        }
      ]
    },
    {
      "cell_type": "code",
      "metadata": {
        "colab": {
          "base_uri": "https://localhost:8080/"
        },
        "id": "eraNxd56_um_",
        "outputId": "06cf2296-da10-4f28-bd84-acb817ba52fc"
      },
      "source": [
        "pol1.get_feature_names()"
      ],
      "execution_count": null,
      "outputs": [
        {
          "output_type": "execute_result",
          "data": {
            "text/plain": [
              "['x0', 'x1', 'x0^2', 'x0 x1', 'x1^2', 'x0^3', 'x0^2 x1', 'x0 x1^2', 'x1^3']"
            ]
          },
          "metadata": {},
          "execution_count": 88
        }
      ]
    },
    {
      "cell_type": "code",
      "metadata": {
        "id": "aZnZZ5YqAWno"
      },
      "source": [
        ""
      ],
      "execution_count": null,
      "outputs": []
    },
    {
      "cell_type": "markdown",
      "metadata": {
        "id": "OT3uFuCYC0Z-"
      },
      "source": [
        "https://towardsdatascience.com/machine-learning-basics-polynomial-regression-3f9dd30223d1"
      ]
    },
    {
      "cell_type": "code",
      "metadata": {
        "id": "rKagFqHeC2sc"
      },
      "source": [
        ""
      ],
      "execution_count": null,
      "outputs": []
    }
  ]
}