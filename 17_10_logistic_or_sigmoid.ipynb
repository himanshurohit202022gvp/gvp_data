{
  "nbformat": 4,
  "nbformat_minor": 0,
  "metadata": {
    "colab": {
      "name": "17_10 logistic_or_sigmoid.ipynb",
      "provenance": []
    },
    "kernelspec": {
      "name": "python3",
      "display_name": "Python 3"
    },
    "language_info": {
      "name": "python"
    }
  },
  "cells": [
    {
      "cell_type": "code",
      "metadata": {
        "id": "nMWBQk44ntd4"
      },
      "source": [
        "import numpy as np"
      ],
      "execution_count": null,
      "outputs": []
    },
    {
      "cell_type": "code",
      "metadata": {
        "id": "gJ5z6CMqn3QS"
      },
      "source": [
        "data=np.array([[3.87,2.65,0],\n",
        "              [2.65,3.63,0],\n",
        "              [4.93,5.50,0],\n",
        "              [2.83,2.95,0],\n",
        "              [4.07,4.00,0],\n",
        "              [8.27,3.57,1],\n",
        "              [6.36,3.09,1],\n",
        "              [7.99,2.97,1],\n",
        "              [9.76,1.42,1],\n",
        "              [8.76,4.6,1]])"
      ],
      "execution_count": null,
      "outputs": []
    },
    {
      "cell_type": "code",
      "metadata": {
        "colab": {
          "base_uri": "https://localhost:8080/"
        },
        "id": "yvsjlztGojc9",
        "outputId": "8a9c7c68-89c8-4d9c-c783-c817293fd5ff"
      },
      "source": [
        "data[:,1]"
      ],
      "execution_count": null,
      "outputs": [
        {
          "output_type": "execute_result",
          "data": {
            "text/plain": [
              "array([2.65, 3.63, 5.5 , 2.95, 4.  , 3.57, 3.09, 2.97, 1.42, 4.6 ])"
            ]
          },
          "metadata": {},
          "execution_count": 10
        }
      ]
    },
    {
      "cell_type": "code",
      "metadata": {
        "id": "O9emoB-Uoq4f"
      },
      "source": [
        "import pandas as pd"
      ],
      "execution_count": null,
      "outputs": []
    },
    {
      "cell_type": "code",
      "metadata": {
        "id": "iPNbZRTnov8w"
      },
      "source": [
        "# df=pd.DataFrame(data=data,columns={\"x1\":data[:,0],\"x2\":data[:,1],\"y\":data[:,2]})\n",
        "df=pd.DataFrame(data=data,columns=[\"x1\",\"x2\",\"y\"])"
      ],
      "execution_count": null,
      "outputs": []
    },
    {
      "cell_type": "code",
      "metadata": {
        "colab": {
          "base_uri": "https://localhost:8080/",
          "height": 363
        },
        "id": "XXuyyKQ3pBYa",
        "outputId": "39dc8a39-519e-4f10-949c-fc9f9df00bb0"
      },
      "source": [
        "df"
      ],
      "execution_count": null,
      "outputs": [
        {
          "output_type": "execute_result",
          "data": {
            "text/html": [
              "<div>\n",
              "<style scoped>\n",
              "    .dataframe tbody tr th:only-of-type {\n",
              "        vertical-align: middle;\n",
              "    }\n",
              "\n",
              "    .dataframe tbody tr th {\n",
              "        vertical-align: top;\n",
              "    }\n",
              "\n",
              "    .dataframe thead th {\n",
              "        text-align: right;\n",
              "    }\n",
              "</style>\n",
              "<table border=\"1\" class=\"dataframe\">\n",
              "  <thead>\n",
              "    <tr style=\"text-align: right;\">\n",
              "      <th></th>\n",
              "      <th>x1</th>\n",
              "      <th>x2</th>\n",
              "      <th>y</th>\n",
              "    </tr>\n",
              "  </thead>\n",
              "  <tbody>\n",
              "    <tr>\n",
              "      <th>0</th>\n",
              "      <td>3.87</td>\n",
              "      <td>2.65</td>\n",
              "      <td>0.0</td>\n",
              "    </tr>\n",
              "    <tr>\n",
              "      <th>1</th>\n",
              "      <td>2.65</td>\n",
              "      <td>3.63</td>\n",
              "      <td>0.0</td>\n",
              "    </tr>\n",
              "    <tr>\n",
              "      <th>2</th>\n",
              "      <td>4.93</td>\n",
              "      <td>5.50</td>\n",
              "      <td>0.0</td>\n",
              "    </tr>\n",
              "    <tr>\n",
              "      <th>3</th>\n",
              "      <td>2.83</td>\n",
              "      <td>2.95</td>\n",
              "      <td>0.0</td>\n",
              "    </tr>\n",
              "    <tr>\n",
              "      <th>4</th>\n",
              "      <td>4.07</td>\n",
              "      <td>4.00</td>\n",
              "      <td>0.0</td>\n",
              "    </tr>\n",
              "    <tr>\n",
              "      <th>5</th>\n",
              "      <td>8.27</td>\n",
              "      <td>3.57</td>\n",
              "      <td>1.0</td>\n",
              "    </tr>\n",
              "    <tr>\n",
              "      <th>6</th>\n",
              "      <td>6.36</td>\n",
              "      <td>3.09</td>\n",
              "      <td>1.0</td>\n",
              "    </tr>\n",
              "    <tr>\n",
              "      <th>7</th>\n",
              "      <td>7.99</td>\n",
              "      <td>2.97</td>\n",
              "      <td>1.0</td>\n",
              "    </tr>\n",
              "    <tr>\n",
              "      <th>8</th>\n",
              "      <td>9.76</td>\n",
              "      <td>1.42</td>\n",
              "      <td>1.0</td>\n",
              "    </tr>\n",
              "    <tr>\n",
              "      <th>9</th>\n",
              "      <td>8.76</td>\n",
              "      <td>4.60</td>\n",
              "      <td>1.0</td>\n",
              "    </tr>\n",
              "  </tbody>\n",
              "</table>\n",
              "</div>"
            ],
            "text/plain": [
              "     x1    x2    y\n",
              "0  3.87  2.65  0.0\n",
              "1  2.65  3.63  0.0\n",
              "2  4.93  5.50  0.0\n",
              "3  2.83  2.95  0.0\n",
              "4  4.07  4.00  0.0\n",
              "5  8.27  3.57  1.0\n",
              "6  6.36  3.09  1.0\n",
              "7  7.99  2.97  1.0\n",
              "8  9.76  1.42  1.0\n",
              "9  8.76  4.60  1.0"
            ]
          },
          "metadata": {},
          "execution_count": 12
        }
      ]
    },
    {
      "cell_type": "code",
      "metadata": {
        "id": "hC831zllpCd5"
      },
      "source": [
        "x=df[['x1','x2']]"
      ],
      "execution_count": null,
      "outputs": []
    },
    {
      "cell_type": "code",
      "metadata": {
        "colab": {
          "base_uri": "https://localhost:8080/",
          "height": 363
        },
        "id": "KosIb4g8qH2b",
        "outputId": "7d860e8a-07b6-4586-9c65-65bda02e2398"
      },
      "source": [
        "x"
      ],
      "execution_count": null,
      "outputs": [
        {
          "output_type": "execute_result",
          "data": {
            "text/html": [
              "<div>\n",
              "<style scoped>\n",
              "    .dataframe tbody tr th:only-of-type {\n",
              "        vertical-align: middle;\n",
              "    }\n",
              "\n",
              "    .dataframe tbody tr th {\n",
              "        vertical-align: top;\n",
              "    }\n",
              "\n",
              "    .dataframe thead th {\n",
              "        text-align: right;\n",
              "    }\n",
              "</style>\n",
              "<table border=\"1\" class=\"dataframe\">\n",
              "  <thead>\n",
              "    <tr style=\"text-align: right;\">\n",
              "      <th></th>\n",
              "      <th>x1</th>\n",
              "      <th>x2</th>\n",
              "    </tr>\n",
              "  </thead>\n",
              "  <tbody>\n",
              "    <tr>\n",
              "      <th>0</th>\n",
              "      <td>3.87</td>\n",
              "      <td>2.65</td>\n",
              "    </tr>\n",
              "    <tr>\n",
              "      <th>1</th>\n",
              "      <td>2.65</td>\n",
              "      <td>3.63</td>\n",
              "    </tr>\n",
              "    <tr>\n",
              "      <th>2</th>\n",
              "      <td>4.93</td>\n",
              "      <td>5.50</td>\n",
              "    </tr>\n",
              "    <tr>\n",
              "      <th>3</th>\n",
              "      <td>2.83</td>\n",
              "      <td>2.95</td>\n",
              "    </tr>\n",
              "    <tr>\n",
              "      <th>4</th>\n",
              "      <td>4.07</td>\n",
              "      <td>4.00</td>\n",
              "    </tr>\n",
              "    <tr>\n",
              "      <th>5</th>\n",
              "      <td>8.27</td>\n",
              "      <td>3.57</td>\n",
              "    </tr>\n",
              "    <tr>\n",
              "      <th>6</th>\n",
              "      <td>6.36</td>\n",
              "      <td>3.09</td>\n",
              "    </tr>\n",
              "    <tr>\n",
              "      <th>7</th>\n",
              "      <td>7.99</td>\n",
              "      <td>2.97</td>\n",
              "    </tr>\n",
              "    <tr>\n",
              "      <th>8</th>\n",
              "      <td>9.76</td>\n",
              "      <td>1.42</td>\n",
              "    </tr>\n",
              "    <tr>\n",
              "      <th>9</th>\n",
              "      <td>8.76</td>\n",
              "      <td>4.60</td>\n",
              "    </tr>\n",
              "  </tbody>\n",
              "</table>\n",
              "</div>"
            ],
            "text/plain": [
              "     x1    x2\n",
              "0  3.87  2.65\n",
              "1  2.65  3.63\n",
              "2  4.93  5.50\n",
              "3  2.83  2.95\n",
              "4  4.07  4.00\n",
              "5  8.27  3.57\n",
              "6  6.36  3.09\n",
              "7  7.99  2.97\n",
              "8  9.76  1.42\n",
              "9  8.76  4.60"
            ]
          },
          "metadata": {},
          "execution_count": 15
        }
      ]
    },
    {
      "cell_type": "code",
      "metadata": {
        "id": "biAWYRZ6qMOd"
      },
      "source": [
        "y=df[['y']]"
      ],
      "execution_count": null,
      "outputs": []
    },
    {
      "cell_type": "code",
      "metadata": {
        "colab": {
          "base_uri": "https://localhost:8080/",
          "height": 363
        },
        "id": "4_HNECDGqPjF",
        "outputId": "682222be-e11a-414c-fc5e-73221a11e225"
      },
      "source": [
        "y"
      ],
      "execution_count": null,
      "outputs": [
        {
          "output_type": "execute_result",
          "data": {
            "text/html": [
              "<div>\n",
              "<style scoped>\n",
              "    .dataframe tbody tr th:only-of-type {\n",
              "        vertical-align: middle;\n",
              "    }\n",
              "\n",
              "    .dataframe tbody tr th {\n",
              "        vertical-align: top;\n",
              "    }\n",
              "\n",
              "    .dataframe thead th {\n",
              "        text-align: right;\n",
              "    }\n",
              "</style>\n",
              "<table border=\"1\" class=\"dataframe\">\n",
              "  <thead>\n",
              "    <tr style=\"text-align: right;\">\n",
              "      <th></th>\n",
              "      <th>y</th>\n",
              "    </tr>\n",
              "  </thead>\n",
              "  <tbody>\n",
              "    <tr>\n",
              "      <th>0</th>\n",
              "      <td>0.0</td>\n",
              "    </tr>\n",
              "    <tr>\n",
              "      <th>1</th>\n",
              "      <td>0.0</td>\n",
              "    </tr>\n",
              "    <tr>\n",
              "      <th>2</th>\n",
              "      <td>0.0</td>\n",
              "    </tr>\n",
              "    <tr>\n",
              "      <th>3</th>\n",
              "      <td>0.0</td>\n",
              "    </tr>\n",
              "    <tr>\n",
              "      <th>4</th>\n",
              "      <td>0.0</td>\n",
              "    </tr>\n",
              "    <tr>\n",
              "      <th>5</th>\n",
              "      <td>1.0</td>\n",
              "    </tr>\n",
              "    <tr>\n",
              "      <th>6</th>\n",
              "      <td>1.0</td>\n",
              "    </tr>\n",
              "    <tr>\n",
              "      <th>7</th>\n",
              "      <td>1.0</td>\n",
              "    </tr>\n",
              "    <tr>\n",
              "      <th>8</th>\n",
              "      <td>1.0</td>\n",
              "    </tr>\n",
              "    <tr>\n",
              "      <th>9</th>\n",
              "      <td>1.0</td>\n",
              "    </tr>\n",
              "  </tbody>\n",
              "</table>\n",
              "</div>"
            ],
            "text/plain": [
              "     y\n",
              "0  0.0\n",
              "1  0.0\n",
              "2  0.0\n",
              "3  0.0\n",
              "4  0.0\n",
              "5  1.0\n",
              "6  1.0\n",
              "7  1.0\n",
              "8  1.0\n",
              "9  1.0"
            ]
          },
          "metadata": {},
          "execution_count": 17
        }
      ]
    },
    {
      "cell_type": "code",
      "metadata": {
        "id": "Y2K-qtfnqQH6"
      },
      "source": [
        "df['y']=df['y'].astype(int)"
      ],
      "execution_count": null,
      "outputs": []
    },
    {
      "cell_type": "code",
      "metadata": {
        "colab": {
          "base_uri": "https://localhost:8080/",
          "height": 363
        },
        "id": "O919pTyWqYiv",
        "outputId": "9b52670a-354c-437c-aabd-be041a61cdfa"
      },
      "source": [
        "df"
      ],
      "execution_count": null,
      "outputs": [
        {
          "output_type": "execute_result",
          "data": {
            "text/html": [
              "<div>\n",
              "<style scoped>\n",
              "    .dataframe tbody tr th:only-of-type {\n",
              "        vertical-align: middle;\n",
              "    }\n",
              "\n",
              "    .dataframe tbody tr th {\n",
              "        vertical-align: top;\n",
              "    }\n",
              "\n",
              "    .dataframe thead th {\n",
              "        text-align: right;\n",
              "    }\n",
              "</style>\n",
              "<table border=\"1\" class=\"dataframe\">\n",
              "  <thead>\n",
              "    <tr style=\"text-align: right;\">\n",
              "      <th></th>\n",
              "      <th>x1</th>\n",
              "      <th>x2</th>\n",
              "      <th>y</th>\n",
              "    </tr>\n",
              "  </thead>\n",
              "  <tbody>\n",
              "    <tr>\n",
              "      <th>0</th>\n",
              "      <td>3.87</td>\n",
              "      <td>2.65</td>\n",
              "      <td>0</td>\n",
              "    </tr>\n",
              "    <tr>\n",
              "      <th>1</th>\n",
              "      <td>2.65</td>\n",
              "      <td>3.63</td>\n",
              "      <td>0</td>\n",
              "    </tr>\n",
              "    <tr>\n",
              "      <th>2</th>\n",
              "      <td>4.93</td>\n",
              "      <td>5.50</td>\n",
              "      <td>0</td>\n",
              "    </tr>\n",
              "    <tr>\n",
              "      <th>3</th>\n",
              "      <td>2.83</td>\n",
              "      <td>2.95</td>\n",
              "      <td>0</td>\n",
              "    </tr>\n",
              "    <tr>\n",
              "      <th>4</th>\n",
              "      <td>4.07</td>\n",
              "      <td>4.00</td>\n",
              "      <td>0</td>\n",
              "    </tr>\n",
              "    <tr>\n",
              "      <th>5</th>\n",
              "      <td>8.27</td>\n",
              "      <td>3.57</td>\n",
              "      <td>1</td>\n",
              "    </tr>\n",
              "    <tr>\n",
              "      <th>6</th>\n",
              "      <td>6.36</td>\n",
              "      <td>3.09</td>\n",
              "      <td>1</td>\n",
              "    </tr>\n",
              "    <tr>\n",
              "      <th>7</th>\n",
              "      <td>7.99</td>\n",
              "      <td>2.97</td>\n",
              "      <td>1</td>\n",
              "    </tr>\n",
              "    <tr>\n",
              "      <th>8</th>\n",
              "      <td>9.76</td>\n",
              "      <td>1.42</td>\n",
              "      <td>1</td>\n",
              "    </tr>\n",
              "    <tr>\n",
              "      <th>9</th>\n",
              "      <td>8.76</td>\n",
              "      <td>4.60</td>\n",
              "      <td>1</td>\n",
              "    </tr>\n",
              "  </tbody>\n",
              "</table>\n",
              "</div>"
            ],
            "text/plain": [
              "     x1    x2  y\n",
              "0  3.87  2.65  0\n",
              "1  2.65  3.63  0\n",
              "2  4.93  5.50  0\n",
              "3  2.83  2.95  0\n",
              "4  4.07  4.00  0\n",
              "5  8.27  3.57  1\n",
              "6  6.36  3.09  1\n",
              "7  7.99  2.97  1\n",
              "8  9.76  1.42  1\n",
              "9  8.76  4.60  1"
            ]
          },
          "metadata": {},
          "execution_count": 19
        }
      ]
    },
    {
      "cell_type": "code",
      "metadata": {
        "id": "8PEAkEoFyjzO"
      },
      "source": [
        "coef=[0.55,0.45,1.25]"
      ],
      "execution_count": null,
      "outputs": []
    },
    {
      "cell_type": "code",
      "metadata": {
        "id": "yCWXS_nCqZzA"
      },
      "source": [
        "def predict(data_row,coef):\n",
        "  yhat=coef[0] + coef[1] * data_row[0] + coef[2] * data_row[1]\n",
        "  return 1/(1+math.exp(-yhat))\n",
        "\n",
        "  #function ne dynamic banavanu  chhe aa static chhe"
      ],
      "execution_count": null,
      "outputs": []
    },
    {
      "cell_type": "code",
      "metadata": {
        "id": "CFzINxAbrwk9"
      },
      "source": [
        "from sklearn.model_selection import train_test_split\n",
        "from sklearn.linear_model import LinearRegression"
      ],
      "execution_count": null,
      "outputs": []
    },
    {
      "cell_type": "code",
      "metadata": {
        "id": "fgLhV-u6sTSt"
      },
      "source": [
        "xtrain,xtest,ytrain,ytest=train_test_split(x,y,random_state=0)"
      ],
      "execution_count": null,
      "outputs": []
    },
    {
      "cell_type": "code",
      "metadata": {
        "id": "6_GxOtj4rw0R"
      },
      "source": [
        "model1=LinearRegression(fit_intercept=True)"
      ],
      "execution_count": null,
      "outputs": []
    },
    {
      "cell_type": "code",
      "metadata": {
        "colab": {
          "base_uri": "https://localhost:8080/"
        },
        "id": "41SbZ3Kasfml",
        "outputId": "8abdd595-d1e1-4f5e-b5ac-e041ddc430f3"
      },
      "source": [
        "model1.fit(xtrain,ytrain)"
      ],
      "execution_count": null,
      "outputs": [
        {
          "output_type": "execute_result",
          "data": {
            "text/plain": [
              "LinearRegression(copy_X=True, fit_intercept=True, n_jobs=None, normalize=False)"
            ]
          },
          "metadata": {},
          "execution_count": 31
        }
      ]
    },
    {
      "cell_type": "code",
      "metadata": {
        "colab": {
          "base_uri": "https://localhost:8080/"
        },
        "id": "m7BIlgpmrw3M",
        "outputId": "4d63459b-b0b2-4be0-eb33-444c52c9e2f4"
      },
      "source": [
        "model1.coef_"
      ],
      "execution_count": null,
      "outputs": [
        {
          "output_type": "execute_result",
          "data": {
            "text/plain": [
              "array([[ 0.19778935, -0.05852555]])"
            ]
          },
          "metadata": {},
          "execution_count": 32
        }
      ]
    },
    {
      "cell_type": "code",
      "metadata": {
        "id": "KnYijiDLrw5u"
      },
      "source": [
        ""
      ],
      "execution_count": null,
      "outputs": []
    },
    {
      "cell_type": "code",
      "metadata": {
        "colab": {
          "base_uri": "https://localhost:8080/"
        },
        "id": "9zGuUkymrRpA",
        "outputId": "63021a92-b450-4e22-a728-9d833e6c1ad4"
      },
      "source": [
        "for data_row in data:\n",
        "  z= predict(data_row,coef)\n",
        "  print(\"expected\", data_row[2],\"calculated\",z,\"rountded\",round(z))"
      ],
      "execution_count": null,
      "outputs": [
        {
          "output_type": "stream",
          "name": "stdout",
          "text": [
            "expected 0.0 calculated 0.03619551521603463 rountded 0\n",
            "expected 0.0 calculated 1.8099674901558454e-06 rountded 0\n",
            "expected 0.0 calculated 3.344598830206283e-07 rountded 0\n",
            "expected 0.0 calculated 0.0001470982771366144 rountded 0\n",
            "expected 0.0 calculated 4.902292808135479e-05 rountded 0\n",
            "expected 1.0 calculated 0.9997199726862912 rountded 1\n",
            "expected 1.0 calculated 0.9745719358906123 rountded 1\n",
            "expected 1.0 calculated 0.999970032362334 rountded 1\n",
            "expected 1.0 calculated 0.9999999999918967 rountded 1\n",
            "expected 1.0 calculated 0.9876119653699826 rountded 1\n"
          ]
        }
      ]
    },
    {
      "cell_type": "code",
      "metadata": {
        "id": "xCH5w6e3rqBq"
      },
      "source": [
        "import math "
      ],
      "execution_count": null,
      "outputs": []
    },
    {
      "cell_type": "code",
      "metadata": {
        "colab": {
          "base_uri": "https://localhost:8080/"
        },
        "id": "ark4JILMyvyj",
        "outputId": "0d7a0fb3-11d5-4bdc-b55d-88ffa575b8f6"
      },
      "source": [
        "for i in range(300):\n",
        "  sum_error=0\n",
        "  lr=0.001\n",
        "  for data_row in data:\n",
        "    z=predict(data_row,coef)\n",
        "    error=data_row[2]-z\n",
        "    sum_error += error**2\n",
        "    coef[0]=coef[0]+lr*error*z*(1-z)\n",
        "    coef[1]=coef[1]+lr*error*data_row[0]*z*(1-z)\n",
        "    coef[2]=coef[2]+lr*error*data_row[1]*z*(1-z)\n",
        "  print(sum_error)\n",
        "\n",
        "  #number of iterartion is aslocalled epock"
      ],
      "execution_count": null,
      "outputs": [
        {
          "output_type": "stream",
          "name": "stdout",
          "text": [
            "0.0021108822769477517\n",
            "0.0021108804247774553\n",
            "0.002110878572610902\n",
            "0.0021108767204481085\n",
            "0.0021108748682890895\n",
            "0.0021108730161338274\n",
            "0.0021108711639823345\n",
            "0.002110869311834617\n",
            "0.0021108674596906464\n",
            "0.002110865607550439\n",
            "0.002110863755414029\n",
            "0.0021108619032813455\n",
            "0.0021108600511524555\n",
            "0.0021108581990273083\n",
            "0.002110856346905927\n",
            "0.0021108544947883155\n",
            "0.002110852642674463\n",
            "0.0021108507905643753\n",
            "0.0021108489384580563\n",
            "0.0021108470863555\n",
            "0.0021108452342567083\n",
            "0.0021108433821616507\n",
            "0.0021108415300703947\n",
            "0.002110839677982895\n",
            "0.0021108378258991286\n",
            "0.002110835973819148\n",
            "0.0021108341217429176\n",
            "0.002110832269670466\n",
            "0.0021108304176017502\n",
            "0.002110828565536831\n",
            "0.0021108267134756437\n",
            "0.0021108248614182304\n",
            "0.00211082300936457\n",
            "0.002110821157314674\n",
            "0.002110819305268532\n",
            "0.0021108174532261594\n",
            "0.0021108156011875596\n",
            "0.0021108137491527026\n",
            "0.0021108118971216064\n",
            "0.002110810045094267\n",
            "0.002110808193070695\n",
            "0.00211080634105087\n",
            "0.0021108044890348105\n",
            "0.002110802637022521\n",
            "0.0021108007850139682\n",
            "0.002110798933009203\n",
            "0.0021107970810081804\n",
            "0.002110795229010921\n",
            "0.002110793377017391\n",
            "0.0021107915250276467\n",
            "0.0021107896730416624\n",
            "0.002110787821059427\n",
            "0.0021107859690809518\n",
            "0.002110784117106227\n",
            "0.0021107822651352656\n",
            "0.0021107804131680506\n",
            "0.002110778561204606\n",
            "0.0021107767092449193\n",
            "0.0021107748572889787\n",
            "0.00211077300533679\n",
            "0.0021107711533883706\n",
            "0.0021107693014436974\n",
            "0.0021107674495027926\n",
            "0.0021107655975656186\n",
            "0.002110763745632218\n",
            "0.0021107618937025764\n",
            "0.0021107600417766916\n",
            "0.002110758189854549\n",
            "0.0021107563379361613\n",
            "0.002110754486021539\n",
            "0.0021107526341106572\n",
            "0.002110750782203547\n",
            "0.002110748930300183\n",
            "0.002110747078400567\n",
            "0.00211074522650471\n",
            "0.002110743374612595\n",
            "0.0021107415227242425\n",
            "0.0021107396708396477\n",
            "0.002110737818958797\n",
            "0.002110735967081711\n",
            "0.0021107341152083606\n",
            "0.002110732263338783\n",
            "0.002110730411472944\n",
            "0.002110728559610868\n",
            "0.002110726707752545\n",
            "0.002110724855897955\n",
            "0.002110723004047117\n",
            "0.002110721152200054\n",
            "0.0021107193003567152\n",
            "0.0021107174485171455\n",
            "0.002110715596681324\n",
            "0.002110713744849239\n",
            "0.0021107118930209193\n",
            "0.002110710041196342\n",
            "0.0021107081893755263\n",
            "0.0021107063375584577\n",
            "0.0021107044857451387\n",
            "0.002110702633935566\n",
            "0.002110700782129748\n",
            "0.0021106989303276793\n",
            "0.002110697078529355\n",
            "0.0021106952267347812\n",
            "0.002110693374943947\n",
            "0.0021106915231568673\n",
            "0.002110689671373545\n",
            "0.0021106878195939643\n",
            "0.002110685967818142\n",
            "0.0021106841160460476\n",
            "0.0021106822642777095\n",
            "0.002110680412513132\n",
            "0.0021106785607522853\n",
            "0.0021106767089952056\n",
            "0.0021106748572418664\n",
            "0.002110673005492251\n",
            "0.0021106711537464025\n",
            "0.0021106693020043104\n",
            "0.0021106674502659375\n",
            "0.0021106655985313424\n",
            "0.0021106637468004574\n",
            "0.002110661895073343\n",
            "0.0021106600433499654\n",
            "0.0021106581916303397\n",
            "0.0021106563399144514\n",
            "0.0021106544882023297\n",
            "0.002110652636493918\n",
            "0.002110650784789273\n",
            "0.0021106489330883745\n",
            "0.0021106470813912048\n",
            "0.002110645229697814\n",
            "0.0021106433780081406\n",
            "0.0021106415263222075\n",
            "0.002110639674640038\n",
            "0.0021106378229616\n",
            "0.002110635971286909\n",
            "0.002110634119615962\n",
            "0.00211063226794875\n",
            "0.0021106304162852884\n",
            "0.0021106285646255714\n",
            "0.0021106267129696057\n",
            "0.0021106248613173588\n",
            "0.002110623009668876\n",
            "0.0021106211580241173\n",
            "0.0021106193063831144\n",
            "0.002110617454745861\n",
            "0.0021106156031123332\n",
            "0.0021106137514825605\n",
            "0.0021106118998565123\n",
            "0.0021106100482342245\n",
            "0.002110608196615664\n",
            "0.002110606345000857\n",
            "0.002110604493389779\n",
            "0.0021106026417824397\n",
            "0.0021106007901788566\n",
            "0.0021105989385789945\n",
            "0.002110597086982896\n",
            "0.002110595235390528\n",
            "0.0021105933838018857\n",
            "0.0021105915322169894\n",
            "0.0021105896806358367\n",
            "0.002110587829058421\n",
            "0.0021105859774847675\n",
            "0.002110584125914818\n",
            "0.002110582274348634\n",
            "0.0021105804227861845\n",
            "0.002110578571227448\n",
            "0.002110576719672472\n",
            "0.0021105748681212334\n",
            "0.002110573016573744\n",
            "0.0021105711650299713\n",
            "0.002110569313489937\n",
            "0.002110567461953643\n",
            "0.0021105656104211004\n",
            "0.0021105637588922864\n",
            "0.0021105619073672048\n",
            "0.002110560055845853\n",
            "0.0021105582043282663\n",
            "0.002110556352814397\n",
            "0.0021105545013042695\n",
            "0.0021105526497978617\n",
            "0.0021105507982952213\n",
            "0.002110548946796283\n",
            "0.002110547095301085\n",
            "0.0021105452438096558\n",
            "0.0021105433923219357\n",
            "0.0021105415408379465\n",
            "0.0021105396893576996\n",
            "0.0021105378378812084\n",
            "0.0021105359864084287\n",
            "0.0021105341349393876\n",
            "0.0021105322834740737\n",
            "0.0021105304320125106\n",
            "0.0021105285805546664\n",
            "0.002110526729100568\n",
            "0.0021105248776502063\n",
            "0.002110523026203571\n",
            "0.002110521174760659\n",
            "0.0021105193233214884\n",
            "0.0021105174718860594\n",
            "0.002110515620454363\n",
            "0.002110513769026389\n",
            "0.002110511917602149\n",
            "0.0021105100661816313\n",
            "0.002110508214764871\n",
            "0.0021105063633518367\n",
            "0.0021105045119425275\n",
            "0.002110502660536941\n",
            "0.002110500809135109\n",
            "0.002110498957736994\n",
            "0.002110497106342615\n",
            "0.00211049525495196\n",
            "0.0021104934035650535\n",
            "0.0021104915521818505\n",
            "0.0021104897008023976\n",
            "0.00211048784942667\n",
            "0.002110485998054671\n",
            "0.002110484146686416\n",
            "0.00211048229532188\n",
            "0.00211048044396107\n",
            "0.002110478592603988\n",
            "0.002110476741250651\n",
            "0.002110474889901022\n",
            "0.0021104730385551477\n",
            "0.0021104711872129886\n",
            "0.0021104693358745593\n",
            "0.0021104674845398505\n",
            "0.00211046563320888\n",
            "0.0021104637818816405\n",
            "0.002110461930558118\n",
            "0.002110460079238331\n",
            "0.0021104582279222674\n",
            "0.00211045637660994\n",
            "0.0021104545253013414\n",
            "0.0021104526739964503\n",
            "0.0021104508226953006\n",
            "0.0021104489713978805\n",
            "0.0021104471201041906\n",
            "0.002110445268814235\n",
            "0.002110443417527984\n",
            "0.0021104415662454618\n",
            "0.0021104397149666744\n",
            "0.0021104378636916193\n",
            "0.002110436012420277\n",
            "0.002110434161152655\n",
            "0.0021104323098887815\n",
            "0.0021104304586286086\n",
            "0.00211042860737218\n",
            "0.0021104267561194785\n",
            "0.002110424904870498\n",
            "0.0021104230536252285\n",
            "0.002110421202383689\n",
            "0.002110419351145885\n",
            "0.002110417499911806\n",
            "0.002110415648681424\n",
            "0.0021104137974547886\n",
            "0.002110411946231881\n",
            "0.002110410095012687\n",
            "0.0021104082437972205\n",
            "0.0021104063925854915\n",
            "0.0021104045413774795\n",
            "0.0021104026901731664\n",
            "0.002110400838972587\n",
            "0.002110398987775749\n",
            "0.002110397136582626\n",
            "0.002110395285393209\n",
            "0.0021103934342075266\n",
            "0.002110391583025573\n",
            "0.0021103897318473313\n",
            "0.0021103878806728238\n",
            "0.0021103860295020194\n",
            "0.00211038417833495\n",
            "0.0021103823271716128\n",
            "0.0021103804760119796\n",
            "0.0021103786248560653\n",
            "0.0021103767737038707\n",
            "0.0021103749225554087\n",
            "0.002110373071410657\n",
            "0.0021103712202696313\n",
            "0.0021103693691323132\n",
            "0.002110367517998746\n",
            "0.0021103656668688725\n",
            "0.0021103638157427317\n",
            "0.0021103619646203053\n",
            "0.002110360113501599\n",
            "0.0021103582623865943\n",
            "0.0021103564112753344\n",
            "0.0021103545601677907\n",
            "0.002110352709063956\n",
            "0.0021103508579638558\n",
            "0.0021103490068674455\n",
            "0.0021103471557747766\n",
            "0.002110345304685821\n",
            "0.0021103434536005766\n",
            "0.0021103416025190593\n",
            "0.0021103397514412596\n",
            "0.002110337900367171\n",
            "0.002110336049296805\n",
            "0.002110334198230159\n",
            "0.0021103323471672224\n",
            "0.0021103304961079964\n",
            "0.002110328645052507\n"
          ]
        }
      ]
    },
    {
      "cell_type": "code",
      "metadata": {
        "colab": {
          "base_uri": "https://localhost:8080/"
        },
        "id": "LJdt49ZS1WPT",
        "outputId": "cdc1cb19-46e6-4be5-f6f1-63d0d62f433c"
      },
      "source": [
        "from sklearn.datasets import load_breast_cancer\n",
        "df1=pd.DataFrame()\n",
        "df1=load_breast_cancer()\n",
        "type(df1)"
      ],
      "execution_count": null,
      "outputs": [
        {
          "output_type": "execute_result",
          "data": {
            "text/plain": [
              "sklearn.utils.Bunch"
            ]
          },
          "metadata": {},
          "execution_count": 49
        }
      ]
    },
    {
      "cell_type": "code",
      "metadata": {
        "colab": {
          "base_uri": "https://localhost:8080/"
        },
        "id": "tz6VWu2H7ISE",
        "outputId": "9b88c118-122c-4679-ab96-0b4275a80af2"
      },
      "source": [
        "df1.keys()"
      ],
      "execution_count": null,
      "outputs": [
        {
          "output_type": "execute_result",
          "data": {
            "text/plain": [
              "dict_keys(['data', 'target', 'target_names', 'DESCR', 'feature_names', 'filename'])"
            ]
          },
          "metadata": {},
          "execution_count": 50
        }
      ]
    },
    {
      "cell_type": "code",
      "metadata": {
        "colab": {
          "base_uri": "https://localhost:8080/"
        },
        "id": "TNKAor_47ZyD",
        "outputId": "edf73357-c5aa-4f88-86be-63aded25ebd4"
      },
      "source": [
        "df1['data']\n",
        "df1['target']"
      ],
      "execution_count": null,
      "outputs": [
        {
          "output_type": "execute_result",
          "data": {
            "text/plain": [
              "array([0, 0, 0, 0, 0, 0, 0, 0, 0, 0, 0, 0, 0, 0, 0, 0, 0, 0, 0, 1, 1, 1,\n",
              "       0, 0, 0, 0, 0, 0, 0, 0, 0, 0, 0, 0, 0, 0, 0, 1, 0, 0, 0, 0, 0, 0,\n",
              "       0, 0, 1, 0, 1, 1, 1, 1, 1, 0, 0, 1, 0, 0, 1, 1, 1, 1, 0, 1, 0, 0,\n",
              "       1, 1, 1, 1, 0, 1, 0, 0, 1, 0, 1, 0, 0, 1, 1, 1, 0, 0, 1, 0, 0, 0,\n",
              "       1, 1, 1, 0, 1, 1, 0, 0, 1, 1, 1, 0, 0, 1, 1, 1, 1, 0, 1, 1, 0, 1,\n",
              "       1, 1, 1, 1, 1, 1, 1, 0, 0, 0, 1, 0, 0, 1, 1, 1, 0, 0, 1, 0, 1, 0,\n",
              "       0, 1, 0, 0, 1, 1, 0, 1, 1, 0, 1, 1, 1, 1, 0, 1, 1, 1, 1, 1, 1, 1,\n",
              "       1, 1, 0, 1, 1, 1, 1, 0, 0, 1, 0, 1, 1, 0, 0, 1, 1, 0, 0, 1, 1, 1,\n",
              "       1, 0, 1, 1, 0, 0, 0, 1, 0, 1, 0, 1, 1, 1, 0, 1, 1, 0, 0, 1, 0, 0,\n",
              "       0, 0, 1, 0, 0, 0, 1, 0, 1, 0, 1, 1, 0, 1, 0, 0, 0, 0, 1, 1, 0, 0,\n",
              "       1, 1, 1, 0, 1, 1, 1, 1, 1, 0, 0, 1, 1, 0, 1, 1, 0, 0, 1, 0, 1, 1,\n",
              "       1, 1, 0, 1, 1, 1, 1, 1, 0, 1, 0, 0, 0, 0, 0, 0, 0, 0, 0, 0, 0, 0,\n",
              "       0, 0, 1, 1, 1, 1, 1, 1, 0, 1, 0, 1, 1, 0, 1, 1, 0, 1, 0, 0, 1, 1,\n",
              "       1, 1, 1, 1, 1, 1, 1, 1, 1, 1, 1, 0, 1, 1, 0, 1, 0, 1, 1, 1, 1, 1,\n",
              "       1, 1, 1, 1, 1, 1, 1, 1, 1, 0, 1, 1, 1, 0, 1, 0, 1, 1, 1, 1, 0, 0,\n",
              "       0, 1, 1, 1, 1, 0, 1, 0, 1, 0, 1, 1, 1, 0, 1, 1, 1, 1, 1, 1, 1, 0,\n",
              "       0, 0, 1, 1, 1, 1, 1, 1, 1, 1, 1, 1, 1, 0, 0, 1, 0, 0, 0, 1, 0, 0,\n",
              "       1, 1, 1, 1, 1, 0, 1, 1, 1, 1, 1, 0, 1, 1, 1, 0, 1, 1, 0, 0, 1, 1,\n",
              "       1, 1, 1, 1, 0, 1, 1, 1, 1, 1, 1, 1, 0, 1, 1, 1, 1, 1, 0, 1, 1, 0,\n",
              "       1, 1, 1, 1, 1, 1, 1, 1, 1, 1, 1, 1, 0, 1, 0, 0, 1, 0, 1, 1, 1, 1,\n",
              "       1, 0, 1, 1, 0, 1, 0, 1, 1, 0, 1, 0, 1, 1, 1, 1, 1, 1, 1, 1, 0, 0,\n",
              "       1, 1, 1, 1, 1, 1, 0, 1, 1, 1, 1, 1, 1, 1, 1, 1, 1, 0, 1, 1, 1, 1,\n",
              "       1, 1, 1, 0, 1, 0, 1, 1, 0, 1, 1, 1, 1, 1, 0, 0, 1, 0, 1, 0, 1, 1,\n",
              "       1, 1, 1, 0, 1, 1, 0, 1, 0, 1, 0, 0, 1, 1, 1, 0, 1, 1, 1, 1, 1, 1,\n",
              "       1, 1, 1, 1, 1, 0, 1, 0, 0, 1, 1, 1, 1, 1, 1, 1, 1, 1, 1, 1, 1, 1,\n",
              "       1, 1, 1, 1, 1, 1, 1, 1, 1, 1, 1, 1, 0, 0, 0, 0, 0, 0, 1])"
            ]
          },
          "metadata": {},
          "execution_count": 52
        }
      ]
    },
    {
      "cell_type": "code",
      "metadata": {
        "id": "0oOMZA6f755N"
      },
      "source": [
        ""
      ],
      "execution_count": null,
      "outputs": []
    }
  ]
}